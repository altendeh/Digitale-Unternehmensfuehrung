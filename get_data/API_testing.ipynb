{
 "cells": [
  {
   "cell_type": "code",
   "execution_count": 23,
   "metadata": {},
   "outputs": [],
   "source": [
    "import pandas as pd\n",
    "import yfinance as yf\n",
    "import matplotlib.pyplot as plt\n",
    "import mplfinance as mpf\n",
    "import matplotlib.dates as mdates\n",
    "import plotly.graph_objects as go\n",
    "import dash\n",
    "import dash_core_components as dcc\n",
    "import dash_html_components as html\n",
    "from dash.dependencies import Input, Output, State\n",
    "import streamlit as st\n",
    "import random\n"
   ]
  },
  {
   "cell_type": "code",
   "execution_count": 2,
   "metadata": {},
   "outputs": [],
   "source": [
    "# Anzahl der angezeigten Reihen auf 70 erhöhen\n",
    "pd.set_option('display.max_rows', 70)\n"
   ]
  },
  {
   "cell_type": "code",
   "execution_count": 3,
   "metadata": {},
   "outputs": [
    {
     "name": "stdout",
     "output_type": "stream",
     "text": [
      "<class 'pandas.core.frame.DataFrame'>\n",
      "DatetimeIndex: 546 entries, 2025-02-06 09:30:00-05:00 to 2025-02-14 15:55:00-05:00\n",
      "Data columns (total 7 columns):\n",
      " #   Column        Non-Null Count  Dtype  \n",
      "---  ------        --------------  -----  \n",
      " 0   Open          546 non-null    float64\n",
      " 1   High          546 non-null    float64\n",
      " 2   Low           546 non-null    float64\n",
      " 3   Close         546 non-null    float64\n",
      " 4   Volume        546 non-null    int64  \n",
      " 5   Dividends     546 non-null    float64\n",
      " 6   Stock Splits  546 non-null    float64\n",
      "dtypes: float64(6), int64(1)\n",
      "memory usage: 34.1 KB\n",
      "None\n"
     ]
    }
   ],
   "source": [
    "# Request historical data for past 7 days\n",
    "data = yf.Ticker(\"NVDA\").history(period='7d', interval='5m')\n",
    "# Show info\n",
    "print(data.info())"
   ]
  },
  {
   "cell_type": "code",
   "execution_count": 4,
   "metadata": {},
   "outputs": [
    {
     "data": {
      "text/html": [
       "<div>\n",
       "<style scoped>\n",
       "    .dataframe tbody tr th:only-of-type {\n",
       "        vertical-align: middle;\n",
       "    }\n",
       "\n",
       "    .dataframe tbody tr th {\n",
       "        vertical-align: top;\n",
       "    }\n",
       "\n",
       "    .dataframe thead th {\n",
       "        text-align: right;\n",
       "    }\n",
       "</style>\n",
       "<table border=\"1\" class=\"dataframe\">\n",
       "  <thead>\n",
       "    <tr style=\"text-align: right;\">\n",
       "      <th></th>\n",
       "      <th>Open</th>\n",
       "      <th>High</th>\n",
       "      <th>Low</th>\n",
       "      <th>Close</th>\n",
       "      <th>Volume</th>\n",
       "      <th>Dividends</th>\n",
       "      <th>Stock Splits</th>\n",
       "    </tr>\n",
       "    <tr>\n",
       "      <th>Datetime</th>\n",
       "      <th></th>\n",
       "      <th></th>\n",
       "      <th></th>\n",
       "      <th></th>\n",
       "      <th></th>\n",
       "      <th></th>\n",
       "      <th></th>\n",
       "    </tr>\n",
       "  </thead>\n",
       "  <tbody>\n",
       "    <tr>\n",
       "      <th>2025-02-06 09:30:00-05:00</th>\n",
       "      <td>127.419998</td>\n",
       "      <td>127.500000</td>\n",
       "      <td>126.230003</td>\n",
       "      <td>126.256203</td>\n",
       "      <td>24502626</td>\n",
       "      <td>0.0</td>\n",
       "      <td>0.0</td>\n",
       "    </tr>\n",
       "    <tr>\n",
       "      <th>2025-02-06 09:35:00-05:00</th>\n",
       "      <td>126.250000</td>\n",
       "      <td>126.480003</td>\n",
       "      <td>125.209999</td>\n",
       "      <td>125.855003</td>\n",
       "      <td>7780087</td>\n",
       "      <td>0.0</td>\n",
       "      <td>0.0</td>\n",
       "    </tr>\n",
       "    <tr>\n",
       "      <th>2025-02-06 09:40:00-05:00</th>\n",
       "      <td>125.861900</td>\n",
       "      <td>126.000000</td>\n",
       "      <td>125.230003</td>\n",
       "      <td>125.665001</td>\n",
       "      <td>4679595</td>\n",
       "      <td>0.0</td>\n",
       "      <td>0.0</td>\n",
       "    </tr>\n",
       "    <tr>\n",
       "      <th>2025-02-06 09:45:00-05:00</th>\n",
       "      <td>125.669998</td>\n",
       "      <td>126.500000</td>\n",
       "      <td>125.669998</td>\n",
       "      <td>126.275002</td>\n",
       "      <td>6096378</td>\n",
       "      <td>0.0</td>\n",
       "      <td>0.0</td>\n",
       "    </tr>\n",
       "    <tr>\n",
       "      <th>2025-02-06 09:50:00-05:00</th>\n",
       "      <td>126.279999</td>\n",
       "      <td>127.019997</td>\n",
       "      <td>125.959999</td>\n",
       "      <td>126.749901</td>\n",
       "      <td>4846489</td>\n",
       "      <td>0.0</td>\n",
       "      <td>0.0</td>\n",
       "    </tr>\n",
       "  </tbody>\n",
       "</table>\n",
       "</div>"
      ],
      "text/plain": [
       "                                 Open        High         Low       Close  \\\n",
       "Datetime                                                                    \n",
       "2025-02-06 09:30:00-05:00  127.419998  127.500000  126.230003  126.256203   \n",
       "2025-02-06 09:35:00-05:00  126.250000  126.480003  125.209999  125.855003   \n",
       "2025-02-06 09:40:00-05:00  125.861900  126.000000  125.230003  125.665001   \n",
       "2025-02-06 09:45:00-05:00  125.669998  126.500000  125.669998  126.275002   \n",
       "2025-02-06 09:50:00-05:00  126.279999  127.019997  125.959999  126.749901   \n",
       "\n",
       "                             Volume  Dividends  Stock Splits  \n",
       "Datetime                                                      \n",
       "2025-02-06 09:30:00-05:00  24502626        0.0           0.0  \n",
       "2025-02-06 09:35:00-05:00   7780087        0.0           0.0  \n",
       "2025-02-06 09:40:00-05:00   4679595        0.0           0.0  \n",
       "2025-02-06 09:45:00-05:00   6096378        0.0           0.0  \n",
       "2025-02-06 09:50:00-05:00   4846489        0.0           0.0  "
      ]
     },
     "execution_count": 4,
     "metadata": {},
     "output_type": "execute_result"
    }
   ],
   "source": [
    "data.head()"
   ]
  },
  {
   "cell_type": "code",
   "execution_count": 5,
   "metadata": {},
   "outputs": [
    {
     "name": "stdout",
     "output_type": "stream",
     "text": [
      "Branche: Technology\n",
      "Herkunftsland: United States\n"
     ]
    },
    {
     "data": {
      "image/png": "[encoded data removed]",
      "text/plain": [
       "<Figure size 1000x500 with 1 Axes>"
      ]
     },
     "metadata": {},
     "output_type": "display_data"
    }
   ],
   "source": [
    "# Lade historische Daten für Apple\n",
    "apple = yf.Ticker(\"AAPL\")\n",
    "hist = apple.history(period=\"2y\")\n",
    "\n",
    "# Abrufen der Unternehmensinformationen\n",
    "info = apple.info\n",
    "\n",
    "# Anzeigen der Branche und des Herkunftslandes\n",
    "print(\"Branche:\", info.get('sector'))\n",
    "print(\"Herkunftsland:\", info.get('country'))\n",
    "\n",
    "# Erstelle das Diagramm\n",
    "plt.figure(figsize=(10, 5))\n",
    "plt.plot(hist.index, hist['Close'], label='Close Price')\n",
    "\n",
    "# Setze die X-Achse auf monatliche Intervalle\n",
    "plt.gca().xaxis.set_major_locator(mdates.MonthLocator())\n",
    "plt.gca().xaxis.set_major_formatter(mdates.DateFormatter('%b'))\n",
    "\n",
    "# Rotieren der Monatskürzel für bessere Lesbarkeit\n",
    "plt.gcf().autofmt_xdate()\n",
    "\n",
    "# Beschriftungen und Titel\n",
    "plt.xlabel('Date')\n",
    "plt.ylabel('Price')\n",
    "plt.title('Apple Stock Price Evolution')\n",
    "plt.legend()\n",
    "plt.grid(True)\n",
    "plt.tight_layout()\n",
    "\n",
    "# Zeige das Diagramm an\n",
    "plt.show()"
   ]
  },
  {
   "cell_type": "code",
   "execution_count": 6,
   "metadata": {},
   "outputs": [
    {
     "data": {
      "text/plain": [
       "{'address1': 'One Apple Park Way',\n",
       " 'city': 'Cupertino',\n",
       " 'state': 'CA',\n",
       " 'zip': '95014',\n",
       " 'country': 'United States',\n",
       " 'phone': '(408) 996-1010',\n",
       " 'website': 'https://www.apple.com',\n",
       " 'industry': 'Consumer Electronics',\n",
       " 'industryKey': 'consumer-electronics',\n",
       " 'industryDisp': 'Consumer Electronics',\n",
       " 'sector': 'Technology',\n",
       " 'sectorKey': 'technology',\n",
       " 'sectorDisp': 'Technology',\n",
       " 'longBusinessSummary': 'Apple Inc. designs, manufactures, and markets smartphones, personal computers, tablets, wearables, and accessories worldwide. The company offers iPhone, a line of smartphones; Mac, a line of personal computers; iPad, a line of multi-purpose tablets; and wearables, home, and accessories comprising AirPods, Apple TV, Apple Watch, Beats products, and HomePod. It also provides AppleCare support and cloud services; and operates various platforms, including the App Store that allow customers to discover and download applications and digital content, such as books, music, video, games, and podcasts, as well as advertising services include third-party licensing arrangements and its own advertising platforms. In addition, the company offers various subscription-based services, such as Apple Arcade, a game subscription service; Apple Fitness+, a personalized fitness service; Apple Music, which offers users a curated listening experience with on-demand radio stations; Apple News+, a subscription news and magazine service; Apple TV+, which offers exclusive original content; Apple Card, a co-branded credit card; and Apple Pay, a cashless payment service, as well as licenses its intellectual property. The company serves consumers, and small and mid-sized businesses; and the education, enterprise, and government markets. It distributes third-party applications for its products through the App Store. The company also sells its products through its retail and online stores, and direct sales force; and third-party cellular network carriers, wholesalers, retailers, and resellers. Apple Inc. was founded in 1976 and is headquartered in Cupertino, California.',\n",
       " 'fullTimeEmployees': 150000,\n",
       " 'companyOfficers': [{'maxAge': 1,\n",
       "   'name': 'Mr. Timothy D. Cook',\n",
       "   'age': 63,\n",
       "   'title': 'CEO & Director',\n",
       "   'yearBorn': 1961,\n",
       "   'fiscalYear': 2023,\n",
       "   'totalPay': 16239562,\n",
       "   'exercisedValue': 0,\n",
       "   'unexercisedValue': 0},\n",
       "  {'maxAge': 1,\n",
       "   'name': 'Mr. Jeffrey E. Williams',\n",
       "   'age': 60,\n",
       "   'title': 'Chief Operating Officer',\n",
       "   'yearBorn': 1964,\n",
       "   'fiscalYear': 2023,\n",
       "   'totalPay': 4637585,\n",
       "   'exercisedValue': 0,\n",
       "   'unexercisedValue': 0},\n",
       "  {'maxAge': 1,\n",
       "   'name': 'Ms. Katherine L. Adams',\n",
       "   'age': 60,\n",
       "   'title': 'Senior VP, General Counsel & Secretary',\n",
       "   'yearBorn': 1964,\n",
       "   'fiscalYear': 2023,\n",
       "   'totalPay': 4618064,\n",
       "   'exercisedValue': 0,\n",
       "   'unexercisedValue': 0},\n",
       "  {'maxAge': 1,\n",
       "   'name': \"Ms. Deirdre  O'Brien\",\n",
       "   'age': 57,\n",
       "   'title': 'Chief People Officer & Senior VP of Retail',\n",
       "   'yearBorn': 1967,\n",
       "   'fiscalYear': 2023,\n",
       "   'totalPay': 4613369,\n",
       "   'exercisedValue': 0,\n",
       "   'unexercisedValue': 0},\n",
       "  {'maxAge': 1,\n",
       "   'name': 'Mr. Kevan  Parekh',\n",
       "   'age': 52,\n",
       "   'title': 'Senior VP & CFO',\n",
       "   'yearBorn': 1972,\n",
       "   'fiscalYear': 2023,\n",
       "   'exercisedValue': 0,\n",
       "   'unexercisedValue': 0},\n",
       "  {'maxAge': 1,\n",
       "   'name': 'Mr. Chris  Kondo',\n",
       "   'title': 'Senior Director of Corporate Accounting',\n",
       "   'fiscalYear': 2023,\n",
       "   'exercisedValue': 0,\n",
       "   'unexercisedValue': 0},\n",
       "  {'maxAge': 1,\n",
       "   'name': 'Suhasini  Chandramouli',\n",
       "   'title': 'Director of Investor Relations',\n",
       "   'fiscalYear': 2023,\n",
       "   'exercisedValue': 0,\n",
       "   'unexercisedValue': 0},\n",
       "  {'maxAge': 1,\n",
       "   'name': 'Ms. Kristin Huguet Quayle',\n",
       "   'title': 'Vice President of Worldwide Communications',\n",
       "   'fiscalYear': 2023,\n",
       "   'exercisedValue': 0,\n",
       "   'unexercisedValue': 0},\n",
       "  {'maxAge': 1,\n",
       "   'name': 'Mr. Greg  Joswiak',\n",
       "   'title': 'Senior Vice President of Worldwide Marketing',\n",
       "   'fiscalYear': 2023,\n",
       "   'exercisedValue': 0,\n",
       "   'unexercisedValue': 0},\n",
       "  {'maxAge': 1,\n",
       "   'name': 'Mr. Adrian  Perica',\n",
       "   'age': 50,\n",
       "   'title': 'Vice President of Corporate Development',\n",
       "   'yearBorn': 1974,\n",
       "   'fiscalYear': 2023,\n",
       "   'exercisedValue': 0,\n",
       "   'unexercisedValue': 0}],\n",
       " 'auditRisk': 3,\n",
       " 'boardRisk': 1,\n",
       " 'compensationRisk': 3,\n",
       " 'shareHolderRightsRisk': 1,\n",
       " 'overallRisk': 1,\n",
       " 'governanceEpochDate': 1738368000,\n",
       " 'compensationAsOfEpochDate': 1703980800,\n",
       " 'irWebsite': 'http://investor.apple.com/',\n",
       " 'maxAge': 86400,\n",
       " 'priceHint': 2,\n",
       " 'previousClose': 241.53,\n",
       " 'open': 241.07,\n",
       " 'dayLow': 241.0,\n",
       " 'dayHigh': 245.41,\n",
       " 'regularMarketPreviousClose': 241.53,\n",
       " 'regularMarketOpen': 241.07,\n",
       " 'regularMarketDayLow': 241.0,\n",
       " 'regularMarketDayHigh': 245.41,\n",
       " 'dividendRate': 1.0,\n",
       " 'dividendYield': 0.0041,\n",
       " 'exDividendDate': 1739145600,\n",
       " 'payoutRatio': 0.1571,\n",
       " 'fiveYearAvgDividendYield': 0.6,\n",
       " 'beta': 1.2,\n",
       " 'trailingPE': 38.825397,\n",
       " 'forwardPE': 29.657543,\n",
       " 'volume': 40145605,\n",
       " 'regularMarketVolume': 40145605,\n",
       " 'averageVolume': 50559971,\n",
       " 'averageVolume10days': 51407910,\n",
       " 'averageDailyVolume10Day': 51407910,\n",
       " 'bid': 244.44,\n",
       " 'ask': 253.37,\n",
       " 'bidSize': 200,\n",
       " 'askSize': 100,\n",
       " 'marketCap': 3674405863424,\n",
       " 'fiftyTwoWeekLow': 164.08,\n",
       " 'fiftyTwoWeekHigh': 260.1,\n",
       " 'priceToSalesTrailing12Months': 9.28443,\n",
       " 'fiftyDayAverage': 240.4064,\n",
       " 'twoHundredDayAverage': 222.60655,\n",
       " 'trailingAnnualDividendRate': 0.99,\n",
       " 'trailingAnnualDividendYield': 0.00409887,\n",
       " 'currency': 'USD',\n",
       " 'enterpriseValue': 3671305224192,\n",
       " 'profitMargins': 0.24295,\n",
       " 'floatShares': 14998037683,\n",
       " 'sharesOutstanding': 15022100480,\n",
       " 'sharesShort': 124917523,\n",
       " 'sharesShortPriorMonth': 157008120,\n",
       " 'sharesShortPreviousMonthDate': 1735603200,\n",
       " 'dateShortInterest': 1738281600,\n",
       " 'sharesPercentSharesOut': 0.0083,\n",
       " 'heldPercentInsiders': 0.02268,\n",
       " 'heldPercentInstitutions': 0.62561,\n",
       " 'shortRatio': 2.12,\n",
       " 'shortPercentOfFloat': 0.0083,\n",
       " 'impliedSharesOutstanding': 15390999552,\n",
       " 'bookValue': 4.438,\n",
       " 'priceToBook': 55.114914,\n",
       " 'lastFiscalYearEnd': 1727481600,\n",
       " 'nextFiscalYearEnd': 1759017600,\n",
       " 'mostRecentQuarter': 1735344000,\n",
       " 'earningsQuarterlyGrowth': 0.071,\n",
       " 'netIncomeToCommon': 96150003712,\n",
       " 'trailingEps': 6.3,\n",
       " 'forwardEps': 8.31,\n",
       " 'lastSplitFactor': '4:1',\n",
       " 'lastSplitDate': 1598832000,\n",
       " 'enterpriseToRevenue': 9.277,\n",
       " 'enterpriseToEbitda': 26.729,\n",
       " '52WeekChange': 0.32483137,\n",
       " 'SandP52WeekChange': 0.2216531,\n",
       " 'lastDividendValue': 0.25,\n",
       " 'lastDividendDate': 1739145600,\n",
       " 'exchange': 'NMS',\n",
       " 'quoteType': 'EQUITY',\n",
       " 'symbol': 'AAPL',\n",
       " 'underlyingSymbol': 'AAPL',\n",
       " 'shortName': 'Apple Inc.',\n",
       " 'longName': 'Apple Inc.',\n",
       " 'firstTradeDateEpochUtc': 345479400,\n",
       " 'timeZoneFullName': 'America/New_York',\n",
       " 'timeZoneShortName': 'EST',\n",
       " 'uuid': '8b10e4ae-9eeb-3684-921a-9ab27e4d87aa',\n",
       " 'messageBoardId': 'finmb_24937',\n",
       " 'gmtOffSetMilliseconds': -18000000,\n",
       " 'currentPrice': 244.6,\n",
       " 'targetHighPrice': 325.0,\n",
       " 'targetLowPrice': 197.0,\n",
       " 'targetMeanPrice': 252.22575,\n",
       " 'targetMedianPrice': 257.5,\n",
       " 'recommendationMean': 2.06522,\n",
       " 'recommendationKey': 'buy',\n",
       " 'numberOfAnalystOpinions': 40,\n",
       " 'totalCash': 53774999552,\n",
       " 'totalCashPerShare': 3.58,\n",
       " 'ebitda': 137352003584,\n",
       " 'totalDebt': 96798998528,\n",
       " 'quickRatio': 0.783,\n",
       " 'currentRatio': 0.923,\n",
       " 'totalRevenue': 395760009216,\n",
       " 'debtToEquity': 145.0,\n",
       " 'revenuePerShare': 25.974,\n",
       " 'returnOnAssets': 0.22518998,\n",
       " 'returnOnEquity': 1.3652,\n",
       " 'grossProfits': 184102993920,\n",
       " 'freeCashflow': 93833871360,\n",
       " 'operatingCashflow': 108293996544,\n",
       " 'earningsGrowth': 0.101,\n",
       " 'revenueGrowth': 0.04,\n",
       " 'grossMargins': 0.46519002,\n",
       " 'ebitdaMargins': 0.34706002,\n",
       " 'operatingMargins': 0.34459,\n",
       " 'financialCurrency': 'USD',\n",
       " 'trailingPegRatio': 2.2355}"
      ]
     },
     "execution_count": 6,
     "metadata": {},
     "output_type": "execute_result"
    }
   ],
   "source": [
    "apple.info"
   ]
  },
  {
   "cell_type": "code",
   "execution_count": 7,
   "metadata": {},
   "outputs": [
    {
     "data": {
      "image/png": "[encoded data removed]",
      "text/plain": [
       "<Figure size 800x575 with 2 Axes>"
      ]
     },
     "metadata": {},
     "output_type": "display_data"
    }
   ],
   "source": [
    "# Plot the candlestick chart\n",
    "mpf.plot(hist, type='candle', style='charles', title='Apple Stock Price Evolution', ylabel='Price')\n"
   ]
  },
  {
   "cell_type": "code",
   "execution_count": 8,
   "metadata": {},
   "outputs": [],
   "source": [
    "\n",
    "def plot_stock_evolution(ticker_symbol):\n",
    "    # Lade historische Daten für das angegebene Unternehmen\n",
    "    ticker = yf.Ticker(ticker_symbol)\n",
    "    hist = ticker.history(period=\"2y\")\n",
    "\n",
    "    # Abrufen der Unternehmensinformationen\n",
    "    info = ticker.info\n",
    "\n",
    "    # Anzeigen der Branche und des Herkunftslandes\n",
    "    print(\"Branche:\", info.get('sector'))\n",
    "    print(\"Herkunftsland:\", info.get('country'))\n",
    "\n",
    "    # Erstelle das Diagramm\n",
    "    plt.figure(figsize=(10, 5))\n",
    "    plt.plot(hist.index, hist['Close'], label='Close Price')\n",
    "\n",
    "    # Setze die X-Achse auf monatliche Intervalle\n",
    "    plt.gca().xaxis.set_major_locator(mdates.MonthLocator())\n",
    "    plt.gca().xaxis.set_major_formatter(mdates.DateFormatter('%b %Y'))\n",
    "\n",
    "    # Rotieren der Monatskürzel für bessere Lesbarkeit\n",
    "    plt.gcf().autofmt_xdate()\n",
    "\n",
    "    # Beschriftungen und Titel\n",
    "    plt.xlabel('Date')\n",
    "    plt.ylabel('Price')\n",
    "    plt.title(f'{info.get(\"shortName\")} Stock Price Evolution')\n",
    "    plt.legend()\n",
    "    plt.grid(True)\n",
    "    plt.tight_layout()\n",
    "\n",
    "    # Zeige das Diagramm an\n",
    "    plt.show()"
   ]
  },
  {
   "cell_type": "code",
   "execution_count": 9,
   "metadata": {},
   "outputs": [
    {
     "name": "stdout",
     "output_type": "stream",
     "text": [
      "Branche: Consumer Cyclical\n",
      "Herkunftsland: United States\n"
     ]
    },
    {
     "data": {
      "image/png": "[encoded data removed]",
      "text/plain": [
       "<Figure size 1000x500 with 1 Axes>"
      ]
     },
     "metadata": {},
     "output_type": "display_data"
    }
   ],
   "source": [
    "plot_stock_evolution(\"TSLA\")"
   ]
  },
  {
   "cell_type": "code",
   "execution_count": 10,
   "metadata": {},
   "outputs": [
    {
     "data": {
      "text/html": [
       "<div>\n",
       "<style scoped>\n",
       "    .dataframe tbody tr th:only-of-type {\n",
       "        vertical-align: middle;\n",
       "    }\n",
       "\n",
       "    .dataframe tbody tr th {\n",
       "        vertical-align: top;\n",
       "    }\n",
       "\n",
       "    .dataframe thead th {\n",
       "        text-align: right;\n",
       "    }\n",
       "</style>\n",
       "<table border=\"1\" class=\"dataframe\">\n",
       "  <thead>\n",
       "    <tr style=\"text-align: right;\">\n",
       "      <th></th>\n",
       "      <th>2024-09-30</th>\n",
       "      <th>2023-09-30</th>\n",
       "      <th>2022-09-30</th>\n",
       "      <th>2021-09-30</th>\n",
       "      <th>2020-09-30</th>\n",
       "    </tr>\n",
       "  </thead>\n",
       "  <tbody>\n",
       "    <tr>\n",
       "      <th>Treasury Shares Number</th>\n",
       "      <td>NaN</td>\n",
       "      <td>0.0</td>\n",
       "      <td>NaN</td>\n",
       "      <td>NaN</td>\n",
       "      <td>NaN</td>\n",
       "    </tr>\n",
       "    <tr>\n",
       "      <th>Ordinary Shares Number</th>\n",
       "      <td>15116786000.0</td>\n",
       "      <td>15550061000.0</td>\n",
       "      <td>15943425000.0</td>\n",
       "      <td>16426786000.0</td>\n",
       "      <td>NaN</td>\n",
       "    </tr>\n",
       "    <tr>\n",
       "      <th>Share Issued</th>\n",
       "      <td>15116786000.0</td>\n",
       "      <td>15550061000.0</td>\n",
       "      <td>15943425000.0</td>\n",
       "      <td>16426786000.0</td>\n",
       "      <td>NaN</td>\n",
       "    </tr>\n",
       "    <tr>\n",
       "      <th>Net Debt</th>\n",
       "      <td>76686000000.0</td>\n",
       "      <td>81123000000.0</td>\n",
       "      <td>96423000000.0</td>\n",
       "      <td>89779000000.0</td>\n",
       "      <td>NaN</td>\n",
       "    </tr>\n",
       "    <tr>\n",
       "      <th>Total Debt</th>\n",
       "      <td>106629000000.0</td>\n",
       "      <td>111088000000.0</td>\n",
       "      <td>132480000000.0</td>\n",
       "      <td>136522000000.0</td>\n",
       "      <td>NaN</td>\n",
       "    </tr>\n",
       "    <tr>\n",
       "      <th>Tangible Book Value</th>\n",
       "      <td>56950000000.0</td>\n",
       "      <td>62146000000.0</td>\n",
       "      <td>50672000000.0</td>\n",
       "      <td>63090000000.0</td>\n",
       "      <td>NaN</td>\n",
       "    </tr>\n",
       "    <tr>\n",
       "      <th>Invested Capital</th>\n",
       "      <td>163579000000.0</td>\n",
       "      <td>173234000000.0</td>\n",
       "      <td>170741000000.0</td>\n",
       "      <td>187809000000.0</td>\n",
       "      <td>NaN</td>\n",
       "    </tr>\n",
       "    <tr>\n",
       "      <th>Working Capital</th>\n",
       "      <td>-23405000000.0</td>\n",
       "      <td>-1742000000.0</td>\n",
       "      <td>-18577000000.0</td>\n",
       "      <td>9355000000.0</td>\n",
       "      <td>NaN</td>\n",
       "    </tr>\n",
       "    <tr>\n",
       "      <th>Net Tangible Assets</th>\n",
       "      <td>56950000000.0</td>\n",
       "      <td>62146000000.0</td>\n",
       "      <td>50672000000.0</td>\n",
       "      <td>63090000000.0</td>\n",
       "      <td>NaN</td>\n",
       "    </tr>\n",
       "    <tr>\n",
       "      <th>Capital Lease Obligations</th>\n",
       "      <td>NaN</td>\n",
       "      <td>12842000000.0</td>\n",
       "      <td>12411000000.0</td>\n",
       "      <td>11803000000.0</td>\n",
       "      <td>9842000000.0</td>\n",
       "    </tr>\n",
       "    <tr>\n",
       "      <th>Common Stock Equity</th>\n",
       "      <td>56950000000.0</td>\n",
       "      <td>62146000000.0</td>\n",
       "      <td>50672000000.0</td>\n",
       "      <td>63090000000.0</td>\n",
       "      <td>NaN</td>\n",
       "    </tr>\n",
       "    <tr>\n",
       "      <th>Total Capitalization</th>\n",
       "      <td>142700000000.0</td>\n",
       "      <td>157427000000.0</td>\n",
       "      <td>149631000000.0</td>\n",
       "      <td>172196000000.0</td>\n",
       "      <td>NaN</td>\n",
       "    </tr>\n",
       "    <tr>\n",
       "      <th>Total Equity Gross Minority Interest</th>\n",
       "      <td>56950000000.0</td>\n",
       "      <td>62146000000.0</td>\n",
       "      <td>50672000000.0</td>\n",
       "      <td>63090000000.0</td>\n",
       "      <td>NaN</td>\n",
       "    </tr>\n",
       "    <tr>\n",
       "      <th>Stockholders Equity</th>\n",
       "      <td>56950000000.0</td>\n",
       "      <td>62146000000.0</td>\n",
       "      <td>50672000000.0</td>\n",
       "      <td>63090000000.0</td>\n",
       "      <td>NaN</td>\n",
       "    </tr>\n",
       "    <tr>\n",
       "      <th>Gains Losses Not Affecting Retained Earnings</th>\n",
       "      <td>-7172000000.0</td>\n",
       "      <td>-11452000000.0</td>\n",
       "      <td>-11109000000.0</td>\n",
       "      <td>163000000.0</td>\n",
       "      <td>NaN</td>\n",
       "    </tr>\n",
       "    <tr>\n",
       "      <th>Other Equity Adjustments</th>\n",
       "      <td>-7172000000.0</td>\n",
       "      <td>-11452000000.0</td>\n",
       "      <td>-11109000000.0</td>\n",
       "      <td>163000000.0</td>\n",
       "      <td>NaN</td>\n",
       "    </tr>\n",
       "    <tr>\n",
       "      <th>Retained Earnings</th>\n",
       "      <td>-19154000000.0</td>\n",
       "      <td>-214000000.0</td>\n",
       "      <td>-3068000000.0</td>\n",
       "      <td>5562000000.0</td>\n",
       "      <td>NaN</td>\n",
       "    </tr>\n",
       "    <tr>\n",
       "      <th>Capital Stock</th>\n",
       "      <td>83276000000.0</td>\n",
       "      <td>73812000000.0</td>\n",
       "      <td>64849000000.0</td>\n",
       "      <td>57365000000.0</td>\n",
       "      <td>NaN</td>\n",
       "    </tr>\n",
       "    <tr>\n",
       "      <th>Common Stock</th>\n",
       "      <td>83276000000.0</td>\n",
       "      <td>73812000000.0</td>\n",
       "      <td>64849000000.0</td>\n",
       "      <td>57365000000.0</td>\n",
       "      <td>NaN</td>\n",
       "    </tr>\n",
       "    <tr>\n",
       "      <th>Total Liabilities Net Minority Interest</th>\n",
       "      <td>308030000000.0</td>\n",
       "      <td>290437000000.0</td>\n",
       "      <td>302083000000.0</td>\n",
       "      <td>287912000000.0</td>\n",
       "      <td>NaN</td>\n",
       "    </tr>\n",
       "    <tr>\n",
       "      <th>Total Non Current Liabilities Net Minority Interest</th>\n",
       "      <td>131638000000.0</td>\n",
       "      <td>145129000000.0</td>\n",
       "      <td>148101000000.0</td>\n",
       "      <td>162431000000.0</td>\n",
       "      <td>NaN</td>\n",
       "    </tr>\n",
       "    <tr>\n",
       "      <th>Other Non Current Liabilities</th>\n",
       "      <td>36634000000.0</td>\n",
       "      <td>34391000000.0</td>\n",
       "      <td>21737000000.0</td>\n",
       "      <td>18361000000.0</td>\n",
       "      <td>NaN</td>\n",
       "    </tr>\n",
       "    <tr>\n",
       "      <th>Tradeand Other Payables Non Current</th>\n",
       "      <td>9254000000.0</td>\n",
       "      <td>15457000000.0</td>\n",
       "      <td>16657000000.0</td>\n",
       "      <td>24689000000.0</td>\n",
       "      <td>NaN</td>\n",
       "    </tr>\n",
       "    <tr>\n",
       "      <th>Long Term Debt And Capital Lease Obligation</th>\n",
       "      <td>85750000000.0</td>\n",
       "      <td>95281000000.0</td>\n",
       "      <td>109707000000.0</td>\n",
       "      <td>119381000000.0</td>\n",
       "      <td>NaN</td>\n",
       "    </tr>\n",
       "    <tr>\n",
       "      <th>Long Term Capital Lease Obligation</th>\n",
       "      <td>NaN</td>\n",
       "      <td>11267000000.0</td>\n",
       "      <td>10748000000.0</td>\n",
       "      <td>10275000000.0</td>\n",
       "      <td>8382000000.0</td>\n",
       "    </tr>\n",
       "    <tr>\n",
       "      <th>Long Term Debt</th>\n",
       "      <td>85750000000.0</td>\n",
       "      <td>95281000000.0</td>\n",
       "      <td>98959000000.0</td>\n",
       "      <td>109106000000.0</td>\n",
       "      <td>NaN</td>\n",
       "    </tr>\n",
       "    <tr>\n",
       "      <th>Current Liabilities</th>\n",
       "      <td>176392000000.0</td>\n",
       "      <td>145308000000.0</td>\n",
       "      <td>153982000000.0</td>\n",
       "      <td>125481000000.0</td>\n",
       "      <td>NaN</td>\n",
       "    </tr>\n",
       "    <tr>\n",
       "      <th>Other Current Liabilities</th>\n",
       "      <td>51703000000.0</td>\n",
       "      <td>50010000000.0</td>\n",
       "      <td>52630000000.0</td>\n",
       "      <td>45965000000.0</td>\n",
       "      <td>NaN</td>\n",
       "    </tr>\n",
       "    <tr>\n",
       "      <th>Current Deferred Liabilities</th>\n",
       "      <td>8249000000.0</td>\n",
       "      <td>8061000000.0</td>\n",
       "      <td>7912000000.0</td>\n",
       "      <td>7612000000.0</td>\n",
       "      <td>NaN</td>\n",
       "    </tr>\n",
       "    <tr>\n",
       "      <th>Current Deferred Revenue</th>\n",
       "      <td>8249000000.0</td>\n",
       "      <td>8061000000.0</td>\n",
       "      <td>7912000000.0</td>\n",
       "      <td>7612000000.0</td>\n",
       "      <td>NaN</td>\n",
       "    </tr>\n",
       "    <tr>\n",
       "      <th>Current Debt And Capital Lease Obligation</th>\n",
       "      <td>20879000000.0</td>\n",
       "      <td>15807000000.0</td>\n",
       "      <td>22773000000.0</td>\n",
       "      <td>17141000000.0</td>\n",
       "      <td>NaN</td>\n",
       "    </tr>\n",
       "    <tr>\n",
       "      <th>Current Capital Lease Obligation</th>\n",
       "      <td>NaN</td>\n",
       "      <td>1575000000.0</td>\n",
       "      <td>1663000000.0</td>\n",
       "      <td>1528000000.0</td>\n",
       "      <td>1460000000.0</td>\n",
       "    </tr>\n",
       "    <tr>\n",
       "      <th>Current Debt</th>\n",
       "      <td>20879000000.0</td>\n",
       "      <td>15807000000.0</td>\n",
       "      <td>21110000000.0</td>\n",
       "      <td>15613000000.0</td>\n",
       "      <td>NaN</td>\n",
       "    </tr>\n",
       "    <tr>\n",
       "      <th>Other Current Borrowings</th>\n",
       "      <td>10912000000.0</td>\n",
       "      <td>9822000000.0</td>\n",
       "      <td>11128000000.0</td>\n",
       "      <td>9613000000.0</td>\n",
       "      <td>NaN</td>\n",
       "    </tr>\n",
       "    <tr>\n",
       "      <th>Commercial Paper</th>\n",
       "      <td>9967000000.0</td>\n",
       "      <td>5985000000.0</td>\n",
       "      <td>9982000000.0</td>\n",
       "      <td>6000000000.0</td>\n",
       "      <td>NaN</td>\n",
       "    </tr>\n",
       "    <tr>\n",
       "      <th>Payables And Accrued Expenses</th>\n",
       "      <td>95561000000.0</td>\n",
       "      <td>71430000000.0</td>\n",
       "      <td>70667000000.0</td>\n",
       "      <td>54763000000.0</td>\n",
       "      <td>NaN</td>\n",
       "    </tr>\n",
       "    <tr>\n",
       "      <th>Payables</th>\n",
       "      <td>95561000000.0</td>\n",
       "      <td>71430000000.0</td>\n",
       "      <td>70667000000.0</td>\n",
       "      <td>54763000000.0</td>\n",
       "      <td>NaN</td>\n",
       "    </tr>\n",
       "    <tr>\n",
       "      <th>Total Tax Payable</th>\n",
       "      <td>26601000000.0</td>\n",
       "      <td>8819000000.0</td>\n",
       "      <td>6552000000.0</td>\n",
       "      <td>NaN</td>\n",
       "      <td>NaN</td>\n",
       "    </tr>\n",
       "    <tr>\n",
       "      <th>Income Tax Payable</th>\n",
       "      <td>26601000000.0</td>\n",
       "      <td>8819000000.0</td>\n",
       "      <td>6552000000.0</td>\n",
       "      <td>NaN</td>\n",
       "      <td>NaN</td>\n",
       "    </tr>\n",
       "    <tr>\n",
       "      <th>Accounts Payable</th>\n",
       "      <td>68960000000.0</td>\n",
       "      <td>62611000000.0</td>\n",
       "      <td>64115000000.0</td>\n",
       "      <td>54763000000.0</td>\n",
       "      <td>NaN</td>\n",
       "    </tr>\n",
       "    <tr>\n",
       "      <th>Total Assets</th>\n",
       "      <td>364980000000.0</td>\n",
       "      <td>352583000000.0</td>\n",
       "      <td>352755000000.0</td>\n",
       "      <td>351002000000.0</td>\n",
       "      <td>NaN</td>\n",
       "    </tr>\n",
       "    <tr>\n",
       "      <th>Total Non Current Assets</th>\n",
       "      <td>211993000000.0</td>\n",
       "      <td>209017000000.0</td>\n",
       "      <td>217350000000.0</td>\n",
       "      <td>216166000000.0</td>\n",
       "      <td>NaN</td>\n",
       "    </tr>\n",
       "    <tr>\n",
       "      <th>Other Non Current Assets</th>\n",
       "      <td>55335000000.0</td>\n",
       "      <td>46906000000.0</td>\n",
       "      <td>39053000000.0</td>\n",
       "      <td>38762000000.0</td>\n",
       "      <td>NaN</td>\n",
       "    </tr>\n",
       "    <tr>\n",
       "      <th>Non Current Deferred Assets</th>\n",
       "      <td>19499000000.0</td>\n",
       "      <td>17852000000.0</td>\n",
       "      <td>15375000000.0</td>\n",
       "      <td>NaN</td>\n",
       "      <td>NaN</td>\n",
       "    </tr>\n",
       "    <tr>\n",
       "      <th>Non Current Deferred Taxes Assets</th>\n",
       "      <td>19499000000.0</td>\n",
       "      <td>17852000000.0</td>\n",
       "      <td>15375000000.0</td>\n",
       "      <td>NaN</td>\n",
       "      <td>NaN</td>\n",
       "    </tr>\n",
       "    <tr>\n",
       "      <th>Investments And Advances</th>\n",
       "      <td>91479000000.0</td>\n",
       "      <td>100544000000.0</td>\n",
       "      <td>120805000000.0</td>\n",
       "      <td>127877000000.0</td>\n",
       "      <td>NaN</td>\n",
       "    </tr>\n",
       "    <tr>\n",
       "      <th>Other Investments</th>\n",
       "      <td>NaN</td>\n",
       "      <td>NaN</td>\n",
       "      <td>120805000000.0</td>\n",
       "      <td>127877000000.0</td>\n",
       "      <td>100887000000.0</td>\n",
       "    </tr>\n",
       "    <tr>\n",
       "      <th>Investmentin Financial Assets</th>\n",
       "      <td>91479000000.0</td>\n",
       "      <td>100544000000.0</td>\n",
       "      <td>120805000000.0</td>\n",
       "      <td>127877000000.0</td>\n",
       "      <td>NaN</td>\n",
       "    </tr>\n",
       "    <tr>\n",
       "      <th>Available For Sale Securities</th>\n",
       "      <td>91479000000.0</td>\n",
       "      <td>100544000000.0</td>\n",
       "      <td>120805000000.0</td>\n",
       "      <td>127877000000.0</td>\n",
       "      <td>NaN</td>\n",
       "    </tr>\n",
       "    <tr>\n",
       "      <th>Net PPE</th>\n",
       "      <td>45680000000.0</td>\n",
       "      <td>43715000000.0</td>\n",
       "      <td>42117000000.0</td>\n",
       "      <td>49527000000.0</td>\n",
       "      <td>NaN</td>\n",
       "    </tr>\n",
       "    <tr>\n",
       "      <th>Accumulated Depreciation</th>\n",
       "      <td>-73448000000.0</td>\n",
       "      <td>-70884000000.0</td>\n",
       "      <td>-72340000000.0</td>\n",
       "      <td>-70283000000.0</td>\n",
       "      <td>NaN</td>\n",
       "    </tr>\n",
       "    <tr>\n",
       "      <th>Gross PPE</th>\n",
       "      <td>119128000000.0</td>\n",
       "      <td>114599000000.0</td>\n",
       "      <td>114457000000.0</td>\n",
       "      <td>119810000000.0</td>\n",
       "      <td>NaN</td>\n",
       "    </tr>\n",
       "    <tr>\n",
       "      <th>Leases</th>\n",
       "      <td>14233000000.0</td>\n",
       "      <td>12839000000.0</td>\n",
       "      <td>11271000000.0</td>\n",
       "      <td>11023000000.0</td>\n",
       "      <td>NaN</td>\n",
       "    </tr>\n",
       "    <tr>\n",
       "      <th>Other Properties</th>\n",
       "      <td>NaN</td>\n",
       "      <td>10661000000.0</td>\n",
       "      <td>10417000000.0</td>\n",
       "      <td>10087000000.0</td>\n",
       "      <td>8570000000.0</td>\n",
       "    </tr>\n",
       "    <tr>\n",
       "      <th>Machinery Furniture Equipment</th>\n",
       "      <td>80205000000.0</td>\n",
       "      <td>78314000000.0</td>\n",
       "      <td>81060000000.0</td>\n",
       "      <td>78659000000.0</td>\n",
       "      <td>NaN</td>\n",
       "    </tr>\n",
       "    <tr>\n",
       "      <th>Land And Improvements</th>\n",
       "      <td>24690000000.0</td>\n",
       "      <td>23446000000.0</td>\n",
       "      <td>22126000000.0</td>\n",
       "      <td>20041000000.0</td>\n",
       "      <td>NaN</td>\n",
       "    </tr>\n",
       "    <tr>\n",
       "      <th>Properties</th>\n",
       "      <td>0.0</td>\n",
       "      <td>0.0</td>\n",
       "      <td>0.0</td>\n",
       "      <td>0.0</td>\n",
       "      <td>NaN</td>\n",
       "    </tr>\n",
       "    <tr>\n",
       "      <th>Current Assets</th>\n",
       "      <td>152987000000.0</td>\n",
       "      <td>143566000000.0</td>\n",
       "      <td>135405000000.0</td>\n",
       "      <td>134836000000.0</td>\n",
       "      <td>NaN</td>\n",
       "    </tr>\n",
       "    <tr>\n",
       "      <th>Other Current Assets</th>\n",
       "      <td>14287000000.0</td>\n",
       "      <td>14695000000.0</td>\n",
       "      <td>21223000000.0</td>\n",
       "      <td>14111000000.0</td>\n",
       "      <td>NaN</td>\n",
       "    </tr>\n",
       "    <tr>\n",
       "      <th>Inventory</th>\n",
       "      <td>7286000000.0</td>\n",
       "      <td>6331000000.0</td>\n",
       "      <td>4946000000.0</td>\n",
       "      <td>6580000000.0</td>\n",
       "      <td>NaN</td>\n",
       "    </tr>\n",
       "    <tr>\n",
       "      <th>Receivables</th>\n",
       "      <td>66243000000.0</td>\n",
       "      <td>60985000000.0</td>\n",
       "      <td>60932000000.0</td>\n",
       "      <td>51506000000.0</td>\n",
       "      <td>NaN</td>\n",
       "    </tr>\n",
       "    <tr>\n",
       "      <th>Other Receivables</th>\n",
       "      <td>32833000000.0</td>\n",
       "      <td>31477000000.0</td>\n",
       "      <td>32748000000.0</td>\n",
       "      <td>25228000000.0</td>\n",
       "      <td>NaN</td>\n",
       "    </tr>\n",
       "    <tr>\n",
       "      <th>Accounts Receivable</th>\n",
       "      <td>33410000000.0</td>\n",
       "      <td>29508000000.0</td>\n",
       "      <td>28184000000.0</td>\n",
       "      <td>26278000000.0</td>\n",
       "      <td>NaN</td>\n",
       "    </tr>\n",
       "    <tr>\n",
       "      <th>Cash Cash Equivalents And Short Term Investments</th>\n",
       "      <td>65171000000.0</td>\n",
       "      <td>61555000000.0</td>\n",
       "      <td>48304000000.0</td>\n",
       "      <td>62639000000.0</td>\n",
       "      <td>NaN</td>\n",
       "    </tr>\n",
       "    <tr>\n",
       "      <th>Other Short Term Investments</th>\n",
       "      <td>35228000000.0</td>\n",
       "      <td>31590000000.0</td>\n",
       "      <td>24658000000.0</td>\n",
       "      <td>27699000000.0</td>\n",
       "      <td>NaN</td>\n",
       "    </tr>\n",
       "    <tr>\n",
       "      <th>Cash And Cash Equivalents</th>\n",
       "      <td>29943000000.0</td>\n",
       "      <td>29965000000.0</td>\n",
       "      <td>23646000000.0</td>\n",
       "      <td>34940000000.0</td>\n",
       "      <td>NaN</td>\n",
       "    </tr>\n",
       "    <tr>\n",
       "      <th>Cash Equivalents</th>\n",
       "      <td>2744000000.0</td>\n",
       "      <td>1606000000.0</td>\n",
       "      <td>5100000000.0</td>\n",
       "      <td>17635000000.0</td>\n",
       "      <td>NaN</td>\n",
       "    </tr>\n",
       "    <tr>\n",
       "      <th>Cash Financial</th>\n",
       "      <td>27199000000.0</td>\n",
       "      <td>28359000000.0</td>\n",
       "      <td>18546000000.0</td>\n",
       "      <td>17305000000.0</td>\n",
       "      <td>NaN</td>\n",
       "    </tr>\n",
       "  </tbody>\n",
       "</table>\n",
       "</div>"
      ],
      "text/plain": [
       "                                                        2024-09-30  \\\n",
       "Treasury Shares Number                                         NaN   \n",
       "Ordinary Shares Number                               15116786000.0   \n",
       "Share Issued                                         15116786000.0   \n",
       "Net Debt                                             76686000000.0   \n",
       "Total Debt                                          106629000000.0   \n",
       "Tangible Book Value                                  56950000000.0   \n",
       "Invested Capital                                    163579000000.0   \n",
       "Working Capital                                     -23405000000.0   \n",
       "Net Tangible Assets                                  56950000000.0   \n",
       "Capital Lease Obligations                                      NaN   \n",
       "Common Stock Equity                                  56950000000.0   \n",
       "Total Capitalization                                142700000000.0   \n",
       "Total Equity Gross Minority Interest                 56950000000.0   \n",
       "Stockholders Equity                                  56950000000.0   \n",
       "Gains Losses Not Affecting Retained Earnings         -7172000000.0   \n",
       "Other Equity Adjustments                             -7172000000.0   \n",
       "Retained Earnings                                   -19154000000.0   \n",
       "Capital Stock                                        83276000000.0   \n",
       "Common Stock                                         83276000000.0   \n",
       "Total Liabilities Net Minority Interest             308030000000.0   \n",
       "Total Non Current Liabilities Net Minority Inte...  131638000000.0   \n",
       "Other Non Current Liabilities                        36634000000.0   \n",
       "Tradeand Other Payables Non Current                   9254000000.0   \n",
       "Long Term Debt And Capital Lease Obligation          85750000000.0   \n",
       "Long Term Capital Lease Obligation                             NaN   \n",
       "Long Term Debt                                       85750000000.0   \n",
       "Current Liabilities                                 176392000000.0   \n",
       "Other Current Liabilities                            51703000000.0   \n",
       "Current Deferred Liabilities                          8249000000.0   \n",
       "Current Deferred Revenue                              8249000000.0   \n",
       "Current Debt And Capital Lease Obligation            20879000000.0   \n",
       "Current Capital Lease Obligation                               NaN   \n",
       "Current Debt                                         20879000000.0   \n",
       "Other Current Borrowings                             10912000000.0   \n",
       "Commercial Paper                                      9967000000.0   \n",
       "Payables And Accrued Expenses                        95561000000.0   \n",
       "Payables                                             95561000000.0   \n",
       "Total Tax Payable                                    26601000000.0   \n",
       "Income Tax Payable                                   26601000000.0   \n",
       "Accounts Payable                                     68960000000.0   \n",
       "Total Assets                                        364980000000.0   \n",
       "Total Non Current Assets                            211993000000.0   \n",
       "Other Non Current Assets                             55335000000.0   \n",
       "Non Current Deferred Assets                          19499000000.0   \n",
       "Non Current Deferred Taxes Assets                    19499000000.0   \n",
       "Investments And Advances                             91479000000.0   \n",
       "Other Investments                                              NaN   \n",
       "Investmentin Financial Assets                        91479000000.0   \n",
       "Available For Sale Securities                        91479000000.0   \n",
       "Net PPE                                              45680000000.0   \n",
       "Accumulated Depreciation                            -73448000000.0   \n",
       "Gross PPE                                           119128000000.0   \n",
       "Leases                                               14233000000.0   \n",
       "Other Properties                                               NaN   \n",
       "Machinery Furniture Equipment                        80205000000.0   \n",
       "Land And Improvements                                24690000000.0   \n",
       "Properties                                                     0.0   \n",
       "Current Assets                                      152987000000.0   \n",
       "Other Current Assets                                 14287000000.0   \n",
       "Inventory                                             7286000000.0   \n",
       "Receivables                                          66243000000.0   \n",
       "Other Receivables                                    32833000000.0   \n",
       "Accounts Receivable                                  33410000000.0   \n",
       "Cash Cash Equivalents And Short Term Investments     65171000000.0   \n",
       "Other Short Term Investments                         35228000000.0   \n",
       "Cash And Cash Equivalents                            29943000000.0   \n",
       "Cash Equivalents                                      2744000000.0   \n",
       "Cash Financial                                       27199000000.0   \n",
       "\n",
       "                                                        2023-09-30  \\\n",
       "Treasury Shares Number                                         0.0   \n",
       "Ordinary Shares Number                               15550061000.0   \n",
       "Share Issued                                         15550061000.0   \n",
       "Net Debt                                             81123000000.0   \n",
       "Total Debt                                          111088000000.0   \n",
       "Tangible Book Value                                  62146000000.0   \n",
       "Invested Capital                                    173234000000.0   \n",
       "Working Capital                                      -1742000000.0   \n",
       "Net Tangible Assets                                  62146000000.0   \n",
       "Capital Lease Obligations                            12842000000.0   \n",
       "Common Stock Equity                                  62146000000.0   \n",
       "Total Capitalization                                157427000000.0   \n",
       "Total Equity Gross Minority Interest                 62146000000.0   \n",
       "Stockholders Equity                                  62146000000.0   \n",
       "Gains Losses Not Affecting Retained Earnings        -11452000000.0   \n",
       "Other Equity Adjustments                            -11452000000.0   \n",
       "Retained Earnings                                     -214000000.0   \n",
       "Capital Stock                                        73812000000.0   \n",
       "Common Stock                                         73812000000.0   \n",
       "Total Liabilities Net Minority Interest             290437000000.0   \n",
       "Total Non Current Liabilities Net Minority Inte...  145129000000.0   \n",
       "Other Non Current Liabilities                        34391000000.0   \n",
       "Tradeand Other Payables Non Current                  15457000000.0   \n",
       "Long Term Debt And Capital Lease Obligation          95281000000.0   \n",
       "Long Term Capital Lease Obligation                   11267000000.0   \n",
       "Long Term Debt                                       95281000000.0   \n",
       "Current Liabilities                                 145308000000.0   \n",
       "Other Current Liabilities                            50010000000.0   \n",
       "Current Deferred Liabilities                          8061000000.0   \n",
       "Current Deferred Revenue                              8061000000.0   \n",
       "Current Debt And Capital Lease Obligation            15807000000.0   \n",
       "Current Capital Lease Obligation                      1575000000.0   \n",
       "Current Debt                                         15807000000.0   \n",
       "Other Current Borrowings                              9822000000.0   \n",
       "Commercial Paper                                      5985000000.0   \n",
       "Payables And Accrued Expenses                        71430000000.0   \n",
       "Payables                                             71430000000.0   \n",
       "Total Tax Payable                                     8819000000.0   \n",
       "Income Tax Payable                                    8819000000.0   \n",
       "Accounts Payable                                     62611000000.0   \n",
       "Total Assets                                        352583000000.0   \n",
       "Total Non Current Assets                            209017000000.0   \n",
       "Other Non Current Assets                             46906000000.0   \n",
       "Non Current Deferred Assets                          17852000000.0   \n",
       "Non Current Deferred Taxes Assets                    17852000000.0   \n",
       "Investments And Advances                            100544000000.0   \n",
       "Other Investments                                              NaN   \n",
       "Investmentin Financial Assets                       100544000000.0   \n",
       "Available For Sale Securities                       100544000000.0   \n",
       "Net PPE                                              43715000000.0   \n",
       "Accumulated Depreciation                            -70884000000.0   \n",
       "Gross PPE                                           114599000000.0   \n",
       "Leases                                               12839000000.0   \n",
       "Other Properties                                     10661000000.0   \n",
       "Machinery Furniture Equipment                        78314000000.0   \n",
       "Land And Improvements                                23446000000.0   \n",
       "Properties                                                     0.0   \n",
       "Current Assets                                      143566000000.0   \n",
       "Other Current Assets                                 14695000000.0   \n",
       "Inventory                                             6331000000.0   \n",
       "Receivables                                          60985000000.0   \n",
       "Other Receivables                                    31477000000.0   \n",
       "Accounts Receivable                                  29508000000.0   \n",
       "Cash Cash Equivalents And Short Term Investments     61555000000.0   \n",
       "Other Short Term Investments                         31590000000.0   \n",
       "Cash And Cash Equivalents                            29965000000.0   \n",
       "Cash Equivalents                                      1606000000.0   \n",
       "Cash Financial                                       28359000000.0   \n",
       "\n",
       "                                                        2022-09-30  \\\n",
       "Treasury Shares Number                                         NaN   \n",
       "Ordinary Shares Number                               15943425000.0   \n",
       "Share Issued                                         15943425000.0   \n",
       "Net Debt                                             96423000000.0   \n",
       "Total Debt                                          132480000000.0   \n",
       "Tangible Book Value                                  50672000000.0   \n",
       "Invested Capital                                    170741000000.0   \n",
       "Working Capital                                     -18577000000.0   \n",
       "Net Tangible Assets                                  50672000000.0   \n",
       "Capital Lease Obligations                            12411000000.0   \n",
       "Common Stock Equity                                  50672000000.0   \n",
       "Total Capitalization                                149631000000.0   \n",
       "Total Equity Gross Minority Interest                 50672000000.0   \n",
       "Stockholders Equity                                  50672000000.0   \n",
       "Gains Losses Not Affecting Retained Earnings        -11109000000.0   \n",
       "Other Equity Adjustments                            -11109000000.0   \n",
       "Retained Earnings                                    -3068000000.0   \n",
       "Capital Stock                                        64849000000.0   \n",
       "Common Stock                                         64849000000.0   \n",
       "Total Liabilities Net Minority Interest             302083000000.0   \n",
       "Total Non Current Liabilities Net Minority Inte...  148101000000.0   \n",
       "Other Non Current Liabilities                        21737000000.0   \n",
       "Tradeand Other Payables Non Current                  16657000000.0   \n",
       "Long Term Debt And Capital Lease Obligation         109707000000.0   \n",
       "Long Term Capital Lease Obligation                   10748000000.0   \n",
       "Long Term Debt                                       98959000000.0   \n",
       "Current Liabilities                                 153982000000.0   \n",
       "Other Current Liabilities                            52630000000.0   \n",
       "Current Deferred Liabilities                          7912000000.0   \n",
       "Current Deferred Revenue                              7912000000.0   \n",
       "Current Debt And Capital Lease Obligation            22773000000.0   \n",
       "Current Capital Lease Obligation                      1663000000.0   \n",
       "Current Debt                                         21110000000.0   \n",
       "Other Current Borrowings                             11128000000.0   \n",
       "Commercial Paper                                      9982000000.0   \n",
       "Payables And Accrued Expenses                        70667000000.0   \n",
       "Payables                                             70667000000.0   \n",
       "Total Tax Payable                                     6552000000.0   \n",
       "Income Tax Payable                                    6552000000.0   \n",
       "Accounts Payable                                     64115000000.0   \n",
       "Total Assets                                        352755000000.0   \n",
       "Total Non Current Assets                            217350000000.0   \n",
       "Other Non Current Assets                             39053000000.0   \n",
       "Non Current Deferred Assets                          15375000000.0   \n",
       "Non Current Deferred Taxes Assets                    15375000000.0   \n",
       "Investments And Advances                            120805000000.0   \n",
       "Other Investments                                   120805000000.0   \n",
       "Investmentin Financial Assets                       120805000000.0   \n",
       "Available For Sale Securities                       120805000000.0   \n",
       "Net PPE                                              42117000000.0   \n",
       "Accumulated Depreciation                            -72340000000.0   \n",
       "Gross PPE                                           114457000000.0   \n",
       "Leases                                               11271000000.0   \n",
       "Other Properties                                     10417000000.0   \n",
       "Machinery Furniture Equipment                        81060000000.0   \n",
       "Land And Improvements                                22126000000.0   \n",
       "Properties                                                     0.0   \n",
       "Current Assets                                      135405000000.0   \n",
       "Other Current Assets                                 21223000000.0   \n",
       "Inventory                                             4946000000.0   \n",
       "Receivables                                          60932000000.0   \n",
       "Other Receivables                                    32748000000.0   \n",
       "Accounts Receivable                                  28184000000.0   \n",
       "Cash Cash Equivalents And Short Term Investments     48304000000.0   \n",
       "Other Short Term Investments                         24658000000.0   \n",
       "Cash And Cash Equivalents                            23646000000.0   \n",
       "Cash Equivalents                                      5100000000.0   \n",
       "Cash Financial                                       18546000000.0   \n",
       "\n",
       "                                                        2021-09-30  \\\n",
       "Treasury Shares Number                                         NaN   \n",
       "Ordinary Shares Number                               16426786000.0   \n",
       "Share Issued                                         16426786000.0   \n",
       "Net Debt                                             89779000000.0   \n",
       "Total Debt                                          136522000000.0   \n",
       "Tangible Book Value                                  63090000000.0   \n",
       "Invested Capital                                    187809000000.0   \n",
       "Working Capital                                       9355000000.0   \n",
       "Net Tangible Assets                                  63090000000.0   \n",
       "Capital Lease Obligations                            11803000000.0   \n",
       "Common Stock Equity                                  63090000000.0   \n",
       "Total Capitalization                                172196000000.0   \n",
       "Total Equity Gross Minority Interest                 63090000000.0   \n",
       "Stockholders Equity                                  63090000000.0   \n",
       "Gains Losses Not Affecting Retained Earnings           163000000.0   \n",
       "Other Equity Adjustments                               163000000.0   \n",
       "Retained Earnings                                     5562000000.0   \n",
       "Capital Stock                                        57365000000.0   \n",
       "Common Stock                                         57365000000.0   \n",
       "Total Liabilities Net Minority Interest             287912000000.0   \n",
       "Total Non Current Liabilities Net Minority Inte...  162431000000.0   \n",
       "Other Non Current Liabilities                        18361000000.0   \n",
       "Tradeand Other Payables Non Current                  24689000000.0   \n",
       "Long Term Debt And Capital Lease Obligation         119381000000.0   \n",
       "Long Term Capital Lease Obligation                   10275000000.0   \n",
       "Long Term Debt                                      109106000000.0   \n",
       "Current Liabilities                                 125481000000.0   \n",
       "Other Current Liabilities                            45965000000.0   \n",
       "Current Deferred Liabilities                          7612000000.0   \n",
       "Current Deferred Revenue                              7612000000.0   \n",
       "Current Debt And Capital Lease Obligation            17141000000.0   \n",
       "Current Capital Lease Obligation                      1528000000.0   \n",
       "Current Debt                                         15613000000.0   \n",
       "Other Current Borrowings                              9613000000.0   \n",
       "Commercial Paper                                      6000000000.0   \n",
       "Payables And Accrued Expenses                        54763000000.0   \n",
       "Payables                                             54763000000.0   \n",
       "Total Tax Payable                                              NaN   \n",
       "Income Tax Payable                                             NaN   \n",
       "Accounts Payable                                     54763000000.0   \n",
       "Total Assets                                        351002000000.0   \n",
       "Total Non Current Assets                            216166000000.0   \n",
       "Other Non Current Assets                             38762000000.0   \n",
       "Non Current Deferred Assets                                    NaN   \n",
       "Non Current Deferred Taxes Assets                              NaN   \n",
       "Investments And Advances                            127877000000.0   \n",
       "Other Investments                                   127877000000.0   \n",
       "Investmentin Financial Assets                       127877000000.0   \n",
       "Available For Sale Securities                       127877000000.0   \n",
       "Net PPE                                              49527000000.0   \n",
       "Accumulated Depreciation                            -70283000000.0   \n",
       "Gross PPE                                           119810000000.0   \n",
       "Leases                                               11023000000.0   \n",
       "Other Properties                                     10087000000.0   \n",
       "Machinery Furniture Equipment                        78659000000.0   \n",
       "Land And Improvements                                20041000000.0   \n",
       "Properties                                                     0.0   \n",
       "Current Assets                                      134836000000.0   \n",
       "Other Current Assets                                 14111000000.0   \n",
       "Inventory                                             6580000000.0   \n",
       "Receivables                                          51506000000.0   \n",
       "Other Receivables                                    25228000000.0   \n",
       "Accounts Receivable                                  26278000000.0   \n",
       "Cash Cash Equivalents And Short Term Investments     62639000000.0   \n",
       "Other Short Term Investments                         27699000000.0   \n",
       "Cash And Cash Equivalents                            34940000000.0   \n",
       "Cash Equivalents                                     17635000000.0   \n",
       "Cash Financial                                       17305000000.0   \n",
       "\n",
       "                                                        2020-09-30  \n",
       "Treasury Shares Number                                         NaN  \n",
       "Ordinary Shares Number                                         NaN  \n",
       "Share Issued                                                   NaN  \n",
       "Net Debt                                                       NaN  \n",
       "Total Debt                                                     NaN  \n",
       "Tangible Book Value                                            NaN  \n",
       "Invested Capital                                               NaN  \n",
       "Working Capital                                                NaN  \n",
       "Net Tangible Assets                                            NaN  \n",
       "Capital Lease Obligations                             9842000000.0  \n",
       "Common Stock Equity                                            NaN  \n",
       "Total Capitalization                                           NaN  \n",
       "Total Equity Gross Minority Interest                           NaN  \n",
       "Stockholders Equity                                            NaN  \n",
       "Gains Losses Not Affecting Retained Earnings                   NaN  \n",
       "Other Equity Adjustments                                       NaN  \n",
       "Retained Earnings                                              NaN  \n",
       "Capital Stock                                                  NaN  \n",
       "Common Stock                                                   NaN  \n",
       "Total Liabilities Net Minority Interest                        NaN  \n",
       "Total Non Current Liabilities Net Minority Inte...             NaN  \n",
       "Other Non Current Liabilities                                  NaN  \n",
       "Tradeand Other Payables Non Current                            NaN  \n",
       "Long Term Debt And Capital Lease Obligation                    NaN  \n",
       "Long Term Capital Lease Obligation                    8382000000.0  \n",
       "Long Term Debt                                                 NaN  \n",
       "Current Liabilities                                            NaN  \n",
       "Other Current Liabilities                                      NaN  \n",
       "Current Deferred Liabilities                                   NaN  \n",
       "Current Deferred Revenue                                       NaN  \n",
       "Current Debt And Capital Lease Obligation                      NaN  \n",
       "Current Capital Lease Obligation                      1460000000.0  \n",
       "Current Debt                                                   NaN  \n",
       "Other Current Borrowings                                       NaN  \n",
       "Commercial Paper                                               NaN  \n",
       "Payables And Accrued Expenses                                  NaN  \n",
       "Payables                                                       NaN  \n",
       "Total Tax Payable                                              NaN  \n",
       "Income Tax Payable                                             NaN  \n",
       "Accounts Payable                                               NaN  \n",
       "Total Assets                                                   NaN  \n",
       "Total Non Current Assets                                       NaN  \n",
       "Other Non Current Assets                                       NaN  \n",
       "Non Current Deferred Assets                                    NaN  \n",
       "Non Current Deferred Taxes Assets                              NaN  \n",
       "Investments And Advances                                       NaN  \n",
       "Other Investments                                   100887000000.0  \n",
       "Investmentin Financial Assets                                  NaN  \n",
       "Available For Sale Securities                                  NaN  \n",
       "Net PPE                                                        NaN  \n",
       "Accumulated Depreciation                                       NaN  \n",
       "Gross PPE                                                      NaN  \n",
       "Leases                                                         NaN  \n",
       "Other Properties                                      8570000000.0  \n",
       "Machinery Furniture Equipment                                  NaN  \n",
       "Land And Improvements                                          NaN  \n",
       "Properties                                                     NaN  \n",
       "Current Assets                                                 NaN  \n",
       "Other Current Assets                                           NaN  \n",
       "Inventory                                                      NaN  \n",
       "Receivables                                                    NaN  \n",
       "Other Receivables                                              NaN  \n",
       "Accounts Receivable                                            NaN  \n",
       "Cash Cash Equivalents And Short Term Investments               NaN  \n",
       "Other Short Term Investments                                   NaN  \n",
       "Cash And Cash Equivalents                                      NaN  \n",
       "Cash Equivalents                                               NaN  \n",
       "Cash Financial                                                 NaN  "
      ]
     },
     "execution_count": 10,
     "metadata": {},
     "output_type": "execute_result"
    }
   ],
   "source": [
    "ticker = yf.Ticker('AAPL')\n",
    "balance_sheet = ticker.balancesheet\n",
    "balance_sheet.head(70)"
   ]
  },
  {
   "cell_type": "markdown",
   "metadata": {},
   "source": [
    "- **Treasury Shares Number**: Anzahl der eigenen Aktien\n",
    "- **Ordinary Shares Number**: Anzahl der Stammaktien\n",
    "- **Share Issued**: Ausgegebene Aktien\n",
    "- **Net Debt**: Nettoverschuldung\n",
    "- **Total Debt**: Gesamtschulden\n",
    "- **Tangible Book Value**: Materieller Buchwert\n",
    "- **Invested Capital**: Investiertes Kapital\n",
    "- **Working Capital**: Betriebskapital\n",
    "- **Net Tangible Assets**: Netto-Sachanlagen\n",
    "- **Capital Lease Obligations**: Kapitalleasingverpflichtungen\n",
    "- **Common Stock Equity**: Eigenkapital aus Stammaktien\n",
    "- **Total Capitalization**: Gesamtkapitalisierung\n",
    "- **Total Equity Gross Minority Interest**: Gesamteigenkapital einschließlich Minderheitsanteile\n",
    "- **Stockholders Equity**: Eigenkapital der Aktionäre\n",
    "- **Gains Losses Not Affecting Retained Earnings**: Gewinne/Verluste, die das einbehaltene Ergebnis nicht beeinflussen\n",
    "- **Other Equity Adjustments**: Andere Eigenkapitalanpassungen\n",
    "- **Retained Earnings**: Einbehaltene Gewinne\n",
    "- **Capital Stock**: Grundkapital\n",
    "- **Common Stock**: Stammaktien\n",
    "- **Total Liabilities Net Minority Interest**: Gesamtschulden abzüglich Minderheitsanteile\n",
    "- **Total Non Current Liabilities Net Minority Interest**: Langfristige Verbindlichkeiten abzüglich Minderheitsanteile\n",
    "- **Other Non Current Liabilities**: Andere langfristige Verbindlichkeiten\n",
    "- **Trade and Other Payables Non Current**: Langfristige Verbindlichkeiten aus Lieferungen und Leistungen\n",
    "- **Long Term Debt And Capital Lease Obligation**: Langfristige Schulden und Kapitalleasingverpflichtungen\n",
    "- **Long Term Capital Lease Obligation**: Langfristige Kapitalleasingverpflichtungen\n",
    "- **Long Term Debt**: Langfristige Schulden\n",
    "- **Current Liabilities**: Kurzfristige Verbindlichkeiten\n",
    "- **Other Current Liabilities**: Andere kurzfristige Verbindlichkeiten\n",
    "- **Current Deferred Liabilities**: Kurzfristige abgegrenzte Verbindlichkeiten\n",
    "- **Current Deferred Revenue**: Kurzfristige abgegrenzte Einnahmen\n",
    "- **Current Debt And Capital Lease Obligation**: Kurzfristige Schulden und Kapitalleasingverpflichtungen\n",
    "- **Current Capital Lease Obligation**: Kurzfristige Kapitalleasingverpflichtungen\n",
    "- **Current Debt**: Kurzfristige Schulden\n",
    "- **Other Current Borrowings**: Andere kurzfristige Kredite\n",
    "- **Commercial Paper**: Handelspapiere\n",
    "- **Payables And Accrued Expenses**: Verbindlichkeiten und aufgelaufene Ausgaben\n",
    "- **Payables**: Verbindlichkeiten\n",
    "- **Total Tax Payable**: Gesamtsteuerverbindlichkeiten\n",
    "- **Income Tax Payable**: Einkommensteuerverbindlichkeiten\n",
    "- **Accounts Payable**: Verbindlichkeiten aus Lieferungen und Leistungen\n",
    "- **Total Assets**: Gesamtvermögen\n",
    "- **Total Non Current Assets**: Langfristige Vermögenswerte\n",
    "- **Other Non Current Assets**: Andere langfristige Vermögenswerte\n",
    "- **Non Current Deferred Assets**: Langfristige abgegrenzte Vermögenswerte\n",
    "- **Non Current Deferred Taxes Assets**: Langfristige abgegrenzte Steuerforderungen\n",
    "- **Investments And Advances**: Investitionen und Vorschüsse\n",
    "- **Other Investments**: Andere Investitionen\n",
    "- **Investment in Financial Assets**: Investitionen in Finanzanlagen\n",
    "- **Available For Sale Securities**: Zur Veräußerung verfügbare Wertpapiere\n",
    "- **Net PPE**: Netto-Sachanlagen\n",
    "- **Accumulated Depreciation**: Kumulierte Abschreibungen\n",
    "- **Gross PPE**: Brutto-Sachanlagen\n",
    "- **Leases**: Leasingverträge\n",
    "- **Other Properties**: Andere Immobilien\n",
    "- **Machinery Furniture Equipment**: Maschinen, Möbel, Ausrüstung\n",
    "- **Land And Improvements**: Grundstücke und Verbesserungen\n",
    "- **Properties**: Immobilien\n",
    "- **Current Assets**: Umlaufvermögen\n",
    "- **Other Current Assets**: Andere kurzfristige Vermögenswerte\n",
    "- **Inventory**: Inventar\n",
    "- **Receivables**: Forderungen\n",
    "- **Other Receivables**: Andere Forderungen\n",
    "- **Accounts Receivable**: Forderungen aus Lieferungen und Leistungen\n",
    "- **Cash Cash Equivalents And Short Term Investments**: Kassenbestand, Zahlungsmitteläquivalente und kurzfristige Investitionen\n",
    "- **Other Short Term Investments**: Andere kurzfristige Investitionen\n",
    "- **Cash And Cash Equivalents**: Kassenbestand und Zahlungsmitteläquivalente\n",
    "- **Cash Equivalents**: Zahlungsmitteläquivalente\n",
    "- **Cash Financial**: Finanzielle Zahlungsmittel"
   ]
  },
  {
   "cell_type": "markdown",
   "metadata": {},
   "source": [
    "1. **Total non-current Assets = Anlagevermögen**  \n",
    "2. **Current Assets = Umlaufvermögen**  \n",
    "    2.1 **Inventory = Inventar**  \n",
    "    2.2 **Receivables = Forderungen**  \n",
    "    2.3 **Cash Cash, Equivalents And Short Term Investments = Flüssige Mittel**  \n",
    "\n",
    "1. **Stockholders' Equity = Eigenkapital**  \n",
    "2. **Total Liabilities Net Minority Interest = Fremdkapital**  \n",
    "    2.1 **Total Non Current Liabilities = langfristige Verbindlichkeiten**  \n",
    "    2.2 **Current Liabilities = kurzfristige Verbindlichkeiten**  \n"
   ]
  },
  {
   "cell_type": "code",
   "execution_count": 11,
   "metadata": {},
   "outputs": [
    {
     "data": {
      "text/plain": [
       "Index(['Treasury Shares Number', 'Ordinary Shares Number', 'Share Issued',\n",
       "       'Net Debt', 'Total Debt', 'Tangible Book Value', 'Invested Capital',\n",
       "       'Working Capital', 'Net Tangible Assets', 'Capital Lease Obligations',\n",
       "       'Common Stock Equity', 'Total Capitalization',\n",
       "       'Total Equity Gross Minority Interest', 'Stockholders Equity',\n",
       "       'Gains Losses Not Affecting Retained Earnings',\n",
       "       'Other Equity Adjustments', 'Retained Earnings', 'Capital Stock',\n",
       "       'Common Stock', 'Total Liabilities Net Minority Interest',\n",
       "       'Total Non Current Liabilities Net Minority Interest',\n",
       "       'Other Non Current Liabilities', 'Tradeand Other Payables Non Current',\n",
       "       'Long Term Debt And Capital Lease Obligation',\n",
       "       'Long Term Capital Lease Obligation', 'Long Term Debt',\n",
       "       'Current Liabilities', 'Other Current Liabilities',\n",
       "       'Current Deferred Liabilities', 'Current Deferred Revenue',\n",
       "       'Current Debt And Capital Lease Obligation',\n",
       "       'Current Capital Lease Obligation', 'Current Debt',\n",
       "       'Other Current Borrowings', 'Commercial Paper',\n",
       "       'Payables And Accrued Expenses', 'Payables', 'Total Tax Payable',\n",
       "       'Income Tax Payable', 'Accounts Payable', 'Total Assets',\n",
       "       'Total Non Current Assets', 'Other Non Current Assets',\n",
       "       'Non Current Deferred Assets', 'Non Current Deferred Taxes Assets',\n",
       "       'Investments And Advances', 'Other Investments',\n",
       "       'Investmentin Financial Assets', 'Available For Sale Securities',\n",
       "       'Net PPE', 'Accumulated Depreciation', 'Gross PPE', 'Leases',\n",
       "       'Other Properties', 'Machinery Furniture Equipment',\n",
       "       'Land And Improvements', 'Properties', 'Current Assets',\n",
       "       'Other Current Assets', 'Inventory', 'Receivables', 'Other Receivables',\n",
       "       'Accounts Receivable',\n",
       "       'Cash Cash Equivalents And Short Term Investments',\n",
       "       'Other Short Term Investments', 'Cash And Cash Equivalents',\n",
       "       'Cash Equivalents', 'Cash Financial'],\n",
       "      dtype='object')"
      ]
     },
     "execution_count": 11,
     "metadata": {},
     "output_type": "execute_result"
    }
   ],
   "source": [
    "balance_sheet.index"
   ]
  },
  {
   "cell_type": "code",
   "execution_count": 12,
   "metadata": {},
   "outputs": [
    {
     "data": {
      "text/plain": [
       "DatetimeIndex(['2024-09-30', '2023-09-30', '2022-09-30', '2021-09-30',\n",
       "               '2020-09-30'],\n",
       "              dtype='datetime64[ns]', freq=None)"
      ]
     },
     "execution_count": 12,
     "metadata": {},
     "output_type": "execute_result"
    }
   ],
   "source": [
    "balance_sheet.columns"
   ]
  },
  {
   "cell_type": "code",
   "execution_count": 13,
   "metadata": {},
   "outputs": [],
   "source": [
    "def get_company_info(symbols):\n",
    "    \"\"\"\n",
    "    Ruft die Unternehmensinformationen für eine Liste von Symbolen ab.\n",
    "    \n",
    "    Args:\n",
    "    symbols (list): Liste der Unternehmenssymbole.\n",
    "    \n",
    "    Returns:\n",
    "    dict: Ein Dictionary mit den Unternehmensinformationen.\n",
    "    \"\"\"\n",
    "    return {symbol: yf.Ticker(symbol).info for symbol in symbols}"
   ]
  },
  {
   "cell_type": "code",
   "execution_count": 14,
   "metadata": {},
   "outputs": [],
   "source": [
    "def create_company_table(symbols):\n",
    "    \"\"\"\n",
    "    Erstellt eine Tabelle mit den Unternehmensinformationen.\n",
    "    \n",
    "    Args:\n",
    "    symbols (list): Liste der Unternehmenssymbole.\n",
    "    \n",
    "    Returns:\n",
    "    plotly.graph_objects.Figure: Eine Plotly-Figur mit der Tabelle.\n",
    "    \"\"\"\n",
    "    data = get_company_info(symbols)\n",
    "    \n",
    "    namen = [data[symbol].get('shortName', 'N/A') for symbol in data]\n",
    "    branchen = [data[symbol].get('sector', 'N/A') for symbol in data]\n",
    "    länder = [data[symbol].get('country', 'N/A') for symbol in data]\n",
    "    mitarbeiter = [data[symbol].get('fullTimeEmployees', 'N/A') for symbol in data]\n",
    "\n",
    "    fig = go.Figure(data=[go.Table(\n",
    "        header=dict(values=['Unternehmen', 'Branche', 'Land', 'Mitarbeiter'],\n",
    "                    fill_color='paleturquoise',\n",
    "                    align='left'),\n",
    "        cells=dict(values=[namen, branchen, länder, mitarbeiter],\n",
    "                   fill_color='lavender',\n",
    "                   align='left'))\n",
    "    ])\n",
    "    \n",
    "    return fig"
   ]
  },
  {
   "cell_type": "code",
   "execution_count": 15,
   "metadata": {},
   "outputs": [
    {
     "data": {
      "application/vnd.plotly.v1+json": {
       "config": {
        "plotlyServerURL": "https://plot.ly"
       },
       "data": [
        {
         "cells": {
          "align": "left",
          "fill": {
           "color": "lavender"
          },
          "values": [
           [
            "Apple Inc.",
            "Microsoft Corporation",
            "Alphabet Inc."
           ],
           [
            "Technology",
            "Technology",
            "Communication Services"
           ],
           [
            "United States",
            "United States",
            "United States"
           ],
           [
            150000,
            228000,
            "N/A"
           ]
          ]
         },
         "header": {
          "align": "left",
          "fill": {
           "color": "paleturquoise"
          },
          "values": [
           "Unternehmen",
           "Branche",
           "Land",
           "Mitarbeiter"
          ]
         },
         "type": "table"
        }
       ],
       "layout": {
        "template": {
         "data": {
          "candlestick": [
           {
            "decreasing": {
             "line": {
              "color": "#000033"
             }
            },
            "increasing": {
             "line": {
              "color": "#000032"
             }
            },
            "type": "candlestick"
           }
          ],
          "contour": [
           {
            "colorscale": [
             [
              0,
              "#000011"
             ],
             [
              0.1111111111111111,
              "#000012"
             ],
             [
              0.2222222222222222,
              "#000013"
             ],
             [
              0.3333333333333333,
              "#000014"
             ],
             [
              0.4444444444444444,
              "#000015"
             ],
             [
              0.5555555555555556,
              "#000016"
             ],
             [
              0.6666666666666666,
              "#000017"
             ],
             [
              0.7777777777777778,
              "#000018"
             ],
             [
              0.8888888888888888,
              "#000019"
             ],
             [
              1,
              "#000020"
             ]
            ],
            "type": "contour"
           }
          ],
          "contourcarpet": [
           {
            "colorscale": [
             [
              0,
              "#000011"
             ],
             [
              0.1111111111111111,
              "#000012"
             ],
             [
              0.2222222222222222,
              "#000013"
             ],
             [
              0.3333333333333333,
              "#000014"
             ],
             [
              0.4444444444444444,
              "#000015"
             ],
             [
              0.5555555555555556,
              "#000016"
             ],
             [
              0.6666666666666666,
              "#000017"
             ],
             [
              0.7777777777777778,
              "#000018"
             ],
             [
              0.8888888888888888,
              "#000019"
             ],
             [
              1,
              "#000020"
             ]
            ],
            "type": "contourcarpet"
           }
          ],
          "heatmap": [
           {
            "colorscale": [
             [
              0,
              "#000011"
             ],
             [
              0.1111111111111111,
              "#000012"
             ],
             [
              0.2222222222222222,
              "#000013"
             ],
             [
              0.3333333333333333,
              "#000014"
             ],
             [
              0.4444444444444444,
              "#000015"
             ],
             [
              0.5555555555555556,
              "#000016"
             ],
             [
              0.6666666666666666,
              "#000017"
             ],
             [
              0.7777777777777778,
              "#000018"
             ],
             [
              0.8888888888888888,
              "#000019"
             ],
             [
              1,
              "#000020"
             ]
            ],
            "type": "heatmap"
           }
          ],
          "histogram2d": [
           {
            "colorscale": [
             [
              0,
              "#000011"
             ],
             [
              0.1111111111111111,
              "#000012"
             ],
             [
              0.2222222222222222,
              "#000013"
             ],
             [
              0.3333333333333333,
              "#000014"
             ],
             [
              0.4444444444444444,
              "#000015"
             ],
             [
              0.5555555555555556,
              "#000016"
             ],
             [
              0.6666666666666666,
              "#000017"
             ],
             [
              0.7777777777777778,
              "#000018"
             ],
             [
              0.8888888888888888,
              "#000019"
             ],
             [
              1,
              "#000020"
             ]
            ],
            "type": "histogram2d"
           }
          ],
          "icicle": [
           {
            "textfont": {
             "color": "white"
            },
            "type": "icicle"
           }
          ],
          "sankey": [
           {
            "textfont": {
             "color": "#000036"
            },
            "type": "sankey"
           }
          ],
          "scatter": [
           {
            "marker": {
             "line": {
              "width": 0
             }
            },
            "type": "scatter"
           }
          ],
          "table": [
           {
            "cells": {
             "fill": {
              "color": "#000038"
             },
             "font": {
              "color": "#000037"
             },
             "line": {
              "color": "#000039"
             }
            },
            "header": {
             "fill": {
              "color": "#000040"
             },
             "font": {
              "color": "#000036"
             },
             "line": {
              "color": "#000039"
             }
            },
            "type": "table"
           }
          ],
          "waterfall": [
           {
            "connector": {
             "line": {
              "color": "#000036",
              "width": 2
             }
            },
            "decreasing": {
             "marker": {
              "color": "#000033"
             }
            },
            "increasing": {
             "marker": {
              "color": "#000032"
             }
            },
            "totals": {
             "marker": {
              "color": "#000034"
             }
            },
            "type": "waterfall"
           }
          ]
         },
         "layout": {
          "coloraxis": {
           "colorscale": [
            [
             0,
             "#000011"
            ],
            [
             0.1111111111111111,
             "#000012"
            ],
            [
             0.2222222222222222,
             "#000013"
            ],
            [
             0.3333333333333333,
             "#000014"
            ],
            [
             0.4444444444444444,
             "#000015"
            ],
            [
             0.5555555555555556,
             "#000016"
            ],
            [
             0.6666666666666666,
             "#000017"
            ],
            [
             0.7777777777777778,
             "#000018"
            ],
            [
             0.8888888888888888,
             "#000019"
            ],
            [
             1,
             "#000020"
            ]
           ]
          },
          "colorscale": {
           "diverging": [
            [
             0,
             "#000021"
            ],
            [
             0.1,
             "#000022"
            ],
            [
             0.2,
             "#000023"
            ],
            [
             0.3,
             "#000024"
            ],
            [
             0.4,
             "#000025"
            ],
            [
             0.5,
             "#000026"
            ],
            [
             0.6,
             "#000027"
            ],
            [
             0.7,
             "#000028"
            ],
            [
             0.8,
             "#000029"
            ],
            [
             0.9,
             "#000030"
            ],
            [
             1,
             "#000031"
            ]
           ],
           "sequential": [
            [
             0,
             "#000011"
            ],
            [
             0.1111111111111111,
             "#000012"
            ],
            [
             0.2222222222222222,
             "#000013"
            ],
            [
             0.3333333333333333,
             "#000014"
            ],
            [
             0.4444444444444444,
             "#000015"
            ],
            [
             0.5555555555555556,
             "#000016"
            ],
            [
             0.6666666666666666,
             "#000017"
            ],
            [
             0.7777777777777778,
             "#000018"
            ],
            [
             0.8888888888888888,
             "#000019"
            ],
            [
             1,
             "#000020"
            ]
           ],
           "sequentialminus": [
            [
             0,
             "#000011"
            ],
            [
             0.1111111111111111,
             "#000012"
            ],
            [
             0.2222222222222222,
             "#000013"
            ],
            [
             0.3333333333333333,
             "#000014"
            ],
            [
             0.4444444444444444,
             "#000015"
            ],
            [
             0.5555555555555556,
             "#000016"
            ],
            [
             0.6666666666666666,
             "#000017"
            ],
            [
             0.7777777777777778,
             "#000018"
            ],
            [
             0.8888888888888888,
             "#000019"
            ],
            [
             1,
             "#000020"
            ]
           ]
          },
          "colorway": [
           "#000001",
           "#000002",
           "#000003",
           "#000004",
           "#000005",
           "#000006",
           "#000007",
           "#000008",
           "#000009",
           "#000010"
          ]
         }
        }
       }
      }
     },
     "metadata": {},
     "output_type": "display_data"
    }
   ],
   "source": [
    "# Unternehmen, für die Daten abgerufen werden sollen\n",
    "unternehmen = ['AAPL', 'MSFT', 'GOOGL']\n",
    "\n",
    "# Erstellen und Anzeigen der Tabelle\n",
    "fig = create_company_table(unternehmen)\n",
    "fig.show()"
   ]
  },
  {
   "cell_type": "code",
   "execution_count": 16,
   "metadata": {},
   "outputs": [],
   "source": [
    "# Definierte Indices\n",
    "indices = [\n",
    "    'Total Non Current Assets', 'Current Assets', 'Inventory', 'Receivables',\n",
    "    'Cash Cash Equivalents And Short Term Investments', 'Stockholders Equity',\n",
    "    'Total Liabilities Net Minority Interest', 'Current Liabilities',\n",
    "    'Total Non Current Liabilities Net Minority Interest'\n",
    "]\n",
    "\n",
    "def get_filtered_balance_sheet(ticker_symbol):\n",
    "    # Lade die Bilanzdaten für das angegebene Unternehmen\n",
    "    ticker = yf.Ticker(ticker_symbol)\n",
    "    balance_sheet = ticker.balancesheet\n",
    "    \n",
    "    # Abrufen der Unternehmensinformationen\n",
    "    info = ticker.info\n",
    "    company_name = info.get('shortName', 'Unknown Company')\n",
    "    \n",
    "    # Anzeigen des Unternehmensnamens und der Bilanzdaten\n",
    "    print(f\"Bilanzdaten für {company_name} ({ticker_symbol}):\")\n",
    "    \n",
    "    # Filtern der gewünschten Zeilen\n",
    "    filtered_balance_sheet = balance_sheet.loc[indices]\n",
    "\n",
    "    # Spaltennamen kürzen, sodass nur das Jahr angezeigt wird\n",
    "    filtered_balance_sheet.columns = filtered_balance_sheet.columns.astype(str).str[:4]\n",
    "    \n",
    "    return filtered_balance_sheet"
   ]
  },
  {
   "cell_type": "code",
   "execution_count": null,
   "metadata": {},
   "outputs": [],
   "source": [
    "def get_usd_to_eur_exchange_rate():\n",
    "    # Abrufen der Daten für das Währungspaar USD/EUR\n",
    "    ticker = yf.Ticker(\"USDEUR=X\")\n",
    "    exchange_rate = ticker.history(period=\"1d\")['Close'].iloc[-1]\n",
    "    return exchange_rate"
   ]
  },
  {
   "cell_type": "code",
   "execution_count": null,
   "metadata": {},
   "outputs": [],
   "source": [
    "def convert_dataframe_to_euro(df):\n",
    "    # Funktion zur Umrechnung in Euro\n",
    "    def convert_to_euro(value):\n",
    "        return value * get_usd_to_eur_exchange_rate()\n",
    "    \n",
    "    # Anwendung der Umrechnung auf alle Spalten des DataFrames\n",
    "    df_euro = df.applymap(convert_to_euro)\n",
    "    \n",
    "    return df_euro\n"
   ]
  },
  {
   "cell_type": "code",
   "execution_count": null,
   "metadata": {},
   "outputs": [],
   "source": [
    "def calculate_kpis(df):\n",
    "    # Berechnung der Eigenkapitalquote\n",
    "    df.loc['Equity_Ratio'] = df.loc['Stockholders Equity'] / (df.loc['Stockholders Equity'] + df.loc['Total Liabilities Net Minority Interest'])\n",
    "    \n",
    "    # Berechnung der Fremdkapitalquote\n",
    "    df.loc['Debt_Ratio'] = df.loc['Total Liabilities Net Minority Interest'] / (df.loc['Stockholders Equity'] + df.loc['Total Liabilities Net Minority Interest'])\n",
    "\n",
    "    # Berechnung des statischen Verschuldungsgrads\n",
    "    df.loc['Static_Debt_Ratio'] = df.loc['Total Liabilities Net Minority Interest'] / df.loc['Stockholders Equity']\n",
    "    \n",
    "    # Berechnung der Anlageintensität\n",
    "    df.loc['Fixed_Asset_Intensity'] = df.loc['Total Non Current Assets'] / (df.loc['Current Assets'] + df.loc['Total Non Current Assets'])\n",
    "    \n",
    "    # Berechnung der Umlaufquote\n",
    "    df.loc['Current_Asset_Ratio'] = df.loc['Current Assets'] / (df.loc['Current Assets'] + df.loc['Total Non Current Assets'])\n",
    "    \n",
    "    # Berechnung der Forderungsquote\n",
    "    df.loc['Receivables_Ratio'] = df.loc['Receivables'] / (df.loc['Current Assets'] + df.loc['Total Non Current Assets'])\n",
    "\n",
    "    # Berechnung des 1. Liquiditätsgrad\n",
    "    df.loc['1. Liquidity_Ratio'] = df.loc['Current Assets'] / df.loc['Current Liabilities']\n",
    "    \n",
    "    # Berechnung des Net Working Capital\n",
    "    df.loc['Net_Working_Capital'] = df.loc['Current Assets'] - df.loc['Current Liabilities']\n",
    "    \n",
    "    return df"
   ]
  },
  {
   "cell_type": "code",
   "execution_count": null,
   "metadata": {},
   "outputs": [],
   "source": [
    "def translate_indices(df):\n",
    "    # Übersetzung der englischen Indizes ins Deutsche\n",
    "    translations = {\n",
    "        'Total Non Current Assets': 'Gesamtanlagevermögen',\n",
    "        'Current Assets': 'Umlaufvermögen',\n",
    "        'Receivables': 'Forderungen',\n",
    "        'Stockholders Equity': 'Eigenkapital',\n",
    "        'Total Liabilities Net Minority Interest': 'Gesamtverbindlichkeiten ohne Minderheitsanteile',\n",
    "        'Current Liabilities': 'Kurzfristige Verbindlichkeiten',\n",
    "        'Total Non Current Liabilities Net Minority Interest': 'Langfristige Verbindlichkeiten',\n",
    "        'Equity_Ratio': 'Eigenkapitalquote',\n",
    "        'Debt_Ratio': 'Verschuldungsquote',\n",
    "        'Static_Debt_Ratio': 'Statischer Verschuldungsgrad',\n",
    "        'Fixed_Asset_Intensity': 'Anlageintensität',\n",
    "        'Current_Asset_Ratio': 'Umlaufquote',\n",
    "        'Receivables_Ratio': 'Forderungsquote',\n",
    "        '1. Liquidity_Ratio': '1. Liquiditätsquote',\n",
    "        'Net_Working_Capital': 'Netto-Umlaufvermögen'\n",
    "    }\n",
    "    \n",
    "    # Übersetzung der Indizes\n",
    "    df.rename(index=translations, inplace=True)\n",
    "    \n",
    "    return df"
   ]
  },
  {
   "cell_type": "code",
   "execution_count": null,
   "metadata": {},
   "outputs": [],
   "source": [
    "def get_balance_sheet(ticker_symbol):\n",
    "    \n",
    "    # Lade die gefilterten Bilanzdaten für das gewünschte Unternehmen\n",
    "    balance_sheet = get_filtered_balance_sheet(ticker_symbol)\n",
    "    \n",
    "    # Umrechnung der Werte von Dollar in Euro\n",
    "    balance_sheet_euro = convert_dataframe_to_euro(balance_sheet)\n",
    "\n",
    "    # Berchnene der KPIs für das Unternehmen\n",
    "    balance_sheet_kpi = calculate_kpis(balance_sheet_euro)\n",
    "\n",
    "    # Übersetzen der Indices in Deutsch\n",
    "    balance_sheet_german = translate_indices(balance_sheet_kpi)\n",
    "    \n",
    "    return balance_sheet_german"
   ]
  },
  {
   "cell_type": "code",
   "execution_count": null,
   "metadata": {},
   "outputs": [],
   "source": [
    "def create_dashboard(ticker_symbols):\n",
    "    balance_sheets = {}\n",
    "\n",
    "    # Erstellen eines Dashboards für gegebene Unternehmen\n",
    "    for ticker in ticker_symbols:\n",
    "        balance_sheets[f'{ticker}'] = get_balance_sheet(ticker)\n",
    "\n",
    "    # Erstellen des Dashboards\n",
    "    fig = go.Figure()\n",
    "\n",
    "    # Farben für die Balken festlegen\n",
    "    colors = {\n",
    "        'Eigenkapital': 'blue',\n",
    "        'Langfristige Verbindlichkeiten': 'red',\n",
    "        'Kurzfristige Verbindlichkeiten': 'green'\n",
    "    }\n",
    "\n",
    "    # Hinzufügen von gestapelten Balkendiagramm-Daten zum Dashboard\n",
    "    for ticker, balance_sheet in balance_sheets.items():\n",
    "        total_2023 = balance_sheet.loc['Eigenkapital', '2023'] + balance_sheet.loc['Langfristige Verbindlichkeiten', '2023'] + balance_sheet.loc['Kurzfristige Verbindlichkeiten', '2023']\n",
    "        total_2024 = balance_sheet.loc['Eigenkapital', '2024'] + balance_sheet.loc['Langfristige Verbindlichkeiten', '2024'] + balance_sheet.loc['Kurzfristige Verbindlichkeiten', '2024']\n",
    "\n",
    "        fig.add_trace(go.Bar(\n",
    "            x=[f'{ticker} 2023'],\n",
    "            y=[balance_sheet.loc['Eigenkapital', '2023']],\n",
    "            marker_color=colors['Eigenkapital'],\n",
    "            hovertext=[f\"{balance_sheet.loc['Eigenkapital', '2023'] / total_2023:.1%}\"],\n",
    "            hoverinfo='text',\n",
    "            showlegend=False\n",
    "        ))\n",
    "        fig.add_trace(go.Bar(\n",
    "            x=[f'{ticker} 2023'],\n",
    "            y=[balance_sheet.loc['Langfristige Verbindlichkeiten', '2023']],\n",
    "            marker_color=colors['Langfristige Verbindlichkeiten'],\n",
    "            hovertext=[f\"{balance_sheet.loc['Langfristige Verbindlichkeiten', '2023'] / total_2023:.1%}\"],\n",
    "            hoverinfo='text',\n",
    "            showlegend=False\n",
    "        ))\n",
    "        fig.add_trace(go.Bar(\n",
    "            x=[f'{ticker} 2023'],\n",
    "            y=[balance_sheet.loc['Kurzfristige Verbindlichkeiten', '2023']],\n",
    "            marker_color=colors['Kurzfristige Verbindlichkeiten'],\n",
    "            hovertext=[f\"{balance_sheet.loc['Kurzfristige Verbindlichkeiten', '2023'] / total_2023:.1%}\"],\n",
    "            hoverinfo='text',\n",
    "            showlegend=False\n",
    "        ))\n",
    "\n",
    "        fig.add_trace(go.Bar(\n",
    "            x=[f'{ticker} 2024'],\n",
    "            y=[balance_sheet.loc['Eigenkapital', '2024']],\n",
    "            marker_color=colors['Eigenkapital'],\n",
    "            hovertext=[f\"{balance_sheet.loc['Eigenkapital', '2024'] / total_2024:.1%}\"],\n",
    "            hoverinfo='text',\n",
    "            showlegend=False\n",
    "        ))\n",
    "        fig.add_trace(go.Bar(\n",
    "            x=[f'{ticker} 2024'],\n",
    "            y=[balance_sheet.loc['Langfristige Verbindlichkeiten', '2024']],\n",
    "            marker_color=colors['Langfristige Verbindlichkeiten'],\n",
    "            hovertext=[f\"{balance_sheet.loc['Langfristige Verbindlichkeiten', '2024'] / total_2024:.1%}\"],\n",
    "            hoverinfo='text',\n",
    "            showlegend=False\n",
    "        ))\n",
    "        fig.add_trace(go.Bar(\n",
    "            x=[f'{ticker} 2024'],\n",
    "            y=[balance_sheet.loc['Kurzfristige Verbindlichkeiten', '2024']],\n",
    "            marker_color=colors['Kurzfristige Verbindlichkeiten'],\n",
    "            hovertext=[f\"{balance_sheet.loc['Kurzfristige Verbindlichkeiten', '2024'] / total_2024:.1%}\"],\n",
    "            hoverinfo='text',\n",
    "            showlegend=False\n",
    "        ))\n",
    "\n",
    "    # Legende separat hinzufügen\n",
    "    fig.add_trace(go.Bar(\n",
    "        x=[None],\n",
    "        y=[None],\n",
    "        name='Eigenkapital',\n",
    "        marker_color=colors['Eigenkapital']\n",
    "    ))\n",
    "    fig.add_trace(go.Bar(\n",
    "        x=[None],\n",
    "        y=[None],\n",
    "        name='Langfristige Verbindlichkeiten',\n",
    "        marker_color=colors['Langfristige Verbindlichkeiten']\n",
    "    ))\n",
    "    fig.add_trace(go.Bar(\n",
    "        x=[None],\n",
    "        y=[None],\n",
    "        name='Kurzfristige Verbindlichkeiten',\n",
    "        marker_color=colors['Kurzfristige Verbindlichkeiten']\n",
    "    ))\n",
    "\n",
    "    # Layout anpassen für gestapeltes Balkendiagramm\n",
    "    fig.update_layout(\n",
    "        barmode='stack',\n",
    "        title='Kapital und Verbindlichkeiten der Unternehmen (2023 vs 2024)',\n",
    "        xaxis_title='Unternehmen und Jahr',\n",
    "        yaxis_title='Betrag',\n",
    "        legend_title='Komponenten',\n",
    "        xaxis=dict(\n",
    "            tickmode='array',\n",
    "            tickvals=[f'{ticker} 2023' for ticker in ticker_symbols] + [f'{ticker} 2024' for ticker in ticker_symbols],\n",
    "            ticktext=[f'2023\\n{ticker}' for ticker in ticker_symbols] + [f'2024\\n{ticker}' for ticker in ticker_symbols]\n",
    "        )\n",
    "    )\n",
    "\n",
    "    # Dashboard anzeigen\n",
    "    fig.show()"
   ]
  },
  {
   "cell_type": "code",
   "execution_count": null,
   "metadata": {},
   "outputs": [
    {
     "name": "stdout",
     "output_type": "stream",
     "text": [
      "Bilanzdaten für Apple Inc. (AAPL):\n"
     ]
    },
    {
     "name": "stderr",
     "output_type": "stream",
     "text": [
      "C:\\Users\\halte\\AppData\\Local\\Temp\\ipykernel_16028\\3001435398.py:7: FutureWarning:\n",
      "\n",
      "DataFrame.applymap has been deprecated. Use DataFrame.map instead.\n",
      "\n"
     ]
    },
    {
     "name": "stdout",
     "output_type": "stream",
     "text": [
      "Bilanzdaten für Microsoft Corporation (MSFT):\n"
     ]
    },
    {
     "name": "stderr",
     "output_type": "stream",
     "text": [
      "C:\\Users\\halte\\AppData\\Local\\Temp\\ipykernel_16028\\3001435398.py:7: FutureWarning:\n",
      "\n",
      "DataFrame.applymap has been deprecated. Use DataFrame.map instead.\n",
      "\n"
     ]
    },
    {
     "name": "stdout",
     "output_type": "stream",
     "text": [
      "Bilanzdaten für Alphabet Inc. (GOOGL):\n"
     ]
    },
    {
     "name": "stderr",
     "output_type": "stream",
     "text": [
      "C:\\Users\\halte\\AppData\\Local\\Temp\\ipykernel_16028\\3001435398.py:7: FutureWarning:\n",
      "\n",
      "DataFrame.applymap has been deprecated. Use DataFrame.map instead.\n",
      "\n"
     ]
    },
    {
     "data": {
      "application/vnd.plotly.v1+json": {
       "config": {
        "plotlyServerURL": "https://plot.ly"
       },
       "data": [
        {
         "hoverinfo": "text",
         "hovertext": [
          "17.6%"
         ],
         "marker": {
          "color": "blue"
         },
         "showlegend": false,
         "type": "bar",
         "x": [
          "AAPL 2023"
         ],
         "y": [
          59150562100.64888
         ]
        },
        {
         "hoverinfo": "text",
         "hovertext": [
          "41.2%"
         ],
         "marker": {
          "color": "red"
         },
         "showlegend": false,
         "type": "bar",
         "x": [
          "AAPL 2023"
         ],
         "y": [
          138133780566.81155
         ]
        },
        {
         "hoverinfo": "text",
         "hovertext": [
          "41.2%"
         ],
         "marker": {
          "color": "green"
         },
         "showlegend": false,
         "type": "bar",
         "x": [
          "AAPL 2023"
         ],
         "y": [
          138304152764.7972
         ]
        },
        {
         "hoverinfo": "text",
         "hovertext": [
          "15.6%"
         ],
         "marker": {
          "color": "blue"
         },
         "showlegend": false,
         "type": "bar",
         "x": [
          "AAPL 2024"
         ],
         "y": [
          54205009359.12132
         ]
        },
        {
         "hoverinfo": "text",
         "hovertext": [
          "36.1%"
         ],
         "marker": {
          "color": "red"
         },
         "showlegend": false,
         "type": "bar",
         "x": [
          "AAPL 2024"
         ],
         "y": [
          125293046918.6306
         ]
        },
        {
         "hoverinfo": "text",
         "hovertext": [
          "48.3%"
         ],
         "marker": {
          "color": "green"
         },
         "showlegend": false,
         "type": "bar",
         "x": [
          "AAPL 2024"
         ],
         "y": [
          167889903614.99786
         ]
        },
        {
         "hoverinfo": "text",
         "hovertext": [
          "50.1%"
         ],
         "marker": {
          "color": "blue"
         },
         "showlegend": false,
         "type": "bar",
         "x": [
          "MSFT 2023"
         ],
         "y": [
          196283049079.29898
         ]
        },
        {
         "hoverinfo": "text",
         "hovertext": [
          "24.7%"
         ],
         "marker": {
          "color": "red"
         },
         "showlegend": false,
         "type": "bar",
         "x": [
          "MSFT 2023"
         ],
         "y": [
          96706686056.61392
         ]
        },
        {
         "hoverinfo": "text",
         "hovertext": [
          "25.3%"
         ],
         "marker": {
          "color": "green"
         },
         "showlegend": false,
         "type": "bar",
         "x": [
          "MSFT 2023"
         ],
         "y": [
          99129017027.97412
         ]
        },
        {
         "hoverinfo": "text",
         "hovertext": [
          "52.4%"
         ],
         "marker": {
          "color": "blue"
         },
         "showlegend": false,
         "type": "bar",
         "x": [
          "MSFT 2024"
         ],
         "y": [
          255536405578.73248
         ]
        },
        {
         "hoverinfo": "text",
         "hovertext": [
          "23.1%"
         ],
         "marker": {
          "color": "red"
         },
         "showlegend": false,
         "type": "bar",
         "x": [
          "MSFT 2024"
         ],
         "y": [
          112693118667.60254
         ]
        },
        {
         "hoverinfo": "text",
         "hovertext": [
          "24.5%"
         ],
         "marker": {
          "color": "green"
         },
         "showlegend": false,
         "type": "bar",
         "x": [
          "MSFT 2024"
         ],
         "y": [
          119247213390.11192
         ]
        },
        {
         "hoverinfo": "text",
         "hovertext": [
          "70.4%"
         ],
         "marker": {
          "color": "blue"
         },
         "showlegend": false,
         "type": "bar",
         "x": [
          "GOOGL 2023"
         ],
         "y": [
          269720129011.03497
         ]
        },
        {
         "hoverinfo": "text",
         "hovertext": [
          "9.2%"
         ],
         "marker": {
          "color": "red"
         },
         "showlegend": false,
         "type": "bar",
         "x": [
          "GOOGL 2023"
         ],
         "y": [
          35406007781.386375
         ]
        },
        {
         "hoverinfo": "text",
         "hovertext": [
          "20.3%"
         ],
         "marker": {
          "color": "green"
         },
         "showlegend": false,
         "type": "bar",
         "x": [
          "GOOGL 2023"
         ],
         "y": [
          77870564279.31786
         ]
        },
        {
         "hoverinfo": "text",
         "hovertext": [
          "72.2%"
         ],
         "marker": {
          "color": "blue"
         },
         "showlegend": false,
         "type": "bar",
         "x": [
          "GOOGL 2024"
         ],
         "y": [
          309414947541.71375
         ]
        },
        {
         "hoverinfo": "text",
         "hovertext": [
          "8.0%"
         ],
         "marker": {
          "color": "red"
         },
         "showlegend": false,
         "type": "bar",
         "x": [
          "GOOGL 2024"
         ],
         "y": [
          34312389594.316483
         ]
        },
        {
         "hoverinfo": "text",
         "hovertext": [
          "19.8%"
         ],
         "marker": {
          "color": "green"
         },
         "showlegend": false,
         "type": "bar",
         "x": [
          "GOOGL 2024"
         ],
         "y": [
          84826318597.07832
         ]
        },
        {
         "marker": {
          "color": "blue"
         },
         "name": "Eigenkapital",
         "type": "bar",
         "x": [
          null
         ],
         "y": [
          null
         ]
        },
        {
         "marker": {
          "color": "red"
         },
         "name": "Langfristige Verbindlichkeiten",
         "type": "bar",
         "x": [
          null
         ],
         "y": [
          null
         ]
        },
        {
         "marker": {
          "color": "green"
         },
         "name": "Kurzfristige Verbindlichkeiten",
         "type": "bar",
         "x": [
          null
         ],
         "y": [
          null
         ]
        }
       ],
       "layout": {
        "barmode": "stack",
        "legend": {
         "title": {
          "text": "Komponenten"
         }
        },
        "template": {
         "data": {
          "bar": [
           {
            "error_x": {
             "color": "#2a3f5f"
            },
            "error_y": {
             "color": "#2a3f5f"
            },
            "marker": {
             "line": {
              "color": "#E5ECF6",
              "width": 0.5
             },
             "pattern": {
              "fillmode": "overlay",
              "size": 10,
              "solidity": 0.2
             }
            },
            "type": "bar"
           }
          ],
          "barpolar": [
           {
            "marker": {
             "line": {
              "color": "#E5ECF6",
              "width": 0.5
             },
             "pattern": {
              "fillmode": "overlay",
              "size": 10,
              "solidity": 0.2
             }
            },
            "type": "barpolar"
           }
          ],
          "carpet": [
           {
            "aaxis": {
             "endlinecolor": "#2a3f5f",
             "gridcolor": "white",
             "linecolor": "white",
             "minorgridcolor": "white",
             "startlinecolor": "#2a3f5f"
            },
            "baxis": {
             "endlinecolor": "#2a3f5f",
             "gridcolor": "white",
             "linecolor": "white",
             "minorgridcolor": "white",
             "startlinecolor": "#2a3f5f"
            },
            "type": "carpet"
           }
          ],
          "choropleth": [
           {
            "colorbar": {
             "outlinewidth": 0,
             "ticks": ""
            },
            "type": "choropleth"
           }
          ],
          "contour": [
           {
            "colorbar": {
             "outlinewidth": 0,
             "ticks": ""
            },
            "colorscale": [
             [
              0,
              "#0d0887"
             ],
             [
              0.1111111111111111,
              "#46039f"
             ],
             [
              0.2222222222222222,
              "#7201a8"
             ],
             [
              0.3333333333333333,
              "#9c179e"
             ],
             [
              0.4444444444444444,
              "#bd3786"
             ],
             [
              0.5555555555555556,
              "#d8576b"
             ],
             [
              0.6666666666666666,
              "#ed7953"
             ],
             [
              0.7777777777777778,
              "#fb9f3a"
             ],
             [
              0.8888888888888888,
              "#fdca26"
             ],
             [
              1,
              "#f0f921"
             ]
            ],
            "type": "contour"
           }
          ],
          "contourcarpet": [
           {
            "colorbar": {
             "outlinewidth": 0,
             "ticks": ""
            },
            "type": "contourcarpet"
           }
          ],
          "heatmap": [
           {
            "colorbar": {
             "outlinewidth": 0,
             "ticks": ""
            },
            "colorscale": [
             [
              0,
              "#0d0887"
             ],
             [
              0.1111111111111111,
              "#46039f"
             ],
             [
              0.2222222222222222,
              "#7201a8"
             ],
             [
              0.3333333333333333,
              "#9c179e"
             ],
             [
              0.4444444444444444,
              "#bd3786"
             ],
             [
              0.5555555555555556,
              "#d8576b"
             ],
             [
              0.6666666666666666,
              "#ed7953"
             ],
             [
              0.7777777777777778,
              "#fb9f3a"
             ],
             [
              0.8888888888888888,
              "#fdca26"
             ],
             [
              1,
              "#f0f921"
             ]
            ],
            "type": "heatmap"
           }
          ],
          "histogram": [
           {
            "marker": {
             "pattern": {
              "fillmode": "overlay",
              "size": 10,
              "solidity": 0.2
             }
            },
            "type": "histogram"
           }
          ],
          "histogram2d": [
           {
            "colorbar": {
             "outlinewidth": 0,
             "ticks": ""
            },
            "colorscale": [
             [
              0,
              "#0d0887"
             ],
             [
              0.1111111111111111,
              "#46039f"
             ],
             [
              0.2222222222222222,
              "#7201a8"
             ],
             [
              0.3333333333333333,
              "#9c179e"
             ],
             [
              0.4444444444444444,
              "#bd3786"
             ],
             [
              0.5555555555555556,
              "#d8576b"
             ],
             [
              0.6666666666666666,
              "#ed7953"
             ],
             [
              0.7777777777777778,
              "#fb9f3a"
             ],
             [
              0.8888888888888888,
              "#fdca26"
             ],
             [
              1,
              "#f0f921"
             ]
            ],
            "type": "histogram2d"
           }
          ],
          "histogram2dcontour": [
           {
            "colorbar": {
             "outlinewidth": 0,
             "ticks": ""
            },
            "colorscale": [
             [
              0,
              "#0d0887"
             ],
             [
              0.1111111111111111,
              "#46039f"
             ],
             [
              0.2222222222222222,
              "#7201a8"
             ],
             [
              0.3333333333333333,
              "#9c179e"
             ],
             [
              0.4444444444444444,
              "#bd3786"
             ],
             [
              0.5555555555555556,
              "#d8576b"
             ],
             [
              0.6666666666666666,
              "#ed7953"
             ],
             [
              0.7777777777777778,
              "#fb9f3a"
             ],
             [
              0.8888888888888888,
              "#fdca26"
             ],
             [
              1,
              "#f0f921"
             ]
            ],
            "type": "histogram2dcontour"
           }
          ],
          "mesh3d": [
           {
            "colorbar": {
             "outlinewidth": 0,
             "ticks": ""
            },
            "type": "mesh3d"
           }
          ],
          "parcoords": [
           {
            "line": {
             "colorbar": {
              "outlinewidth": 0,
              "ticks": ""
             }
            },
            "type": "parcoords"
           }
          ],
          "pie": [
           {
            "automargin": true,
            "type": "pie"
           }
          ],
          "scatter": [
           {
            "fillpattern": {
             "fillmode": "overlay",
             "size": 10,
             "solidity": 0.2
            },
            "type": "scatter"
           }
          ],
          "scatter3d": [
           {
            "line": {
             "colorbar": {
              "outlinewidth": 0,
              "ticks": ""
             }
            },
            "marker": {
             "colorbar": {
              "outlinewidth": 0,
              "ticks": ""
             }
            },
            "type": "scatter3d"
           }
          ],
          "scattercarpet": [
           {
            "marker": {
             "colorbar": {
              "outlinewidth": 0,
              "ticks": ""
             }
            },
            "type": "scattercarpet"
           }
          ],
          "scattergeo": [
           {
            "marker": {
             "colorbar": {
              "outlinewidth": 0,
              "ticks": ""
             }
            },
            "type": "scattergeo"
           }
          ],
          "scattergl": [
           {
            "marker": {
             "colorbar": {
              "outlinewidth": 0,
              "ticks": ""
             }
            },
            "type": "scattergl"
           }
          ],
          "scattermap": [
           {
            "marker": {
             "colorbar": {
              "outlinewidth": 0,
              "ticks": ""
             }
            },
            "type": "scattermap"
           }
          ],
          "scattermapbox": [
           {
            "marker": {
             "colorbar": {
              "outlinewidth": 0,
              "ticks": ""
             }
            },
            "type": "scattermapbox"
           }
          ],
          "scatterpolar": [
           {
            "marker": {
             "colorbar": {
              "outlinewidth": 0,
              "ticks": ""
             }
            },
            "type": "scatterpolar"
           }
          ],
          "scatterpolargl": [
           {
            "marker": {
             "colorbar": {
              "outlinewidth": 0,
              "ticks": ""
             }
            },
            "type": "scatterpolargl"
           }
          ],
          "scatterternary": [
           {
            "marker": {
             "colorbar": {
              "outlinewidth": 0,
              "ticks": ""
             }
            },
            "type": "scatterternary"
           }
          ],
          "surface": [
           {
            "colorbar": {
             "outlinewidth": 0,
             "ticks": ""
            },
            "colorscale": [
             [
              0,
              "#0d0887"
             ],
             [
              0.1111111111111111,
              "#46039f"
             ],
             [
              0.2222222222222222,
              "#7201a8"
             ],
             [
              0.3333333333333333,
              "#9c179e"
             ],
             [
              0.4444444444444444,
              "#bd3786"
             ],
             [
              0.5555555555555556,
              "#d8576b"
             ],
             [
              0.6666666666666666,
              "#ed7953"
             ],
             [
              0.7777777777777778,
              "#fb9f3a"
             ],
             [
              0.8888888888888888,
              "#fdca26"
             ],
             [
              1,
              "#f0f921"
             ]
            ],
            "type": "surface"
           }
          ],
          "table": [
           {
            "cells": {
             "fill": {
              "color": "#EBF0F8"
             },
             "line": {
              "color": "white"
             }
            },
            "header": {
             "fill": {
              "color": "#C8D4E3"
             },
             "line": {
              "color": "white"
             }
            },
            "type": "table"
           }
          ]
         },
         "layout": {
          "annotationdefaults": {
           "arrowcolor": "#2a3f5f",
           "arrowhead": 0,
           "arrowwidth": 1
          },
          "autotypenumbers": "strict",
          "coloraxis": {
           "colorbar": {
            "outlinewidth": 0,
            "ticks": ""
           }
          },
          "colorscale": {
           "diverging": [
            [
             0,
             "#8e0152"
            ],
            [
             0.1,
             "#c51b7d"
            ],
            [
             0.2,
             "#de77ae"
            ],
            [
             0.3,
             "#f1b6da"
            ],
            [
             0.4,
             "#fde0ef"
            ],
            [
             0.5,
             "#f7f7f7"
            ],
            [
             0.6,
             "#e6f5d0"
            ],
            [
             0.7,
             "#b8e186"
            ],
            [
             0.8,
             "#7fbc41"
            ],
            [
             0.9,
             "#4d9221"
            ],
            [
             1,
             "#276419"
            ]
           ],
           "sequential": [
            [
             0,
             "#0d0887"
            ],
            [
             0.1111111111111111,
             "#46039f"
            ],
            [
             0.2222222222222222,
             "#7201a8"
            ],
            [
             0.3333333333333333,
             "#9c179e"
            ],
            [
             0.4444444444444444,
             "#bd3786"
            ],
            [
             0.5555555555555556,
             "#d8576b"
            ],
            [
             0.6666666666666666,
             "#ed7953"
            ],
            [
             0.7777777777777778,
             "#fb9f3a"
            ],
            [
             0.8888888888888888,
             "#fdca26"
            ],
            [
             1,
             "#f0f921"
            ]
           ],
           "sequentialminus": [
            [
             0,
             "#0d0887"
            ],
            [
             0.1111111111111111,
             "#46039f"
            ],
            [
             0.2222222222222222,
             "#7201a8"
            ],
            [
             0.3333333333333333,
             "#9c179e"
            ],
            [
             0.4444444444444444,
             "#bd3786"
            ],
            [
             0.5555555555555556,
             "#d8576b"
            ],
            [
             0.6666666666666666,
             "#ed7953"
            ],
            [
             0.7777777777777778,
             "#fb9f3a"
            ],
            [
             0.8888888888888888,
             "#fdca26"
            ],
            [
             1,
             "#f0f921"
            ]
           ]
          },
          "colorway": [
           "#636efa",
           "#EF553B",
           "#00cc96",
           "#ab63fa",
           "#FFA15A",
           "#19d3f3",
           "#FF6692",
           "#B6E880",
           "#FF97FF",
           "#FECB52"
          ],
          "font": {
           "color": "#2a3f5f"
          },
          "geo": {
           "bgcolor": "white",
           "lakecolor": "white",
           "landcolor": "#E5ECF6",
           "showlakes": true,
           "showland": true,
           "subunitcolor": "white"
          },
          "hoverlabel": {
           "align": "left"
          },
          "hovermode": "closest",
          "mapbox": {
           "style": "light"
          },
          "paper_bgcolor": "white",
          "plot_bgcolor": "#E5ECF6",
          "polar": {
           "angularaxis": {
            "gridcolor": "white",
            "linecolor": "white",
            "ticks": ""
           },
           "bgcolor": "#E5ECF6",
           "radialaxis": {
            "gridcolor": "white",
            "linecolor": "white",
            "ticks": ""
           }
          },
          "scene": {
           "xaxis": {
            "backgroundcolor": "#E5ECF6",
            "gridcolor": "white",
            "gridwidth": 2,
            "linecolor": "white",
            "showbackground": true,
            "ticks": "",
            "zerolinecolor": "white"
           },
           "yaxis": {
            "backgroundcolor": "#E5ECF6",
            "gridcolor": "white",
            "gridwidth": 2,
            "linecolor": "white",
            "showbackground": true,
            "ticks": "",
            "zerolinecolor": "white"
           },
           "zaxis": {
            "backgroundcolor": "#E5ECF6",
            "gridcolor": "white",
            "gridwidth": 2,
            "linecolor": "white",
            "showbackground": true,
            "ticks": "",
            "zerolinecolor": "white"
           }
          },
          "shapedefaults": {
           "line": {
            "color": "#2a3f5f"
           }
          },
          "ternary": {
           "aaxis": {
            "gridcolor": "white",
            "linecolor": "white",
            "ticks": ""
           },
           "baxis": {
            "gridcolor": "white",
            "linecolor": "white",
            "ticks": ""
           },
           "bgcolor": "#E5ECF6",
           "caxis": {
            "gridcolor": "white",
            "linecolor": "white",
            "ticks": ""
           }
          },
          "title": {
           "x": 0.05
          },
          "xaxis": {
           "automargin": true,
           "gridcolor": "white",
           "linecolor": "white",
           "ticks": "",
           "title": {
            "standoff": 15
           },
           "zerolinecolor": "white",
           "zerolinewidth": 2
          },
          "yaxis": {
           "automargin": true,
           "gridcolor": "white",
           "linecolor": "white",
           "ticks": "",
           "title": {
            "standoff": 15
           },
           "zerolinecolor": "white",
           "zerolinewidth": 2
          }
         }
        },
        "title": {
         "text": "Kapital und Verbindlichkeiten der Unternehmen (2023 vs 2024)"
        },
        "xaxis": {
         "tickmode": "array",
         "ticktext": [
          "2023\nAAPL",
          "2023\nMSFT",
          "2023\nGOOGL",
          "2024\nAAPL",
          "2024\nMSFT",
          "2024\nGOOGL"
         ],
         "tickvals": [
          "AAPL 2023",
          "MSFT 2023",
          "GOOGL 2023",
          "AAPL 2024",
          "MSFT 2024",
          "GOOGL 2024"
         ],
         "title": {
          "text": "Unternehmen und Jahr"
         }
        },
        "yaxis": {
         "title": {
          "text": "Betrag"
         }
        }
       }
      }
     },
     "metadata": {},
     "output_type": "display_data"
    }
   ],
   "source": [
    "# Beispielaufruf der Funktion\n",
    "create_dashboard(['AAPL', 'MSFT', 'GOOGL'])\n"
   ]
  },
  {
   "cell_type": "code",
   "execution_count": null,
   "metadata": {},
   "outputs": [],
   "source": [
    "def create_line_chart(ticker_symbols):\n",
    "    balance_sheets = {}\n",
    "    fig = go.Figure()\n",
    "\n",
    "    # Erstellen eines Dashboards für gegebene Unternehmen\n",
    "    for ticker in ticker_symbols:\n",
    "        balance_sheets[f'{ticker}'] = get_balance_sheet(ticker)\n",
    "\n",
    "    # Hinzufügen des Liniendiagramms für Verschuldungsquote und Eigenkapitalquote\n",
    "    for ticker, balance_sheet in balance_sheets.items():\n",
    "        fig.add_trace(go.Scatter(\n",
    "            x=balance_sheet.columns,\n",
    "            y=balance_sheet.loc['Verschuldungsquote'],\n",
    "            mode='lines+markers',\n",
    "            name=f'{ticker} Verschuldungsquote'\n",
    "        ))\n",
    "        fig.add_trace(go.Scatter(\n",
    "            x=balance_sheet.columns,\n",
    "            y=balance_sheet.loc['Eigenkapitalquote'],\n",
    "            mode='lines+markers',\n",
    "            name=f'{ticker} Eigenkapitalquote'\n",
    "        ))\n",
    "\n",
    "    # Layout anpassen für das Liniendiagramm\n",
    "    fig.update_layout(\n",
    "        title='Verlauf der Verschuldungsquote und Eigenkapitalquote',\n",
    "        xaxis_title='Jahr',\n",
    "        yaxis_title='Quote',\n",
    "        legend_title='Komponenten'\n",
    "    )\n",
    "\n",
    "    fig.show()"
   ]
  },
  {
   "cell_type": "code",
   "execution_count": null,
   "metadata": {},
   "outputs": [],
   "source": [
    "\n",
    "def generate_random_color():\n",
    "    return \"#{:06x}\".format(random.randint(0, 0xFFFFFF))\n",
    "\n",
    "def create_interactive_chart(ticker_symbols):\n",
    "    balance_sheets = {}\n",
    "    fig = go.Figure()\n",
    "\n",
    "    # Farben für die Unternehmen festlegen\n",
    "    company_colors = {ticker: generate_random_color() for ticker in ticker_symbols}\n",
    "\n",
    "    # Erstellen eines Dashboards für gegebene Unternehmen\n",
    "    for ticker in ticker_symbols:\n",
    "        balance_sheets[f'{ticker}'] = get_balance_sheet(ticker)\n",
    "\n",
    "    # Hinzufügen der Liniendiagramm-Daten für die Eigenkapitalquote\n",
    "    for ticker, balance_sheet in balance_sheets.items():\n",
    "        fig.add_trace(go.Scatter(\n",
    "            x=balance_sheet.columns,\n",
    "            y=balance_sheet.loc['Eigenkapitalquote'],\n",
    "            mode='lines+markers',\n",
    "            name=f'{ticker} Eigenkapitalquote',\n",
    "            line=dict(color=company_colors[ticker]),\n",
    "            visible=True\n",
    "        ))\n",
    "\n",
    "    # Hinzufügen der Liniendiagramm-Daten für die Verschuldungsquote\n",
    "    for ticker, balance_sheet in balance_sheets.items():\n",
    "        fig.add_trace(go.Scatter(\n",
    "            x=balance_sheet.columns,\n",
    "            y=balance_sheet.loc['Verschuldungsquote'],\n",
    "            mode='lines+markers',\n",
    "            name=f'{ticker} Verschuldungsquote',\n",
    "            line=dict(color=company_colors[ticker]),\n",
    "            visible=False\n",
    "        ))\n",
    "\n",
    "    # Layout anpassen für das interaktive Diagramm\n",
    "    fig.update_layout(\n",
    "        title='Eigenkapitalquote und Verschuldungsquote',\n",
    "        xaxis_title='Jahr',\n",
    "        yaxis_title='Quote',\n",
    "        legend_title='Unternehmen',\n",
    "        updatemenus=[\n",
    "            {\n",
    "                'buttons': [\n",
    "                    {\n",
    "                        'label': 'Eigenkapitalquote',\n",
    "                        'method': 'update',\n",
    "                        'args': [{'visible': [True if i < len(ticker_symbols) else False for i in range(2 * len(ticker_symbols))]},\n",
    "                                 {'title': 'Eigenkapitalquote'}]\n",
    "                    },\n",
    "                    {\n",
    "                        'label': 'Verschuldungsquote',\n",
    "                        'method': 'update',\n",
    "                        'args': [{'visible': [False if i < len(ticker_symbols) else True for i in range(2 * len(ticker_symbols))]},\n",
    "                                 {'title': 'Verschuldungsquote'}]\n",
    "                    }\n",
    "                ],\n",
    "                'direction': 'down',\n",
    "                'showactive': True\n",
    "            }\n",
    "        ]\n",
    "    )\n",
    "\n",
    "    fig.show()"
   ]
  },
  {
   "cell_type": "code",
   "execution_count": null,
   "metadata": {},
   "outputs": [
    {
     "name": "stdout",
     "output_type": "stream",
     "text": [
      "Bilanzdaten für Apple Inc. (AAPL):\n"
     ]
    },
    {
     "name": "stderr",
     "output_type": "stream",
     "text": [
      "C:\\Users\\halte\\AppData\\Local\\Temp\\ipykernel_16028\\3001435398.py:7: FutureWarning:\n",
      "\n",
      "DataFrame.applymap has been deprecated. Use DataFrame.map instead.\n",
      "\n"
     ]
    },
    {
     "name": "stdout",
     "output_type": "stream",
     "text": [
      "Bilanzdaten für Microsoft Corporation (MSFT):\n"
     ]
    },
    {
     "name": "stderr",
     "output_type": "stream",
     "text": [
      "C:\\Users\\halte\\AppData\\Local\\Temp\\ipykernel_16028\\3001435398.py:7: FutureWarning:\n",
      "\n",
      "DataFrame.applymap has been deprecated. Use DataFrame.map instead.\n",
      "\n"
     ]
    },
    {
     "name": "stdout",
     "output_type": "stream",
     "text": [
      "Bilanzdaten für Alphabet Inc. (GOOGL):\n"
     ]
    },
    {
     "name": "stderr",
     "output_type": "stream",
     "text": [
      "C:\\Users\\halte\\AppData\\Local\\Temp\\ipykernel_16028\\3001435398.py:7: FutureWarning:\n",
      "\n",
      "DataFrame.applymap has been deprecated. Use DataFrame.map instead.\n",
      "\n"
     ]
    },
    {
     "data": {
      "application/vnd.plotly.v1+json": {
       "config": {
        "plotlyServerURL": "https://plot.ly"
       },
       "data": [
        {
         "line": {
          "color": "blue"
         },
         "mode": "lines+markers",
         "name": "AAPL Eigenkapitalquote",
         "type": "scatter",
         "visible": true,
         "x": [
          "2024",
          "2023",
          "2022",
          "2021",
          "2020"
         ],
         "y": {
          "bdata": "jRQPZfz4wz8WGvRkqY/GP5lkWK0BY8I/AfBo7M0Bxz8AAAAAAAD4fw==",
          "dtype": "f8"
         }
        },
        {
         "line": {
          "color": "green"
         },
         "mode": "lines+markers",
         "name": "MSFT Eigenkapitalquote",
         "type": "scatter",
         "visible": true,
         "x": [
          "2024",
          "2023",
          "2022",
          "2021"
         ],
         "y": {
          "bdata": "86M1z0PG4D9NtsBCrATgP4uVgwP2Nt0/HRD1+6w52z8=",
          "dtype": "f8"
         }
        },
        {
         "line": {
          "color": "red"
         },
         "mode": "lines+markers",
         "name": "GOOGL Eigenkapitalquote",
         "type": "scatter",
         "visible": true,
         "x": [
          "2024",
          "2023",
          "2022",
          "2021",
          "2020"
         ],
         "y": {
          "bdata": "Z+hp3psa5z/cKaBJGonmP1JN9eGycOY/rYAW0cJp5j8AAAAAAAD4fw==",
          "dtype": "f8"
         }
        },
        {
         "line": {
          "color": "blue"
         },
         "mode": "lines+markers",
         "name": "AAPL Verschuldungsquote",
         "type": "scatter",
         "visible": false,
         "x": [
          "2024",
          "2023",
          "2022",
          "2021",
          "2020"
         ],
         "y": {
          "bdata": "3Tq85sAB6z97+cKmFVzqP9rmqZQ/Z+s//8PlhIw/6j8AAAAAAAD4fw==",
          "dtype": "f8"
         }
        },
        {
         "line": {
          "color": "green"
         },
         "mode": "lines+markers",
         "name": "MSFT Verschuldungsquote",
         "type": "scatter",
         "visible": false,
         "x": [
          "2024",
          "2023",
          "2022",
          "2021"
         ],
         "y": {
          "bdata": "GriUYXhz3j9kk356p/bfPzo1Pv6EZOE/8ncFgilj4j8=",
          "dtype": "f8"
         }
        },
        {
         "line": {
          "color": "red"
         },
         "mode": "lines+markers",
         "name": "GOOGL Verschuldungsquote",
         "type": "scatter",
         "visible": false,
         "x": [
          "2024",
          "2023",
          "2022",
          "2021",
          "2020"
         ],
         "y": {
          "bdata": "Mi8sQ8jK0T9KrL9sy+3SP11lFTyaHtM/pf7SXXos0z8AAAAAAAD4fw==",
          "dtype": "f8"
         }
        }
       ],
       "layout": {
        "legend": {
         "title": {
          "text": "Unternehmen"
         }
        },
        "template": {
         "data": {
          "bar": [
           {
            "error_x": {
             "color": "#2a3f5f"
            },
            "error_y": {
             "color": "#2a3f5f"
            },
            "marker": {
             "line": {
              "color": "#E5ECF6",
              "width": 0.5
             },
             "pattern": {
              "fillmode": "overlay",
              "size": 10,
              "solidity": 0.2
             }
            },
            "type": "bar"
           }
          ],
          "barpolar": [
           {
            "marker": {
             "line": {
              "color": "#E5ECF6",
              "width": 0.5
             },
             "pattern": {
              "fillmode": "overlay",
              "size": 10,
              "solidity": 0.2
             }
            },
            "type": "barpolar"
           }
          ],
          "carpet": [
           {
            "aaxis": {
             "endlinecolor": "#2a3f5f",
             "gridcolor": "white",
             "linecolor": "white",
             "minorgridcolor": "white",
             "startlinecolor": "#2a3f5f"
            },
            "baxis": {
             "endlinecolor": "#2a3f5f",
             "gridcolor": "white",
             "linecolor": "white",
             "minorgridcolor": "white",
             "startlinecolor": "#2a3f5f"
            },
            "type": "carpet"
           }
          ],
          "choropleth": [
           {
            "colorbar": {
             "outlinewidth": 0,
             "ticks": ""
            },
            "type": "choropleth"
           }
          ],
          "contour": [
           {
            "colorbar": {
             "outlinewidth": 0,
             "ticks": ""
            },
            "colorscale": [
             [
              0,
              "#0d0887"
             ],
             [
              0.1111111111111111,
              "#46039f"
             ],
             [
              0.2222222222222222,
              "#7201a8"
             ],
             [
              0.3333333333333333,
              "#9c179e"
             ],
             [
              0.4444444444444444,
              "#bd3786"
             ],
             [
              0.5555555555555556,
              "#d8576b"
             ],
             [
              0.6666666666666666,
              "#ed7953"
             ],
             [
              0.7777777777777778,
              "#fb9f3a"
             ],
             [
              0.8888888888888888,
              "#fdca26"
             ],
             [
              1,
              "#f0f921"
             ]
            ],
            "type": "contour"
           }
          ],
          "contourcarpet": [
           {
            "colorbar": {
             "outlinewidth": 0,
             "ticks": ""
            },
            "type": "contourcarpet"
           }
          ],
          "heatmap": [
           {
            "colorbar": {
             "outlinewidth": 0,
             "ticks": ""
            },
            "colorscale": [
             [
              0,
              "#0d0887"
             ],
             [
              0.1111111111111111,
              "#46039f"
             ],
             [
              0.2222222222222222,
              "#7201a8"
             ],
             [
              0.3333333333333333,
              "#9c179e"
             ],
             [
              0.4444444444444444,
              "#bd3786"
             ],
             [
              0.5555555555555556,
              "#d8576b"
             ],
             [
              0.6666666666666666,
              "#ed7953"
             ],
             [
              0.7777777777777778,
              "#fb9f3a"
             ],
             [
              0.8888888888888888,
              "#fdca26"
             ],
             [
              1,
              "#f0f921"
             ]
            ],
            "type": "heatmap"
           }
          ],
          "histogram": [
           {
            "marker": {
             "pattern": {
              "fillmode": "overlay",
              "size": 10,
              "solidity": 0.2
             }
            },
            "type": "histogram"
           }
          ],
          "histogram2d": [
           {
            "colorbar": {
             "outlinewidth": 0,
             "ticks": ""
            },
            "colorscale": [
             [
              0,
              "#0d0887"
             ],
             [
              0.1111111111111111,
              "#46039f"
             ],
             [
              0.2222222222222222,
              "#7201a8"
             ],
             [
              0.3333333333333333,
              "#9c179e"
             ],
             [
              0.4444444444444444,
              "#bd3786"
             ],
             [
              0.5555555555555556,
              "#d8576b"
             ],
             [
              0.6666666666666666,
              "#ed7953"
             ],
             [
              0.7777777777777778,
              "#fb9f3a"
             ],
             [
              0.8888888888888888,
              "#fdca26"
             ],
             [
              1,
              "#f0f921"
             ]
            ],
            "type": "histogram2d"
           }
          ],
          "histogram2dcontour": [
           {
            "colorbar": {
             "outlinewidth": 0,
             "ticks": ""
            },
            "colorscale": [
             [
              0,
              "#0d0887"
             ],
             [
              0.1111111111111111,
              "#46039f"
             ],
             [
              0.2222222222222222,
              "#7201a8"
             ],
             [
              0.3333333333333333,
              "#9c179e"
             ],
             [
              0.4444444444444444,
              "#bd3786"
             ],
             [
              0.5555555555555556,
              "#d8576b"
             ],
             [
              0.6666666666666666,
              "#ed7953"
             ],
             [
              0.7777777777777778,
              "#fb9f3a"
             ],
             [
              0.8888888888888888,
              "#fdca26"
             ],
             [
              1,
              "#f0f921"
             ]
            ],
            "type": "histogram2dcontour"
           }
          ],
          "mesh3d": [
           {
            "colorbar": {
             "outlinewidth": 0,
             "ticks": ""
            },
            "type": "mesh3d"
           }
          ],
          "parcoords": [
           {
            "line": {
             "colorbar": {
              "outlinewidth": 0,
              "ticks": ""
             }
            },
            "type": "parcoords"
           }
          ],
          "pie": [
           {
            "automargin": true,
            "type": "pie"
           }
          ],
          "scatter": [
           {
            "fillpattern": {
             "fillmode": "overlay",
             "size": 10,
             "solidity": 0.2
            },
            "type": "scatter"
           }
          ],
          "scatter3d": [
           {
            "line": {
             "colorbar": {
              "outlinewidth": 0,
              "ticks": ""
             }
            },
            "marker": {
             "colorbar": {
              "outlinewidth": 0,
              "ticks": ""
             }
            },
            "type": "scatter3d"
           }
          ],
          "scattercarpet": [
           {
            "marker": {
             "colorbar": {
              "outlinewidth": 0,
              "ticks": ""
             }
            },
            "type": "scattercarpet"
           }
          ],
          "scattergeo": [
           {
            "marker": {
             "colorbar": {
              "outlinewidth": 0,
              "ticks": ""
             }
            },
            "type": "scattergeo"
           }
          ],
          "scattergl": [
           {
            "marker": {
             "colorbar": {
              "outlinewidth": 0,
              "ticks": ""
             }
            },
            "type": "scattergl"
           }
          ],
          "scattermap": [
           {
            "marker": {
             "colorbar": {
              "outlinewidth": 0,
              "ticks": ""
             }
            },
            "type": "scattermap"
           }
          ],
          "scattermapbox": [
           {
            "marker": {
             "colorbar": {
              "outlinewidth": 0,
              "ticks": ""
             }
            },
            "type": "scattermapbox"
           }
          ],
          "scatterpolar": [
           {
            "marker": {
             "colorbar": {
              "outlinewidth": 0,
              "ticks": ""
             }
            },
            "type": "scatterpolar"
           }
          ],
          "scatterpolargl": [
           {
            "marker": {
             "colorbar": {
              "outlinewidth": 0,
              "ticks": ""
             }
            },
            "type": "scatterpolargl"
           }
          ],
          "scatterternary": [
           {
            "marker": {
             "colorbar": {
              "outlinewidth": 0,
              "ticks": ""
             }
            },
            "type": "scatterternary"
           }
          ],
          "surface": [
           {
            "colorbar": {
             "outlinewidth": 0,
             "ticks": ""
            },
            "colorscale": [
             [
              0,
              "#0d0887"
             ],
             [
              0.1111111111111111,
              "#46039f"
             ],
             [
              0.2222222222222222,
              "#7201a8"
             ],
             [
              0.3333333333333333,
              "#9c179e"
             ],
             [
              0.4444444444444444,
              "#bd3786"
             ],
             [
              0.5555555555555556,
              "#d8576b"
             ],
             [
              0.6666666666666666,
              "#ed7953"
             ],
             [
              0.7777777777777778,
              "#fb9f3a"
             ],
             [
              0.8888888888888888,
              "#fdca26"
             ],
             [
              1,
              "#f0f921"
             ]
            ],
            "type": "surface"
           }
          ],
          "table": [
           {
            "cells": {
             "fill": {
              "color": "#EBF0F8"
             },
             "line": {
              "color": "white"
             }
            },
            "header": {
             "fill": {
              "color": "#C8D4E3"
             },
             "line": {
              "color": "white"
             }
            },
            "type": "table"
           }
          ]
         },
         "layout": {
          "annotationdefaults": {
           "arrowcolor": "#2a3f5f",
           "arrowhead": 0,
           "arrowwidth": 1
          },
          "autotypenumbers": "strict",
          "coloraxis": {
           "colorbar": {
            "outlinewidth": 0,
            "ticks": ""
           }
          },
          "colorscale": {
           "diverging": [
            [
             0,
             "#8e0152"
            ],
            [
             0.1,
             "#c51b7d"
            ],
            [
             0.2,
             "#de77ae"
            ],
            [
             0.3,
             "#f1b6da"
            ],
            [
             0.4,
             "#fde0ef"
            ],
            [
             0.5,
             "#f7f7f7"
            ],
            [
             0.6,
             "#e6f5d0"
            ],
            [
             0.7,
             "#b8e186"
            ],
            [
             0.8,
             "#7fbc41"
            ],
            [
             0.9,
             "#4d9221"
            ],
            [
             1,
             "#276419"
            ]
           ],
           "sequential": [
            [
             0,
             "#0d0887"
            ],
            [
             0.1111111111111111,
             "#46039f"
            ],
            [
             0.2222222222222222,
             "#7201a8"
            ],
            [
             0.3333333333333333,
             "#9c179e"
            ],
            [
             0.4444444444444444,
             "#bd3786"
            ],
            [
             0.5555555555555556,
             "#d8576b"
            ],
            [
             0.6666666666666666,
             "#ed7953"
            ],
            [
             0.7777777777777778,
             "#fb9f3a"
            ],
            [
             0.8888888888888888,
             "#fdca26"
            ],
            [
             1,
             "#f0f921"
            ]
           ],
           "sequentialminus": [
            [
             0,
             "#0d0887"
            ],
            [
             0.1111111111111111,
             "#46039f"
            ],
            [
             0.2222222222222222,
             "#7201a8"
            ],
            [
             0.3333333333333333,
             "#9c179e"
            ],
            [
             0.4444444444444444,
             "#bd3786"
            ],
            [
             0.5555555555555556,
             "#d8576b"
            ],
            [
             0.6666666666666666,
             "#ed7953"
            ],
            [
             0.7777777777777778,
             "#fb9f3a"
            ],
            [
             0.8888888888888888,
             "#fdca26"
            ],
            [
             1,
             "#f0f921"
            ]
           ]
          },
          "colorway": [
           "#636efa",
           "#EF553B",
           "#00cc96",
           "#ab63fa",
           "#FFA15A",
           "#19d3f3",
           "#FF6692",
           "#B6E880",
           "#FF97FF",
           "#FECB52"
          ],
          "font": {
           "color": "#2a3f5f"
          },
          "geo": {
           "bgcolor": "white",
           "lakecolor": "white",
           "landcolor": "#E5ECF6",
           "showlakes": true,
           "showland": true,
           "subunitcolor": "white"
          },
          "hoverlabel": {
           "align": "left"
          },
          "hovermode": "closest",
          "mapbox": {
           "style": "light"
          },
          "paper_bgcolor": "white",
          "plot_bgcolor": "#E5ECF6",
          "polar": {
           "angularaxis": {
            "gridcolor": "white",
            "linecolor": "white",
            "ticks": ""
           },
           "bgcolor": "#E5ECF6",
           "radialaxis": {
            "gridcolor": "white",
            "linecolor": "white",
            "ticks": ""
           }
          },
          "scene": {
           "xaxis": {
            "backgroundcolor": "#E5ECF6",
            "gridcolor": "white",
            "gridwidth": 2,
            "linecolor": "white",
            "showbackground": true,
            "ticks": "",
            "zerolinecolor": "white"
           },
           "yaxis": {
            "backgroundcolor": "#E5ECF6",
            "gridcolor": "white",
            "gridwidth": 2,
            "linecolor": "white",
            "showbackground": true,
            "ticks": "",
            "zerolinecolor": "white"
           },
           "zaxis": {
            "backgroundcolor": "#E5ECF6",
            "gridcolor": "white",
            "gridwidth": 2,
            "linecolor": "white",
            "showbackground": true,
            "ticks": "",
            "zerolinecolor": "white"
           }
          },
          "shapedefaults": {
           "line": {
            "color": "#2a3f5f"
           }
          },
          "ternary": {
           "aaxis": {
            "gridcolor": "white",
            "linecolor": "white",
            "ticks": ""
           },
           "baxis": {
            "gridcolor": "white",
            "linecolor": "white",
            "ticks": ""
           },
           "bgcolor": "#E5ECF6",
           "caxis": {
            "gridcolor": "white",
            "linecolor": "white",
            "ticks": ""
           }
          },
          "title": {
           "x": 0.05
          },
          "xaxis": {
           "automargin": true,
           "gridcolor": "white",
           "linecolor": "white",
           "ticks": "",
           "title": {
            "standoff": 15
           },
           "zerolinecolor": "white",
           "zerolinewidth": 2
          },
          "yaxis": {
           "automargin": true,
           "gridcolor": "white",
           "linecolor": "white",
           "ticks": "",
           "title": {
            "standoff": 15
           },
           "zerolinecolor": "white",
           "zerolinewidth": 2
          }
         }
        },
        "title": {
         "text": "Eigenkapitalquote und Verschuldungsquote"
        },
        "updatemenus": [
         {
          "buttons": [
           {
            "args": [
             {
              "visible": [
               true,
               true,
               true,
               false,
               false,
               false
              ]
             },
             {
              "title": "Eigenkapitalquote"
             }
            ],
            "label": "Eigenkapitalquote",
            "method": "update"
           },
           {
            "args": [
             {
              "visible": [
               false,
               false,
               false,
               true,
               true,
               true
              ]
             },
             {
              "title": "Verschuldungsquote"
             }
            ],
            "label": "Verschuldungsquote",
            "method": "update"
           }
          ],
          "direction": "down",
          "showactive": true
         }
        ],
        "xaxis": {
         "title": {
          "text": "Jahr"
         }
        },
        "yaxis": {
         "title": {
          "text": "Quote"
         }
        }
       }
      }
     },
     "metadata": {},
     "output_type": "display_data"
    }
   ],
   "source": [
    "create_interactive_chart(['AAPL', 'MSFT', 'GOOGL'])"
   ]
  },
  {
   "cell_type": "code",
   "execution_count": null,
   "metadata": {},
   "outputs": [],
   "source": []
  },
  {
   "cell_type": "code",
   "execution_count": null,
   "metadata": {},
   "outputs": [],
   "source": [
    "def concat_filtered_balance_sheets(ticker_symbols):\n",
    "    balance_sheets = {}\n",
    "    \n",
    "    # Lade die gefilterten Bilanzdaten für jedes Unternehmen und speichere sie im Dictionary\n",
    "    for ticker in ticker_symbols:\n",
    "        balance_sheets[f'{ticker}'] = get_filtered_balance_sheet(ticker)\n",
    "    \n",
    "    # Umrechnung der Werte von Dollar in Euro\n",
    "    for key, df in balance_sheets.items():\n",
    "        balance_sheets[key] = convert_dataframe_to_euro(df)\n",
    "\n",
    "    # Berchnene der KPIs für jedes Unternehmen\n",
    "    for key, df in balance_sheets.items():\n",
    "        balance_sheets[key] = calculate_kpis(df)\n",
    "\n",
    "    # Übersetzen der Indices in Deutsch\n",
    "    for key, df in balance_sheets.items():\n",
    "        balance_sheets[key] = translate_indices(df)\n",
    "        \n",
    "    # Konkatinieren der DataFrames\n",
    "    df_combined = pd.concat(balance_sheets.values(), keys=balance_sheets.keys(), names=['Company', 'Index'])\n",
    "    \n",
    "    return df_combined"
   ]
  },
  {
   "cell_type": "code",
   "execution_count": null,
   "metadata": {},
   "outputs": [
    {
     "name": "stdout",
     "output_type": "stream",
     "text": [
      "Bilanzdaten für Apple Inc. (AAPL):\n",
      "Bilanzdaten für Microsoft Corporation (MSFT):\n"
     ]
    },
    {
     "name": "stderr",
     "output_type": "stream",
     "text": [
      "C:\\Users\\halte\\AppData\\Local\\Temp\\ipykernel_16028\\3001435398.py:7: FutureWarning:\n",
      "\n",
      "DataFrame.applymap has been deprecated. Use DataFrame.map instead.\n",
      "\n",
      "C:\\Users\\halte\\AppData\\Local\\Temp\\ipykernel_16028\\3001435398.py:7: FutureWarning:\n",
      "\n",
      "DataFrame.applymap has been deprecated. Use DataFrame.map instead.\n",
      "\n"
     ]
    },
    {
     "data": {
      "text/html": [
       "<div>\n",
       "<style scoped>\n",
       "    .dataframe tbody tr th:only-of-type {\n",
       "        vertical-align: middle;\n",
       "    }\n",
       "\n",
       "    .dataframe tbody tr th {\n",
       "        vertical-align: top;\n",
       "    }\n",
       "\n",
       "    .dataframe thead th {\n",
       "        text-align: right;\n",
       "    }\n",
       "</style>\n",
       "<table border=\"1\" class=\"dataframe\">\n",
       "  <thead>\n",
       "    <tr style=\"text-align: right;\">\n",
       "      <th></th>\n",
       "      <th></th>\n",
       "      <th>2024</th>\n",
       "      <th>2023</th>\n",
       "      <th>2022</th>\n",
       "      <th>2021</th>\n",
       "      <th>2020</th>\n",
       "    </tr>\n",
       "    <tr>\n",
       "      <th>Company</th>\n",
       "      <th>Index</th>\n",
       "      <th></th>\n",
       "      <th></th>\n",
       "      <th></th>\n",
       "      <th></th>\n",
       "      <th></th>\n",
       "    </tr>\n",
       "  </thead>\n",
       "  <tbody>\n",
       "    <tr>\n",
       "      <th rowspan=\"17\" valign=\"top\">AAPL</th>\n",
       "      <th>Gesamtanlagevermögen</th>\n",
       "      <td>2.018809e+11</td>\n",
       "      <td>1.990469e+11</td>\n",
       "      <td>2.069824e+11</td>\n",
       "      <td>2.058549e+11</td>\n",
       "      <td>NaN</td>\n",
       "    </tr>\n",
       "    <tr>\n",
       "      <th>Umlaufvermögen</th>\n",
       "      <td>1.456895e+11</td>\n",
       "      <td>1.367179e+11</td>\n",
       "      <td>1.289462e+11</td>\n",
       "      <td>1.284043e+11</td>\n",
       "      <td>NaN</td>\n",
       "    </tr>\n",
       "    <tr>\n",
       "      <th>Inventory</th>\n",
       "      <td>6.938458e+09</td>\n",
       "      <td>6.029011e+09</td>\n",
       "      <td>4.710076e+09</td>\n",
       "      <td>6.266134e+09</td>\n",
       "      <td>NaN</td>\n",
       "    </tr>\n",
       "    <tr>\n",
       "      <th>Forderungen</th>\n",
       "      <td>6.308321e+10</td>\n",
       "      <td>5.807602e+10</td>\n",
       "      <td>5.802554e+10</td>\n",
       "      <td>4.904916e+10</td>\n",
       "      <td>NaN</td>\n",
       "    </tr>\n",
       "    <tr>\n",
       "      <th>Cash Cash Equivalents And Short Term Investments</th>\n",
       "      <td>6.206234e+10</td>\n",
       "      <td>5.861883e+10</td>\n",
       "      <td>4.599990e+10</td>\n",
       "      <td>5.965112e+10</td>\n",
       "      <td>NaN</td>\n",
       "    </tr>\n",
       "    <tr>\n",
       "      <th>Eigenkapital</th>\n",
       "      <td>5.423349e+10</td>\n",
       "      <td>5.918164e+10</td>\n",
       "      <td>4.825495e+10</td>\n",
       "      <td>6.008061e+10</td>\n",
       "      <td>NaN</td>\n",
       "    </tr>\n",
       "    <tr>\n",
       "      <th>Gesamtverbindlichkeiten ohne Minderheitsanteile</th>\n",
       "      <td>2.933370e+11</td>\n",
       "      <td>2.765832e+11</td>\n",
       "      <td>2.876736e+11</td>\n",
       "      <td>2.741786e+11</td>\n",
       "      <td>NaN</td>\n",
       "    </tr>\n",
       "    <tr>\n",
       "      <th>Kurzfristige Verbindlichkeiten</th>\n",
       "      <td>1.679781e+11</td>\n",
       "      <td>1.383768e+11</td>\n",
       "      <td>1.466371e+11</td>\n",
       "      <td>1.194956e+11</td>\n",
       "      <td>NaN</td>\n",
       "    </tr>\n",
       "    <tr>\n",
       "      <th>Langfristige Verbindlichkeiten</th>\n",
       "      <td>1.253589e+11</td>\n",
       "      <td>1.382063e+11</td>\n",
       "      <td>1.410366e+11</td>\n",
       "      <td>1.546830e+11</td>\n",
       "      <td>NaN</td>\n",
       "    </tr>\n",
       "    <tr>\n",
       "      <th>Eigenkapitalquote</th>\n",
       "      <td>1.560359e-01</td>\n",
       "      <td>1.762592e-01</td>\n",
       "      <td>1.436464e-01</td>\n",
       "      <td>1.797426e-01</td>\n",
       "      <td>NaN</td>\n",
       "    </tr>\n",
       "    <tr>\n",
       "      <th>Verschuldungsquote</th>\n",
       "      <td>8.439641e-01</td>\n",
       "      <td>8.237408e-01</td>\n",
       "      <td>8.563536e-01</td>\n",
       "      <td>8.202574e-01</td>\n",
       "      <td>NaN</td>\n",
       "    </tr>\n",
       "    <tr>\n",
       "      <th>Statischer Verschuldungsgrad</th>\n",
       "      <td>5.408780e+00</td>\n",
       "      <td>4.673462e+00</td>\n",
       "      <td>5.961537e+00</td>\n",
       "      <td>4.563512e+00</td>\n",
       "      <td>NaN</td>\n",
       "    </tr>\n",
       "    <tr>\n",
       "      <th>Anlageintensität</th>\n",
       "      <td>5.808346e-01</td>\n",
       "      <td>5.928164e-01</td>\n",
       "      <td>6.161500e-01</td>\n",
       "      <td>6.158540e-01</td>\n",
       "      <td>NaN</td>\n",
       "    </tr>\n",
       "    <tr>\n",
       "      <th>Umlaufquote</th>\n",
       "      <td>4.191654e-01</td>\n",
       "      <td>4.071836e-01</td>\n",
       "      <td>3.838500e-01</td>\n",
       "      <td>3.841460e-01</td>\n",
       "      <td>NaN</td>\n",
       "    </tr>\n",
       "    <tr>\n",
       "      <th>Forderungsquote</th>\n",
       "      <td>1.814976e-01</td>\n",
       "      <td>1.729664e-01</td>\n",
       "      <td>1.727318e-01</td>\n",
       "      <td>1.467399e-01</td>\n",
       "      <td>NaN</td>\n",
       "    </tr>\n",
       "    <tr>\n",
       "      <th>1. Liquiditätsquote</th>\n",
       "      <td>8.673126e-01</td>\n",
       "      <td>9.880117e-01</td>\n",
       "      <td>8.793560e-01</td>\n",
       "      <td>1.074553e+00</td>\n",
       "      <td>NaN</td>\n",
       "    </tr>\n",
       "    <tr>\n",
       "      <th>Netto-Umlaufvermögen</th>\n",
       "      <td>-2.228858e+10</td>\n",
       "      <td>-1.658907e+09</td>\n",
       "      <td>-1.769088e+10</td>\n",
       "      <td>8.908767e+09</td>\n",
       "      <td>NaN</td>\n",
       "    </tr>\n",
       "    <tr>\n",
       "      <th rowspan=\"13\" valign=\"top\">MSFT</th>\n",
       "      <th>Gesamtanlagevermögen</th>\n",
       "      <td>3.356181e+11</td>\n",
       "      <td>2.168568e+11</td>\n",
       "      <td>1.858471e+11</td>\n",
       "      <td>1.422479e+11</td>\n",
       "      <td>NaN</td>\n",
       "    </tr>\n",
       "    <tr>\n",
       "      <th>Umlaufvermögen</th>\n",
       "      <td>1.521147e+11</td>\n",
       "      <td>1.754679e+11</td>\n",
       "      <td>1.615901e+11</td>\n",
       "      <td>1.756098e+11</td>\n",
       "      <td>NaN</td>\n",
       "    </tr>\n",
       "    <tr>\n",
       "      <th>Inventory</th>\n",
       "      <td>1.186566e+09</td>\n",
       "      <td>2.380750e+09</td>\n",
       "      <td>3.563507e+09</td>\n",
       "      <td>2.510263e+09</td>\n",
       "      <td>NaN</td>\n",
       "    </tr>\n",
       "    <tr>\n",
       "      <th>Forderungen</th>\n",
       "      <td>5.420873e+10</td>\n",
       "      <td>4.636558e+10</td>\n",
       "      <td>4.214975e+10</td>\n",
       "      <td>3.622835e+10</td>\n",
       "      <td>NaN</td>\n",
       "    </tr>\n",
       "    <tr>\n",
       "      <th>Cash Cash Equivalents And Short Term Investments</th>\n",
       "      <td>7.192817e+10</td>\n",
       "      <td>1.059491e+11</td>\n",
       "      <td>9.975247e+10</td>\n",
       "      <td>1.240428e+11</td>\n",
       "      <td>NaN</td>\n",
       "    </tr>\n",
       "    <tr>\n",
       "      <th>Eigenkapital</th>\n",
       "      <td>2.556707e+11</td>\n",
       "      <td>1.963862e+11</td>\n",
       "      <td>1.585979e+11</td>\n",
       "      <td>1.352152e+11</td>\n",
       "      <td>NaN</td>\n",
       "    </tr>\n",
       "    <tr>\n",
       "      <th>Gesamtverbindlichkeiten ohne Minderheitsanteile</th>\n",
       "      <td>2.320622e+11</td>\n",
       "      <td>1.959386e+11</td>\n",
       "      <td>1.888392e+11</td>\n",
       "      <td>1.826426e+11</td>\n",
       "      <td>NaN</td>\n",
       "    </tr>\n",
       "    <tr>\n",
       "      <th>Kurzfristige Verbindlichkeiten</th>\n",
       "      <td>1.193099e+11</td>\n",
       "      <td>9.918109e+10</td>\n",
       "      <td>9.054659e+10</td>\n",
       "      <td>8.442806e+10</td>\n",
       "      <td>NaN</td>\n",
       "    </tr>\n",
       "    <tr>\n",
       "      <th>Langfristige Verbindlichkeiten</th>\n",
       "      <td>1.127523e+11</td>\n",
       "      <td>9.675749e+10</td>\n",
       "      <td>9.829260e+10</td>\n",
       "      <td>9.821451e+10</td>\n",
       "      <td>NaN</td>\n",
       "    </tr>\n",
       "    <tr>\n",
       "      <th>Eigenkapitalquote</th>\n",
       "      <td>5.242023e-01</td>\n",
       "      <td>5.005704e-01</td>\n",
       "      <td>4.564796e-01</td>\n",
       "      <td>4.253952e-01</td>\n",
       "      <td>NaN</td>\n",
       "    </tr>\n",
       "    <tr>\n",
       "      <th>Verschuldungsquote</th>\n",
       "      <td>4.757977e-01</td>\n",
       "      <td>4.994296e-01</td>\n",
       "      <td>5.435204e-01</td>\n",
       "      <td>5.746048e-01</td>\n",
       "      <td>NaN</td>\n",
       "    </tr>\n",
       "    <tr>\n",
       "      <th>Statischer Verschuldungsgrad</th>\n",
       "      <td>9.076606e-01</td>\n",
       "      <td>9.977209e-01</td>\n",
       "      <td>1.190679e+00</td>\n",
       "      <td>1.350755e+00</td>\n",
       "      <td>NaN</td>\n",
       "    </tr>\n",
       "    <tr>\n",
       "      <th>Anlageintensität</th>\n",
       "      <td>6.881188e-01</td>\n",
       "      <td>5.527482e-01</td>\n",
       "      <td>5.349085e-01</td>\n",
       "      <td>4.475207e-01</td>\n",
       "      <td>NaN</td>\n",
       "    </tr>\n",
       "  </tbody>\n",
       "</table>\n",
       "</div>"
      ],
      "text/plain": [
       "                                                                  2024  \\\n",
       "Company Index                                                            \n",
       "AAPL    Gesamtanlagevermögen                              2.018809e+11   \n",
       "        Umlaufvermögen                                    1.456895e+11   \n",
       "        Inventory                                         6.938458e+09   \n",
       "        Forderungen                                       6.308321e+10   \n",
       "        Cash Cash Equivalents And Short Term Investments  6.206234e+10   \n",
       "        Eigenkapital                                      5.423349e+10   \n",
       "        Gesamtverbindlichkeiten ohne Minderheitsanteile   2.933370e+11   \n",
       "        Kurzfristige Verbindlichkeiten                    1.679781e+11   \n",
       "        Langfristige Verbindlichkeiten                    1.253589e+11   \n",
       "        Eigenkapitalquote                                 1.560359e-01   \n",
       "        Verschuldungsquote                                8.439641e-01   \n",
       "        Statischer Verschuldungsgrad                      5.408780e+00   \n",
       "        Anlageintensität                                  5.808346e-01   \n",
       "        Umlaufquote                                       4.191654e-01   \n",
       "        Forderungsquote                                   1.814976e-01   \n",
       "        1. Liquiditätsquote                               8.673126e-01   \n",
       "        Netto-Umlaufvermögen                             -2.228858e+10   \n",
       "MSFT    Gesamtanlagevermögen                              3.356181e+11   \n",
       "        Umlaufvermögen                                    1.521147e+11   \n",
       "        Inventory                                         1.186566e+09   \n",
       "        Forderungen                                       5.420873e+10   \n",
       "        Cash Cash Equivalents And Short Term Investments  7.192817e+10   \n",
       "        Eigenkapital                                      2.556707e+11   \n",
       "        Gesamtverbindlichkeiten ohne Minderheitsanteile   2.320622e+11   \n",
       "        Kurzfristige Verbindlichkeiten                    1.193099e+11   \n",
       "        Langfristige Verbindlichkeiten                    1.127523e+11   \n",
       "        Eigenkapitalquote                                 5.242023e-01   \n",
       "        Verschuldungsquote                                4.757977e-01   \n",
       "        Statischer Verschuldungsgrad                      9.076606e-01   \n",
       "        Anlageintensität                                  6.881188e-01   \n",
       "\n",
       "                                                                  2023  \\\n",
       "Company Index                                                            \n",
       "AAPL    Gesamtanlagevermögen                              1.990469e+11   \n",
       "        Umlaufvermögen                                    1.367179e+11   \n",
       "        Inventory                                         6.029011e+09   \n",
       "        Forderungen                                       5.807602e+10   \n",
       "        Cash Cash Equivalents And Short Term Investments  5.861883e+10   \n",
       "        Eigenkapital                                      5.918164e+10   \n",
       "        Gesamtverbindlichkeiten ohne Minderheitsanteile   2.765832e+11   \n",
       "        Kurzfristige Verbindlichkeiten                    1.383768e+11   \n",
       "        Langfristige Verbindlichkeiten                    1.382063e+11   \n",
       "        Eigenkapitalquote                                 1.762592e-01   \n",
       "        Verschuldungsquote                                8.237408e-01   \n",
       "        Statischer Verschuldungsgrad                      4.673462e+00   \n",
       "        Anlageintensität                                  5.928164e-01   \n",
       "        Umlaufquote                                       4.071836e-01   \n",
       "        Forderungsquote                                   1.729664e-01   \n",
       "        1. Liquiditätsquote                               9.880117e-01   \n",
       "        Netto-Umlaufvermögen                             -1.658907e+09   \n",
       "MSFT    Gesamtanlagevermögen                              2.168568e+11   \n",
       "        Umlaufvermögen                                    1.754679e+11   \n",
       "        Inventory                                         2.380750e+09   \n",
       "        Forderungen                                       4.636558e+10   \n",
       "        Cash Cash Equivalents And Short Term Investments  1.059491e+11   \n",
       "        Eigenkapital                                      1.963862e+11   \n",
       "        Gesamtverbindlichkeiten ohne Minderheitsanteile   1.959386e+11   \n",
       "        Kurzfristige Verbindlichkeiten                    9.918109e+10   \n",
       "        Langfristige Verbindlichkeiten                    9.675749e+10   \n",
       "        Eigenkapitalquote                                 5.005704e-01   \n",
       "        Verschuldungsquote                                4.994296e-01   \n",
       "        Statischer Verschuldungsgrad                      9.977209e-01   \n",
       "        Anlageintensität                                  5.527482e-01   \n",
       "\n",
       "                                                                  2022  \\\n",
       "Company Index                                                            \n",
       "AAPL    Gesamtanlagevermögen                              2.069824e+11   \n",
       "        Umlaufvermögen                                    1.289462e+11   \n",
       "        Inventory                                         4.710076e+09   \n",
       "        Forderungen                                       5.802554e+10   \n",
       "        Cash Cash Equivalents And Short Term Investments  4.599990e+10   \n",
       "        Eigenkapital                                      4.825495e+10   \n",
       "        Gesamtverbindlichkeiten ohne Minderheitsanteile   2.876736e+11   \n",
       "        Kurzfristige Verbindlichkeiten                    1.466371e+11   \n",
       "        Langfristige Verbindlichkeiten                    1.410366e+11   \n",
       "        Eigenkapitalquote                                 1.436464e-01   \n",
       "        Verschuldungsquote                                8.563536e-01   \n",
       "        Statischer Verschuldungsgrad                      5.961537e+00   \n",
       "        Anlageintensität                                  6.161500e-01   \n",
       "        Umlaufquote                                       3.838500e-01   \n",
       "        Forderungsquote                                   1.727318e-01   \n",
       "        1. Liquiditätsquote                               8.793560e-01   \n",
       "        Netto-Umlaufvermögen                             -1.769088e+10   \n",
       "MSFT    Gesamtanlagevermögen                              1.858471e+11   \n",
       "        Umlaufvermögen                                    1.615901e+11   \n",
       "        Inventory                                         3.563507e+09   \n",
       "        Forderungen                                       4.214975e+10   \n",
       "        Cash Cash Equivalents And Short Term Investments  9.975247e+10   \n",
       "        Eigenkapital                                      1.585979e+11   \n",
       "        Gesamtverbindlichkeiten ohne Minderheitsanteile   1.888392e+11   \n",
       "        Kurzfristige Verbindlichkeiten                    9.054659e+10   \n",
       "        Langfristige Verbindlichkeiten                    9.829260e+10   \n",
       "        Eigenkapitalquote                                 4.564796e-01   \n",
       "        Verschuldungsquote                                5.435204e-01   \n",
       "        Statischer Verschuldungsgrad                      1.190679e+00   \n",
       "        Anlageintensität                                  5.349085e-01   \n",
       "\n",
       "                                                                  2021  2020  \n",
       "Company Index                                                                 \n",
       "AAPL    Gesamtanlagevermögen                              2.058549e+11   NaN  \n",
       "        Umlaufvermögen                                    1.284043e+11   NaN  \n",
       "        Inventory                                         6.266134e+09   NaN  \n",
       "        Forderungen                                       4.904916e+10   NaN  \n",
       "        Cash Cash Equivalents And Short Term Investments  5.965112e+10   NaN  \n",
       "        Eigenkapital                                      6.008061e+10   NaN  \n",
       "        Gesamtverbindlichkeiten ohne Minderheitsanteile   2.741786e+11   NaN  \n",
       "        Kurzfristige Verbindlichkeiten                    1.194956e+11   NaN  \n",
       "        Langfristige Verbindlichkeiten                    1.546830e+11   NaN  \n",
       "        Eigenkapitalquote                                 1.797426e-01   NaN  \n",
       "        Verschuldungsquote                                8.202574e-01   NaN  \n",
       "        Statischer Verschuldungsgrad                      4.563512e+00   NaN  \n",
       "        Anlageintensität                                  6.158540e-01   NaN  \n",
       "        Umlaufquote                                       3.841460e-01   NaN  \n",
       "        Forderungsquote                                   1.467399e-01   NaN  \n",
       "        1. Liquiditätsquote                               1.074553e+00   NaN  \n",
       "        Netto-Umlaufvermögen                              8.908767e+09   NaN  \n",
       "MSFT    Gesamtanlagevermögen                              1.422479e+11   NaN  \n",
       "        Umlaufvermögen                                    1.756098e+11   NaN  \n",
       "        Inventory                                         2.510263e+09   NaN  \n",
       "        Forderungen                                       3.622835e+10   NaN  \n",
       "        Cash Cash Equivalents And Short Term Investments  1.240428e+11   NaN  \n",
       "        Eigenkapital                                      1.352152e+11   NaN  \n",
       "        Gesamtverbindlichkeiten ohne Minderheitsanteile   1.826426e+11   NaN  \n",
       "        Kurzfristige Verbindlichkeiten                    8.442806e+10   NaN  \n",
       "        Langfristige Verbindlichkeiten                    9.821451e+10   NaN  \n",
       "        Eigenkapitalquote                                 4.253952e-01   NaN  \n",
       "        Verschuldungsquote                                5.746048e-01   NaN  \n",
       "        Statischer Verschuldungsgrad                      1.350755e+00   NaN  \n",
       "        Anlageintensität                                  4.475207e-01   NaN  "
      ]
     },
     "execution_count": 96,
     "metadata": {},
     "output_type": "execute_result"
    }
   ],
   "source": [
    "# Beispielaufruf\n",
    "ticker_symbols = ['AAPL', 'MSFT']\n",
    "df_combined = concat_filtered_balance_sheets(ticker_symbols)\n",
    "\n",
    "df_combined.head(30)"
   ]
  },
  {
   "cell_type": "code",
   "execution_count": null,
   "metadata": {},
   "outputs": [],
   "source": [
    "from flask import Flask, render_template, request, jsonify\n",
    "from flask_cors import CORS\n",
    "import yfinance as yf\n",
    "import plotly.graph_objects as go\n",
    "\n",
    "app = Flask(__name__)\n",
    "CORS(app)  # CORS für alle Routen aktivieren\n",
    "\n",
    "def get_company_info(symbols):\n",
    "    return {symbol: yf.Ticker(symbol).info for symbol in symbols}\n",
    "\n",
    "def create_company_table(symbols):\n",
    "    data = get_company_info(symbols)\n",
    "    namen = [data[symbol].get('shortName', 'N/A') for symbol in data]\n",
    "    branchen = [data[symbol].get('sector', 'N/A') for symbol in data]\n",
    "    länder = [data[symbol].get('country', 'N/A') for symbol in data]\n",
    "    mitarbeiter = [data[symbol].get('fullTimeEmployees', 'N/A') for symbol in data]\n",
    "\n",
    "    fig = go.Figure(data=[go.Table(\n",
    "        header=dict(values=['Unternehmen', 'Branche', 'Land', 'Mitarbeiter'],\n",
    "                    fill_color='paleturquoise',\n",
    "                    align='left'),\n",
    "        cells=dict(values=[namen, branchen, länder, mitarbeiter],\n",
    "                   fill_color='lavender',\n",
    "                   align='left'))\n",
    "    ])\n",
    "    return fig\n",
    "\n",
    "def get_filtered_balance_sheet(ticker_symbol):\n",
    "    indices = [\n",
    "        'Total Non Current Assets', 'Current Assets', 'Inventory', 'Receivables',\n",
    "        'Cash Cash Equivalents And Short Term Investments', 'Stockholders Equity',\n",
    "        'Total Liabilities Net Minority Interest', 'Current Liabilities',\n",
    "        'Total Non Current Liabilities Net Minority Interest'\n",
    "    ]\n",
    "    ticker = yf.Ticker(ticker_symbol)\n",
    "    balance_sheet = ticker.balancesheet\n",
    "    filtered_balance_sheet = balance_sheet.loc[indices]\n",
    "    filtered_balance_sheet.columns = filtered_balance_sheet.columns.astype(str).str[:4]\n",
    "    return filtered_balance_sheet\n",
    "\n",
    "def get_usd_to_eur_exchange_rate():\n",
    "    ticker = yf.Ticker(\"USDEUR=X\")\n",
    "    exchange_rate = ticker.history(period=\"1d\")['Close'].iloc[-1]\n",
    "    return exchange_rate\n",
    "\n",
    "def convert_dataframe_to_euro(df):\n",
    "    exchange_rate = get_usd_to_eur_exchange_rate()\n",
    "    df_euro = df.applymap(lambda value: value * exchange_rate)\n",
    "    return df_euro\n",
    "\n",
    "def calculate_kpis(df):\n",
    "    df.loc['Equity_Ratio'] = df.loc['Stockholders Equity'] / (df.loc['Stockholders Equity'] + df.loc['Total Liabilities Net Minority Interest'])\n",
    "    df.loc['Debt_Ratio'] = df.loc['Total Liabilities Net Minority Interest'] / (df.loc['Stockholders Equity'] + df.loc['Total Liabilities Net Minority Interest'])\n",
    "    df.loc['Static_Debt_Ratio'] = df.loc['Total Liabilities Net Minority Interest'] / df.loc['Stockholders Equity']\n",
    "    df.loc['Fixed_Asset_Intensity'] = df.loc['Total Non Current Assets'] / (df.loc['Current Assets'] + df.loc['Total Non Current Assets'])\n",
    "    df.loc['Current_Asset_Ratio'] = df.loc['Current Assets'] / (df.loc['Current Assets'] + df.loc['Total Non Current Assets'])\n",
    "    df.loc['Receivables_Ratio'] = df.loc['Receivables'] / (df.loc['Current Assets'] + df.loc['Total Non Current Assets'])\n",
    "    df.loc['1. Liquidity_Ratio'] = df.loc['Current Assets'] / df.loc['Current Liabilities']\n",
    "    df.loc['Net_Working_Capital'] = df.loc['Current Assets'] - df.loc['Current Liabilities']\n",
    "    return df\n",
    "\n",
    "def translate_indices(df):\n",
    "    translations = {\n",
    "        'Total Non Current Assets': 'Gesamtanlagevermögen',\n",
    "        'Current Assets': 'Umlaufvermögen',\n",
    "        'Receivables': 'Forderungen',\n",
    "        'Stockholders Equity': 'Eigenkapital',\n",
    "        'Total Liabilities Net Minority Interest': 'Gesamtverbindlichkeiten ohne Minderheitsanteile',\n",
    "        'Current Liabilities': 'Kurzfristige Verbindlichkeiten',\n",
    "        'Total Non Current Liabilities Net Minority Interest': 'Langfristige Verbindlichkeiten',\n",
    "        'Equity_Ratio': 'Eigenkapitalquote',\n",
    "        'Debt_Ratio': 'Verschuldungsquote',\n",
    "        'Static_Debt_Ratio': 'Statischer Verschuldungsgrad',\n",
    "        'Fixed_Asset_Intensity': 'Anlageintensität',\n",
    "        'Current_Asset_Ratio': 'Umlaufquote',\n",
    "        'Receivables_Ratio': 'Forderungsquote',\n",
    "        '1. Liquidity_Ratio': '1. Liquiditätsquote',\n",
    "        'Net_Working_Capital': 'Netto-Umlaufvermögen'\n",
    "    }\n",
    "    df.rename(index=translations, inplace=True)\n",
    "    return df\n",
    "\n",
    "def get_balance_sheet(ticker_symbol):\n",
    "    balance_sheet = get_filtered_balance_sheet(ticker_symbol)\n",
    "    balance_sheet_euro = convert_dataframe_to_euro(balance_sheet)\n",
    "    balance_sheet_kpi = calculate_kpis(balance_sheet_euro)\n",
    "    balance_sheet_german = translate_indices(balance_sheet_kpi)\n",
    "    return balance_sheet_german\n",
    "\n",
    "def is_valid_ticker(ticker_symbol):\n",
    "    ticker = yf.Ticker(ticker_symbol)\n",
    "    balance_sheet = ticker.balancesheet\n",
    "    return not balance_sheet.empty\n",
    "\n",
    "def create_dashboard(symbols):\n",
    "    balance_sheets = {ticker: get_balance_sheet(ticker) for ticker in symbols}\n",
    "    fig = go.Figure()\n",
    "    colors = {\n",
    "        'Eigenkapital': 'blue',\n",
    "        'Langfristige Verbindlichkeiten': 'red',\n",
    "        'Kurzfristige Verbindlichkeiten': 'green'\n",
    "    }\n",
    "    for ticker, balance_sheet in balance_sheets.items():\n",
    "        total_2023 = balance_sheet.loc['Eigenkapital', '2023'] + balance_sheet.loc['Langfristige Verbindlichkeiten', '2023'] + balance_sheet.loc['Kurzfristige Verbindlichkeiten', '2023']\n",
    "        total_2024 = balance_sheet.loc['Eigenkapital', '2024'] + balance_sheet.loc['Langfristige Verbindlichkeiten', '2024'] + balance_sheet.loc['Kurzfristige Verbindlichkeiten', '2024']\n",
    "        fig.add_trace(go.Bar(\n",
    "            x=[f'{ticker} 2023'],\n",
    "            y=[balance_sheet.loc['Eigenkapital', '2023']],\n",
    "            marker_color=colors['Eigenkapital'],\n",
    "            hovertext=[f\"{balance_sheet.loc['Eigenkapital', '2023'] / total_2023:.1%}\"],\n",
    "            hoverinfo='text',\n",
    "            showlegend=False\n",
    "        ))\n",
    "        fig.add_trace(go.Bar(\n",
    "            x=[f'{ticker} 2023'],\n",
    "            y=[balance_sheet.loc['Langfristige Verbindlichkeiten', '2023']],\n",
    "            marker_color=colors['Langfristige Verbindlichkeiten'],\n",
    "            hovertext=[f\"{balance_sheet.loc['Langfristige Verbindlichkeiten', '2023'] / total_2023:.1%}\"],\n",
    "            hoverinfo='text',\n",
    "            showlegend=False\n",
    "        ))\n",
    "        fig.add_trace(go.Bar(\n",
    "            x=[f'{ticker} 2023'],\n",
    "            y=[balance_sheet.loc['Kurzfristige Verbindlichkeiten', '2023']],\n",
    "            marker_color=colors['Kurzfristige Verbindlichkeiten'],\n",
    "            hovertext=[f\"{balance_sheet.loc['Kurzfristige Verbindlichkeiten', '2023'] / total_2023:.1%}\"],\n",
    "            hoverinfo='text',\n",
    "            showlegend=False\n",
    "        ))\n",
    "        fig.add_trace(go.Bar(\n",
    "            x=[f'{ticker} 2024'],\n",
    "            y=[balance_sheet.loc['Eigenkapital', '2024']],\n",
    "            marker_color=colors['Eigenkapital'],\n",
    "            hovertext=[f\"{balance_sheet.loc['Eigenkapital', '2024'] / total_2024:.1%}\"],\n",
    "            hoverinfo='text',\n",
    "            showlegend=False\n",
    "        ))\n",
    "        fig.add_trace(go.Bar(\n",
    "            x=[f'{ticker} 2024'],\n",
    "            y=[balance_sheet.loc['Langfristige Verbindlichkeiten', '2024']],\n",
    "            marker_color=colors['Langfristige Verbindlichkeiten'],\n",
    "            hovertext=[f\"{balance_sheet.loc['Langfristige Verbindlichkeiten', '2024'] / total_2024:.1%}\"],\n",
    "            hoverinfo='text',\n",
    "            showlegend=False\n",
    "        ))\n",
    "        fig.add_trace(go.Bar(\n",
    "            x=[f'{ticker} 2024'],\n",
    "            y=[balance_sheet.loc['Kurzfristige Verbindlichkeiten', '2024']],\n",
    "            marker_color=colors['Kurzfristige Verbindlichkeiten'],\n",
    "            hovertext=[f\"{balance_sheet.loc['Kurzfristige Verbindlichkeiten', '2024'] / total_2024:.1%}\"],\n",
    "            hoverinfo='text',\n",
    "            showlegend=False\n",
    "        ))\n",
    "    fig.add_trace(go.Bar(\n",
    "        x=[None],\n",
    "        y=[None],\n",
    "        name='Eigenkapital',\n",
    "        marker_color=colors['Eigenkapital']\n",
    "    ))\n",
    "    fig.add_trace(go.Bar(\n",
    "        x=[None],\n",
    "        y=[None],\n",
    "        name='Langfristige Verbindlichkeiten',\n",
    "        marker_color=colors['Langfristige Verbindlichkeiten']\n",
    "    ))\n",
    "    fig.add_trace(go.Bar(\n",
    "        x=[None],\n",
    "        y=[None],\n",
    "        name='Kurzfristige Verbindlichkeiten',\n",
    "        marker_color=colors['Kurzfristige Verbindlichkeiten']\n",
    "    ))\n",
    "    fig.update_layout(\n",
    "        barmode='stack',\n",
    "        title='Kapital und Verbindlichkeiten der Unternehmen (2023 vs 2024)',\n",
    "        xaxis_title='Unternehmen und Jahr',\n",
    "        yaxis_title='Betrag',\n",
    "        legend_title='Komponenten',\n",
    "        xaxis=dict(\n",
    "            tickmode='array',\n",
    "            tickvals=[f'{ticker} 2023' for ticker in symbols] + [f'{ticker} 2024' for ticker in symbols],\n",
    "            ticktext=[f'2023\\n{ticker}' for ticker in symbols] + [f'2024\\n{ticker}' for ticker in symbols]\n",
    "        )\n",
    "    )\n",
    "\n",
    "    return fig\n",
    "\n",
    "def create_line_chart(symbols):\n",
    "    balance_sheets = {ticker: get_balance_sheet(ticker) for ticker in symbols}\n",
    "    fig = go.Figure()\n",
    "\n",
    "    for ticker, balance_sheet in balance_sheets.items():\n",
    "        fig.add_trace(go.Scatter(\n",
    "            x=balance_sheet.columns,\n",
    "            y=balance_sheet.loc['Verschuldungsquote'],\n",
    "            mode='lines+markers',\n",
    "            name=f'{ticker} Verschuldungsquote'\n",
    "        ))\n",
    "        fig.add_trace(go.Scatter(\n",
    "            x=balance_sheet.columns,\n",
    "            y=balance_sheet.loc['Eigenkapitalquote'],\n",
    "            mode='lines+markers',\n",
    "            name=f'{ticker} Eigenkapitalquote'\n",
    "        ))\n",
    "\n",
    "    fig.update_layout(\n",
    "        title='Verlauf der Verschuldungsquote und Eigenkapitalquote',\n",
    "        xaxis_title='Jahr',\n",
    "        yaxis_title='Quote',\n",
    "        legend_title='Komponenten'\n",
    "    )\n",
    "\n",
    "    return fig\n",
    "\n",
    "@app.route('/')\n",
    "def index():\n",
    "    return render_template('index.html')\n",
    "\n",
    "@app.route('/update_table', methods=['POST'])\n",
    "def update_table():\n",
    "    symbols = request.json.get('symbols', [])\n",
    "    fig = create_company_table(symbols)\n",
    "    return jsonify(fig.to_json())\n",
    "\n",
    "@app.route('/update_dashboard', methods=['POST'])\n",
    "def update_dashboard():\n",
    "    symbols = request.json.get('symbols', [])\n",
    "    fig = create_dashboard(symbols)\n",
    "    return jsonify(fig.to_json())\n",
    "\n",
    "@app.route('/update_line_chart', methods=['POST'])\n",
    "def update_line_chart():\n",
    "    symbols = request.json.get('symbols', [])\n",
    "    fig = create_line_chart(symbols)\n",
    "    return jsonify(fig.to_json())\n",
    "\n",
    "@app.route('/check_ticker', methods=['POST'])\n",
    "def check_ticker():\n",
    "    ticker = request.json.get('ticker', '')\n",
    "    is_valid = is_valid_ticker(ticker)\n",
    "    return jsonify({'is_valid': is_valid})\n",
    "\n",
    "if __name__ == '__main__':\n",
    "    app.run(debug=True)\n",
    "    "
   ]
  }
 ],
 "metadata": {
  "kernelspec": {
   "display_name": ".venv",
   "language": "python",
   "name": "python3"
  },
  "language_info": {
   "codemirror_mode": {
    "name": "ipython",
    "version": 3
   },
   "file_extension": ".py",
   "mimetype": "text/x-python",
   "name": "python",
   "nbconvert_exporter": "python",
   "pygments_lexer": "ipython3",
   "version": "3.12.0"
  },
  "orig_nbformat": 4
 },
 "nbformat": 4,
 "nbformat_minor": 2
}
