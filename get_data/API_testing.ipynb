{
 "cells": [
  {
   "cell_type": "code",
   "execution_count": 31,
   "metadata": {},
   "outputs": [],
   "source": [
    "import pandas as pd\n",
    "import yfinance as yf\n",
    "import matplotlib.pyplot as plt\n",
    "import mplfinance as mpf\n",
    "import matplotlib.dates as mdates\n",
    "import plotly.graph_objects as go\n",
    "import dash\n",
    "import dash_core_components as dcc\n",
    "import dash_html_components as html\n",
    "from dash.dependencies import Input, Output, State\n",
    "import streamlit as st\n",
    "import random\n"
   ]
  },
  {
   "cell_type": "code",
   "execution_count": 32,
   "metadata": {},
   "outputs": [],
   "source": [
    "# Anzahl der angezeigten Reihen auf 70 erhöhen\n",
    "pd.set_option('display.max_rows', 70)\n"
   ]
  },
  {
   "cell_type": "code",
   "execution_count": null,
   "metadata": {},
   "outputs": [],
   "source": []
  },
  {
   "cell_type": "code",
   "execution_count": 33,
   "metadata": {},
   "outputs": [],
   "source": [
    "\n",
    "def plot_stock_evolution(ticker_symbol):\n",
    "    # Lade historische Daten für das angegebene Unternehmen\n",
    "    ticker = yf.Ticker(ticker_symbol)\n",
    "    hist = ticker.history(period=\"2y\")\n",
    "\n",
    "    # Abrufen der Unternehmensinformationen\n",
    "    info = ticker.info\n",
    "\n",
    "    # Anzeigen der Branche und des Herkunftslandes\n",
    "    print(\"Branche:\", info.get('sector'))\n",
    "    print(\"Herkunftsland:\", info.get('country'))\n",
    "\n",
    "    # Erstelle das Diagramm\n",
    "    plt.figure(figsize=(10, 5))\n",
    "    plt.plot(hist.index, hist['Close'], label='Close Price')\n",
    "\n",
    "    # Setze die X-Achse auf monatliche Intervalle\n",
    "    plt.gca().xaxis.set_major_locator(mdates.MonthLocator())\n",
    "    plt.gca().xaxis.set_major_formatter(mdates.DateFormatter('%b %Y'))\n",
    "\n",
    "    # Rotieren der Monatskürzel für bessere Lesbarkeit\n",
    "    plt.gcf().autofmt_xdate()\n",
    "\n",
    "    # Beschriftungen und Titel\n",
    "    plt.xlabel('Date')\n",
    "    plt.ylabel('Price')\n",
    "    plt.title(f'{info.get(\"shortName\")} Stock Price Evolution')\n",
    "    plt.legend()\n",
    "    plt.grid(True)\n",
    "    plt.tight_layout()\n",
    "\n",
    "    # Zeige das Diagramm an\n",
    "    plt.show()"
   ]
  },
  {
   "cell_type": "code",
   "execution_count": 34,
   "metadata": {},
   "outputs": [
    {
     "data": {
      "text/html": [
       "<div>\n",
       "<style scoped>\n",
       "    .dataframe tbody tr th:only-of-type {\n",
       "        vertical-align: middle;\n",
       "    }\n",
       "\n",
       "    .dataframe tbody tr th {\n",
       "        vertical-align: top;\n",
       "    }\n",
       "\n",
       "    .dataframe thead th {\n",
       "        text-align: right;\n",
       "    }\n",
       "</style>\n",
       "<table border=\"1\" class=\"dataframe\">\n",
       "  <thead>\n",
       "    <tr style=\"text-align: right;\">\n",
       "      <th></th>\n",
       "    </tr>\n",
       "  </thead>\n",
       "  <tbody>\n",
       "  </tbody>\n",
       "</table>\n",
       "</div>"
      ],
      "text/plain": [
       "Empty DataFrame\n",
       "Columns: []\n",
       "Index: []"
      ]
     },
     "execution_count": 34,
     "metadata": {},
     "output_type": "execute_result"
    }
   ],
   "source": [
    "ticker = yf.Ticker('AAPL')\n",
    "balance_sheet = ticker.balance_sheet\n",
    "balance_sheet.head(70)"
   ]
  },
  {
   "cell_type": "markdown",
   "metadata": {},
   "source": [
    "- **Treasury Shares Number**: Anzahl der eigenen Aktien\n",
    "- **Ordinary Shares Number**: Anzahl der Stammaktien\n",
    "- **Share Issued**: Ausgegebene Aktien\n",
    "- **Net Debt**: Nettoverschuldung\n",
    "- **Total Debt**: Gesamtschulden\n",
    "- **Tangible Book Value**: Materieller Buchwert\n",
    "- **Invested Capital**: Investiertes Kapital\n",
    "- **Working Capital**: Betriebskapital\n",
    "- **Net Tangible Assets**: Netto-Sachanlagen\n",
    "- **Capital Lease Obligations**: Kapitalleasingverpflichtungen\n",
    "- **Common Stock Equity**: Eigenkapital aus Stammaktien\n",
    "- **Total Capitalization**: Gesamtkapitalisierung\n",
    "- **Total Equity Gross Minority Interest**: Gesamteigenkapital einschließlich Minderheitsanteile\n",
    "- **Stockholders Equity**: Eigenkapital der Aktionäre\n",
    "- **Gains Losses Not Affecting Retained Earnings**: Gewinne/Verluste, die das einbehaltene Ergebnis nicht beeinflussen\n",
    "- **Other Equity Adjustments**: Andere Eigenkapitalanpassungen\n",
    "- **Retained Earnings**: Einbehaltene Gewinne\n",
    "- **Capital Stock**: Grundkapital\n",
    "- **Common Stock**: Stammaktien\n",
    "- **Total Liabilities Net Minority Interest**: Gesamtschulden abzüglich Minderheitsanteile\n",
    "- **Total Non Current Liabilities Net Minority Interest**: Langfristige Verbindlichkeiten abzüglich Minderheitsanteile\n",
    "- **Other Non Current Liabilities**: Andere langfristige Verbindlichkeiten\n",
    "- **Trade and Other Payables Non Current**: Langfristige Verbindlichkeiten aus Lieferungen und Leistungen\n",
    "- **Long Term Debt And Capital Lease Obligation**: Langfristige Schulden und Kapitalleasingverpflichtungen\n",
    "- **Long Term Capital Lease Obligation**: Langfristige Kapitalleasingverpflichtungen\n",
    "- **Long Term Debt**: Langfristige Schulden\n",
    "- **Current Liabilities**: Kurzfristige Verbindlichkeiten\n",
    "- **Other Current Liabilities**: Andere kurzfristige Verbindlichkeiten\n",
    "- **Current Deferred Liabilities**: Kurzfristige abgegrenzte Verbindlichkeiten\n",
    "- **Current Deferred Revenue**: Kurzfristige abgegrenzte Einnahmen\n",
    "- **Current Debt And Capital Lease Obligation**: Kurzfristige Schulden und Kapitalleasingverpflichtungen\n",
    "- **Current Capital Lease Obligation**: Kurzfristige Kapitalleasingverpflichtungen\n",
    "- **Current Debt**: Kurzfristige Schulden\n",
    "- **Other Current Borrowings**: Andere kurzfristige Kredite\n",
    "- **Commercial Paper**: Handelspapiere\n",
    "- **Payables And Accrued Expenses**: Verbindlichkeiten und aufgelaufene Ausgaben\n",
    "- **Payables**: Verbindlichkeiten\n",
    "- **Total Tax Payable**: Gesamtsteuerverbindlichkeiten\n",
    "- **Income Tax Payable**: Einkommensteuerverbindlichkeiten\n",
    "- **Accounts Payable**: Verbindlichkeiten aus Lieferungen und Leistungen\n",
    "- **Total Assets**: Gesamtvermögen\n",
    "- **Total Non Current Assets**: Langfristige Vermögenswerte\n",
    "- **Other Non Current Assets**: Andere langfristige Vermögenswerte\n",
    "- **Non Current Deferred Assets**: Langfristige abgegrenzte Vermögenswerte\n",
    "- **Non Current Deferred Taxes Assets**: Langfristige abgegrenzte Steuerforderungen\n",
    "- **Investments And Advances**: Investitionen und Vorschüsse\n",
    "- **Other Investments**: Andere Investitionen\n",
    "- **Investment in Financial Assets**: Investitionen in Finanzanlagen\n",
    "- **Available For Sale Securities**: Zur Veräußerung verfügbare Wertpapiere\n",
    "- **Net PPE**: Netto-Sachanlagen\n",
    "- **Accumulated Depreciation**: Kumulierte Abschreibungen\n",
    "- **Gross PPE**: Brutto-Sachanlagen\n",
    "- **Leases**: Leasingverträge\n",
    "- **Other Properties**: Andere Immobilien\n",
    "- **Machinery Furniture Equipment**: Maschinen, Möbel, Ausrüstung\n",
    "- **Land And Improvements**: Grundstücke und Verbesserungen\n",
    "- **Properties**: Immobilien\n",
    "- **Current Assets**: Umlaufvermögen\n",
    "- **Other Current Assets**: Andere kurzfristige Vermögenswerte\n",
    "- **Inventory**: Inventar\n",
    "- **Receivables**: Forderungen\n",
    "- **Other Receivables**: Andere Forderungen\n",
    "- **Accounts Receivable**: Forderungen aus Lieferungen und Leistungen\n",
    "- **Cash Cash Equivalents And Short Term Investments**: Kassenbestand, Zahlungsmitteläquivalente und kurzfristige Investitionen\n",
    "- **Other Short Term Investments**: Andere kurzfristige Investitionen\n",
    "- **Cash And Cash Equivalents**: Kassenbestand und Zahlungsmitteläquivalente\n",
    "- **Cash Equivalents**: Zahlungsmitteläquivalente\n",
    "- **Cash Financial**: Finanzielle Zahlungsmittel"
   ]
  },
  {
   "cell_type": "markdown",
   "metadata": {},
   "source": [
    "1. **Total non-current Assets = Anlagevermögen**  \n",
    "2. **Current Assets = Umlaufvermögen**  \n",
    "    2.1 **Inventory = Inventar**  \n",
    "    2.2 **Receivables = Forderungen**  \n",
    "    2.3 **Cash Cash, Equivalents And Short Term Investments = Flüssige Mittel**  \n",
    "\n",
    "1. **Stockholders' Equity = Eigenkapital**  \n",
    "2. **Total Liabilities Net Minority Interest = Fremdkapital**  \n",
    "    2.1 **Total Non Current Liabilities = langfristige Verbindlichkeiten**  \n",
    "    2.2 **Current Liabilities = kurzfristige Verbindlichkeiten**  \n"
   ]
  },
  {
   "cell_type": "code",
   "execution_count": 35,
   "metadata": {},
   "outputs": [
    {
     "data": {
      "text/plain": [
       "RangeIndex(start=0, stop=0, step=1)"
      ]
     },
     "execution_count": 35,
     "metadata": {},
     "output_type": "execute_result"
    }
   ],
   "source": [
    "balance_sheet.index"
   ]
  },
  {
   "cell_type": "code",
   "execution_count": 36,
   "metadata": {},
   "outputs": [
    {
     "data": {
      "text/plain": [
       "RangeIndex(start=0, stop=0, step=1)"
      ]
     },
     "execution_count": 36,
     "metadata": {},
     "output_type": "execute_result"
    }
   ],
   "source": [
    "balance_sheet.columns"
   ]
  },
  {
   "cell_type": "code",
   "execution_count": 37,
   "metadata": {},
   "outputs": [],
   "source": [
    "def get_company_info(symbols):\n",
    "    \"\"\"\n",
    "    Ruft die Unternehmensinformationen für eine Liste von Symbolen ab.\n",
    "    \n",
    "    Args:\n",
    "    symbols (list): Liste der Unternehmenssymbole.\n",
    "    \n",
    "    Returns:\n",
    "    dict: Ein Dictionary mit den Unternehmensinformationen.\n",
    "    \"\"\"\n",
    "    return {symbol: yf.Ticker(symbol).info for symbol in symbols}"
   ]
  },
  {
   "cell_type": "code",
   "execution_count": 38,
   "metadata": {},
   "outputs": [],
   "source": [
    "def create_company_table(symbols):\n",
    "    \"\"\"\n",
    "    Erstellt eine Tabelle mit den Unternehmensinformationen.\n",
    "    \n",
    "    Args:\n",
    "    symbols (list): Liste der Unternehmenssymbole.\n",
    "    \n",
    "    Returns:\n",
    "    plotly.graph_objects.Figure: Eine Plotly-Figur mit der Tabelle.\n",
    "    \"\"\"\n",
    "    data = get_company_info(symbols)\n",
    "    \n",
    "    namen = [data[symbol].get('shortName', 'N/A') for symbol in data]\n",
    "    branchen = [data[symbol].get('sector', 'N/A') for symbol in data]\n",
    "    länder = [data[symbol].get('country', 'N/A') for symbol in data]\n",
    "    mitarbeiter = [data[symbol].get('fullTimeEmployees', 'N/A') for symbol in data]\n",
    "\n",
    "    fig = go.Figure(data=[go.Table(\n",
    "        header=dict(values=['Unternehmen', 'Branche', 'Land', 'Mitarbeiter'],\n",
    "                    fill_color='paleturquoise',\n",
    "                    align='left'),\n",
    "        cells=dict(values=[namen, branchen, länder, mitarbeiter],\n",
    "                   fill_color='lavender',\n",
    "                   align='left'))\n",
    "    ])\n",
    "    \n",
    "    return fig"
   ]
  },
  {
   "cell_type": "code",
   "execution_count": 39,
   "metadata": {},
   "outputs": [
    {
     "ename": "YFRateLimitError",
     "evalue": "Too Many Requests. Rate limited. Try after a while.",
     "output_type": "error",
     "traceback": [
      "\u001b[1;31m---------------------------------------------------------------------------\u001b[0m",
      "\u001b[1;31mYFRateLimitError\u001b[0m                          Traceback (most recent call last)",
      "Cell \u001b[1;32mIn[39], line 5\u001b[0m\n\u001b[0;32m      2\u001b[0m unternehmen \u001b[38;5;241m=\u001b[39m [\u001b[38;5;124m'\u001b[39m\u001b[38;5;124mAAPL\u001b[39m\u001b[38;5;124m'\u001b[39m, \u001b[38;5;124m'\u001b[39m\u001b[38;5;124mMSFT\u001b[39m\u001b[38;5;124m'\u001b[39m, \u001b[38;5;124m'\u001b[39m\u001b[38;5;124mGOOGL\u001b[39m\u001b[38;5;124m'\u001b[39m]\n\u001b[0;32m      4\u001b[0m \u001b[38;5;66;03m# Erstellen und Anzeigen der Tabelle\u001b[39;00m\n\u001b[1;32m----> 5\u001b[0m fig \u001b[38;5;241m=\u001b[39m \u001b[43mcreate_company_table\u001b[49m\u001b[43m(\u001b[49m\u001b[43munternehmen\u001b[49m\u001b[43m)\u001b[49m\n\u001b[0;32m      6\u001b[0m fig\u001b[38;5;241m.\u001b[39mshow()\n",
      "Cell \u001b[1;32mIn[38], line 11\u001b[0m, in \u001b[0;36mcreate_company_table\u001b[1;34m(symbols)\u001b[0m\n\u001b[0;32m      1\u001b[0m \u001b[38;5;28;01mdef\u001b[39;00m\u001b[38;5;250m \u001b[39m\u001b[38;5;21mcreate_company_table\u001b[39m(symbols):\n\u001b[0;32m      2\u001b[0m \u001b[38;5;250m    \u001b[39m\u001b[38;5;124;03m\"\"\"\u001b[39;00m\n\u001b[0;32m      3\u001b[0m \u001b[38;5;124;03m    Erstellt eine Tabelle mit den Unternehmensinformationen.\u001b[39;00m\n\u001b[0;32m      4\u001b[0m \u001b[38;5;124;03m    \u001b[39;00m\n\u001b[1;32m   (...)\u001b[0m\n\u001b[0;32m      9\u001b[0m \u001b[38;5;124;03m    plotly.graph_objects.Figure: Eine Plotly-Figur mit der Tabelle.\u001b[39;00m\n\u001b[0;32m     10\u001b[0m \u001b[38;5;124;03m    \"\"\"\u001b[39;00m\n\u001b[1;32m---> 11\u001b[0m     data \u001b[38;5;241m=\u001b[39m \u001b[43mget_company_info\u001b[49m\u001b[43m(\u001b[49m\u001b[43msymbols\u001b[49m\u001b[43m)\u001b[49m\n\u001b[0;32m     13\u001b[0m     namen \u001b[38;5;241m=\u001b[39m [data[symbol]\u001b[38;5;241m.\u001b[39mget(\u001b[38;5;124m'\u001b[39m\u001b[38;5;124mshortName\u001b[39m\u001b[38;5;124m'\u001b[39m, \u001b[38;5;124m'\u001b[39m\u001b[38;5;124mN/A\u001b[39m\u001b[38;5;124m'\u001b[39m) \u001b[38;5;28;01mfor\u001b[39;00m symbol \u001b[38;5;129;01min\u001b[39;00m data]\n\u001b[0;32m     14\u001b[0m     branchen \u001b[38;5;241m=\u001b[39m [data[symbol]\u001b[38;5;241m.\u001b[39mget(\u001b[38;5;124m'\u001b[39m\u001b[38;5;124msector\u001b[39m\u001b[38;5;124m'\u001b[39m, \u001b[38;5;124m'\u001b[39m\u001b[38;5;124mN/A\u001b[39m\u001b[38;5;124m'\u001b[39m) \u001b[38;5;28;01mfor\u001b[39;00m symbol \u001b[38;5;129;01min\u001b[39;00m data]\n",
      "Cell \u001b[1;32mIn[37], line 11\u001b[0m, in \u001b[0;36mget_company_info\u001b[1;34m(symbols)\u001b[0m\n\u001b[0;32m      1\u001b[0m \u001b[38;5;28;01mdef\u001b[39;00m\u001b[38;5;250m \u001b[39m\u001b[38;5;21mget_company_info\u001b[39m(symbols):\n\u001b[0;32m      2\u001b[0m \u001b[38;5;250m    \u001b[39m\u001b[38;5;124;03m\"\"\"\u001b[39;00m\n\u001b[0;32m      3\u001b[0m \u001b[38;5;124;03m    Ruft die Unternehmensinformationen für eine Liste von Symbolen ab.\u001b[39;00m\n\u001b[0;32m      4\u001b[0m \u001b[38;5;124;03m    \u001b[39;00m\n\u001b[1;32m   (...)\u001b[0m\n\u001b[0;32m      9\u001b[0m \u001b[38;5;124;03m    dict: Ein Dictionary mit den Unternehmensinformationen.\u001b[39;00m\n\u001b[0;32m     10\u001b[0m \u001b[38;5;124;03m    \"\"\"\u001b[39;00m\n\u001b[1;32m---> 11\u001b[0m     \u001b[38;5;28;01mreturn\u001b[39;00m {symbol: \u001b[43myf\u001b[49m\u001b[38;5;241;43m.\u001b[39;49m\u001b[43mTicker\u001b[49m\u001b[43m(\u001b[49m\u001b[43msymbol\u001b[49m\u001b[43m)\u001b[49m\u001b[38;5;241;43m.\u001b[39;49m\u001b[43minfo\u001b[49m \u001b[38;5;28;01mfor\u001b[39;00m symbol \u001b[38;5;129;01min\u001b[39;00m symbols}\n",
      "File \u001b[1;32mc:\\Users\\halte\\VisualStudioCode\\Studium\\3.Semester\\Digitale_Unternehmensführung\\.venv\\Lib\\site-packages\\yfinance\\ticker.py:159\u001b[0m, in \u001b[0;36mTicker.info\u001b[1;34m(self)\u001b[0m\n\u001b[0;32m    157\u001b[0m \u001b[38;5;129m@property\u001b[39m\n\u001b[0;32m    158\u001b[0m \u001b[38;5;28;01mdef\u001b[39;00m\u001b[38;5;250m \u001b[39m\u001b[38;5;21minfo\u001b[39m(\u001b[38;5;28mself\u001b[39m) \u001b[38;5;241m-\u001b[39m\u001b[38;5;241m>\u001b[39m \u001b[38;5;28mdict\u001b[39m:\n\u001b[1;32m--> 159\u001b[0m     \u001b[38;5;28;01mreturn\u001b[39;00m \u001b[38;5;28;43mself\u001b[39;49m\u001b[38;5;241;43m.\u001b[39;49m\u001b[43mget_info\u001b[49m\u001b[43m(\u001b[49m\u001b[43m)\u001b[49m\n",
      "File \u001b[1;32mc:\\Users\\halte\\VisualStudioCode\\Studium\\3.Semester\\Digitale_Unternehmensführung\\.venv\\Lib\\site-packages\\yfinance\\base.py:233\u001b[0m, in \u001b[0;36mget_info\u001b[1;34m(self, proxy)\u001b[0m\n\u001b[0;32m      0\u001b[0m <Error retrieving source code with stack_data see ipython/ipython#13598>\n",
      "File \u001b[1;32mc:\\Users\\halte\\VisualStudioCode\\Studium\\3.Semester\\Digitale_Unternehmensführung\\.venv\\Lib\\site-packages\\yfinance\\scrapers\\quote.py:508\u001b[0m, in \u001b[0;36mQuote.info\u001b[1;34m(self)\u001b[0m\n\u001b[0;32m    505\u001b[0m \u001b[38;5;129m@property\u001b[39m\n\u001b[0;32m    506\u001b[0m \u001b[38;5;28;01mdef\u001b[39;00m\u001b[38;5;250m \u001b[39m\u001b[38;5;21minfo\u001b[39m(\u001b[38;5;28mself\u001b[39m) \u001b[38;5;241m-\u001b[39m\u001b[38;5;241m>\u001b[39m \u001b[38;5;28mdict\u001b[39m:\n\u001b[0;32m    507\u001b[0m     \u001b[38;5;28;01mif\u001b[39;00m \u001b[38;5;28mself\u001b[39m\u001b[38;5;241m.\u001b[39m_info \u001b[38;5;129;01mis\u001b[39;00m \u001b[38;5;28;01mNone\u001b[39;00m:\n\u001b[1;32m--> 508\u001b[0m         \u001b[38;5;28;43mself\u001b[39;49m\u001b[38;5;241;43m.\u001b[39;49m\u001b[43m_fetch_info\u001b[49m\u001b[43m(\u001b[49m\u001b[38;5;28;43mself\u001b[39;49m\u001b[38;5;241;43m.\u001b[39;49m\u001b[43mproxy\u001b[49m\u001b[43m)\u001b[49m\n\u001b[0;32m    509\u001b[0m         \u001b[38;5;28mself\u001b[39m\u001b[38;5;241m.\u001b[39m_fetch_complementary(\u001b[38;5;28mself\u001b[39m\u001b[38;5;241m.\u001b[39mproxy)\n\u001b[0;32m    511\u001b[0m     \u001b[38;5;28;01mreturn\u001b[39;00m \u001b[38;5;28mself\u001b[39m\u001b[38;5;241m.\u001b[39m_info\n",
      "File \u001b[1;32mc:\\Users\\halte\\VisualStudioCode\\Studium\\3.Semester\\Digitale_Unternehmensführung\\.venv\\Lib\\site-packages\\yfinance\\scrapers\\quote.py:598\u001b[0m, in \u001b[0;36m_fetch_info\u001b[1;34m(self, proxy)\u001b[0m\n\u001b[0;32m    594\u001b[0m params_dict \u001b[38;5;241m=\u001b[39m {\u001b[38;5;124m\"\u001b[39m\u001b[38;5;124msymbols\u001b[39m\u001b[38;5;124m\"\u001b[39m: \u001b[38;5;28mself\u001b[39m\u001b[38;5;241m.\u001b[39m_symbol, \u001b[38;5;124m\"\u001b[39m\u001b[38;5;124mformatted\u001b[39m\u001b[38;5;124m\"\u001b[39m: \u001b[38;5;124m\"\u001b[39m\u001b[38;5;124mfalse\u001b[39m\u001b[38;5;124m\"\u001b[39m}\n\u001b[0;32m    595\u001b[0m \u001b[38;5;28;01mtry\u001b[39;00m:\n\u001b[0;32m    596\u001b[0m     result \u001b[38;5;241m=\u001b[39m \u001b[38;5;28mself\u001b[39m\u001b[38;5;241m.\u001b[39m_data\u001b[38;5;241m.\u001b[39mget_raw_json(\u001b[38;5;124mf\u001b[39m\u001b[38;5;124m\"\u001b[39m\u001b[38;5;132;01m{\u001b[39;00m_QUERY1_URL_\u001b[38;5;132;01m}\u001b[39;00m\u001b[38;5;124m/v7/finance/quote?\u001b[39m\u001b[38;5;124m\"\u001b[39m,\n\u001b[0;32m    597\u001b[0m                                      user_agent_headers\u001b[38;5;241m=\u001b[39m\u001b[38;5;28mself\u001b[39m\u001b[38;5;241m.\u001b[39m_data\u001b[38;5;241m.\u001b[39muser_agent_headers,\n\u001b[1;32m--> 598\u001b[0m                                      params\u001b[38;5;241m=\u001b[39mparams_dict, proxy\u001b[38;5;241m=\u001b[39mproxy)\n\u001b[0;32m    599\u001b[0m \u001b[38;5;28;01mexcept\u001b[39;00m requests\u001b[38;5;241m.\u001b[39mexceptions\u001b[38;5;241m.\u001b[39mHTTPError \u001b[38;5;28;01mas\u001b[39;00m e:\n\u001b[0;32m    600\u001b[0m     utils\u001b[38;5;241m.\u001b[39mget_yf_logger()\u001b[38;5;241m.\u001b[39merror(\u001b[38;5;28mstr\u001b[39m(e))\n",
      "File \u001b[1;32mc:\\Users\\halte\\VisualStudioCode\\Studium\\3.Semester\\Digitale_Unternehmensführung\\.venv\\Lib\\site-packages\\yfinance\\scrapers\\quote.py:587\u001b[0m, in \u001b[0;36mQuote._fetch\u001b[1;34m(self, proxy, modules)\u001b[0m\n\u001b[0;32m    585\u001b[0m params_dict \u001b[38;5;241m=\u001b[39m {\u001b[38;5;124m\"\u001b[39m\u001b[38;5;124mmodules\u001b[39m\u001b[38;5;124m\"\u001b[39m: modules, \u001b[38;5;124m\"\u001b[39m\u001b[38;5;124mcorsDomain\u001b[39m\u001b[38;5;124m\"\u001b[39m: \u001b[38;5;124m\"\u001b[39m\u001b[38;5;124mfinance.yahoo.com\u001b[39m\u001b[38;5;124m\"\u001b[39m, \u001b[38;5;124m\"\u001b[39m\u001b[38;5;124mformatted\u001b[39m\u001b[38;5;124m\"\u001b[39m: \u001b[38;5;124m\"\u001b[39m\u001b[38;5;124mfalse\u001b[39m\u001b[38;5;124m\"\u001b[39m, \u001b[38;5;124m\"\u001b[39m\u001b[38;5;124msymbol\u001b[39m\u001b[38;5;124m\"\u001b[39m: \u001b[38;5;28mself\u001b[39m\u001b[38;5;241m.\u001b[39m_symbol}\n\u001b[0;32m    586\u001b[0m \u001b[38;5;28;01mtry\u001b[39;00m:\n\u001b[1;32m--> 587\u001b[0m     result \u001b[38;5;241m=\u001b[39m \u001b[38;5;28;43mself\u001b[39;49m\u001b[38;5;241;43m.\u001b[39;49m\u001b[43m_data\u001b[49m\u001b[38;5;241;43m.\u001b[39;49m\u001b[43mget_raw_json\u001b[49m\u001b[43m(\u001b[49m\u001b[43m_QUOTE_SUMMARY_URL_\u001b[49m\u001b[43m \u001b[49m\u001b[38;5;241;43m+\u001b[39;49m\u001b[43m \u001b[49m\u001b[38;5;124;43mf\u001b[39;49m\u001b[38;5;124;43m\"\u001b[39;49m\u001b[38;5;124;43m/\u001b[39;49m\u001b[38;5;132;43;01m{\u001b[39;49;00m\u001b[38;5;28;43mself\u001b[39;49m\u001b[38;5;241;43m.\u001b[39;49m\u001b[43m_symbol\u001b[49m\u001b[38;5;132;43;01m}\u001b[39;49;00m\u001b[38;5;124;43m\"\u001b[39;49m\u001b[43m,\u001b[49m\u001b[43m \u001b[49m\u001b[43muser_agent_headers\u001b[49m\u001b[38;5;241;43m=\u001b[39;49m\u001b[38;5;28;43mself\u001b[39;49m\u001b[38;5;241;43m.\u001b[39;49m\u001b[43m_data\u001b[49m\u001b[38;5;241;43m.\u001b[39;49m\u001b[43muser_agent_headers\u001b[49m\u001b[43m,\u001b[49m\u001b[43m \u001b[49m\u001b[43mparams\u001b[49m\u001b[38;5;241;43m=\u001b[39;49m\u001b[43mparams_dict\u001b[49m\u001b[43m,\u001b[49m\u001b[43m \u001b[49m\u001b[43mproxy\u001b[49m\u001b[38;5;241;43m=\u001b[39;49m\u001b[43mproxy\u001b[49m\u001b[43m)\u001b[49m\n\u001b[0;32m    588\u001b[0m \u001b[38;5;28;01mexcept\u001b[39;00m requests\u001b[38;5;241m.\u001b[39mexceptions\u001b[38;5;241m.\u001b[39mHTTPError \u001b[38;5;28;01mas\u001b[39;00m e:\n\u001b[0;32m    589\u001b[0m     utils\u001b[38;5;241m.\u001b[39mget_yf_logger()\u001b[38;5;241m.\u001b[39merror(\u001b[38;5;28mstr\u001b[39m(e))\n",
      "File \u001b[1;32mc:\\Users\\halte\\VisualStudioCode\\Studium\\3.Semester\\Digitale_Unternehmensführung\\.venv\\Lib\\site-packages\\yfinance\\data.py:416\u001b[0m, in \u001b[0;36mget_raw_json\u001b[1;34m(self, url, user_agent_headers, params, proxy, timeout)\u001b[0m\n\u001b[0;32m    411\u001b[0m             \u001b[38;5;28;01mraise\u001b[39;00m YFRateLimitError()\n\u001b[0;32m    413\u001b[0m     \u001b[38;5;28;01mreturn\u001b[39;00m response\n\u001b[0;32m    415\u001b[0m \u001b[38;5;129m@lru_cache_freezeargs\u001b[39m\n\u001b[1;32m--> 416\u001b[0m \u001b[38;5;129m@lru_cache\u001b[39m(maxsize\u001b[38;5;241m=\u001b[39mcache_maxsize)\n\u001b[0;32m    417\u001b[0m \u001b[38;5;28;01mdef\u001b[39;00m\u001b[38;5;250m \u001b[39m\u001b[38;5;21mcache_get\u001b[39m(\u001b[38;5;28mself\u001b[39m, url, user_agent_headers\u001b[38;5;241m=\u001b[39m\u001b[38;5;28;01mNone\u001b[39;00m, params\u001b[38;5;241m=\u001b[39m\u001b[38;5;28;01mNone\u001b[39;00m, proxy\u001b[38;5;241m=\u001b[39m\u001b[38;5;28;01mNone\u001b[39;00m, timeout\u001b[38;5;241m=\u001b[39m\u001b[38;5;241m30\u001b[39m):\n\u001b[0;32m    418\u001b[0m     \u001b[38;5;28;01mreturn\u001b[39;00m \u001b[38;5;28mself\u001b[39m\u001b[38;5;241m.\u001b[39mget(url, user_agent_headers, params, proxy, timeout)\n\u001b[0;32m    420\u001b[0m \u001b[38;5;28;01mdef\u001b[39;00m\u001b[38;5;250m \u001b[39m\u001b[38;5;21m_get_proxy\u001b[39m(\u001b[38;5;28mself\u001b[39m, proxy):\n\u001b[0;32m    421\u001b[0m     \u001b[38;5;66;03m# setup proxy in requests format\u001b[39;00m\n",
      "File \u001b[1;32mc:\\Users\\halte\\VisualStudioCode\\Studium\\3.Semester\\Digitale_Unternehmensführung\\.venv\\Lib\\site-packages\\yfinance\\utils.py:104\u001b[0m, in \u001b[0;36mlog_indent_decorator.<locals>.wrapper\u001b[1;34m(*args, **kwargs)\u001b[0m\n\u001b[0;32m    101\u001b[0m logger\u001b[38;5;241m.\u001b[39mdebug(\u001b[38;5;124mf\u001b[39m\u001b[38;5;124m'\u001b[39m\u001b[38;5;124mEntering \u001b[39m\u001b[38;5;132;01m{\u001b[39;00mfunc\u001b[38;5;241m.\u001b[39m\u001b[38;5;18m__name__\u001b[39m\u001b[38;5;132;01m}\u001b[39;00m\u001b[38;5;124m()\u001b[39m\u001b[38;5;124m'\u001b[39m)\n\u001b[0;32m    103\u001b[0m \u001b[38;5;28;01mwith\u001b[39;00m IndentationContext():\n\u001b[1;32m--> 104\u001b[0m     result \u001b[38;5;241m=\u001b[39m \u001b[43mfunc\u001b[49m\u001b[43m(\u001b[49m\u001b[38;5;241;43m*\u001b[39;49m\u001b[43margs\u001b[49m\u001b[43m,\u001b[49m\u001b[43m \u001b[49m\u001b[38;5;241;43m*\u001b[39;49m\u001b[38;5;241;43m*\u001b[39;49m\u001b[43mkwargs\u001b[49m\u001b[43m)\u001b[49m\n\u001b[0;32m    106\u001b[0m logger\u001b[38;5;241m.\u001b[39mdebug(\u001b[38;5;124mf\u001b[39m\u001b[38;5;124m'\u001b[39m\u001b[38;5;124mExiting \u001b[39m\u001b[38;5;132;01m{\u001b[39;00mfunc\u001b[38;5;241m.\u001b[39m\u001b[38;5;18m__name__\u001b[39m\u001b[38;5;132;01m}\u001b[39;00m\u001b[38;5;124m()\u001b[39m\u001b[38;5;124m'\u001b[39m)\n\u001b[0;32m    107\u001b[0m \u001b[38;5;28;01mreturn\u001b[39;00m result\n",
      "File \u001b[1;32mc:\\Users\\halte\\VisualStudioCode\\Studium\\3.Semester\\Digitale_Unternehmensführung\\.venv\\Lib\\site-packages\\yfinance\\data.py:335\u001b[0m, in \u001b[0;36mYfData.get\u001b[1;34m(self, url, user_agent_headers, params, proxy, timeout)\u001b[0m\n\u001b[0;32m    333\u001b[0m \u001b[38;5;129m@utils\u001b[39m\u001b[38;5;241m.\u001b[39mlog_indent_decorator\n\u001b[0;32m    334\u001b[0m \u001b[38;5;28;01mdef\u001b[39;00m\u001b[38;5;250m \u001b[39m\u001b[38;5;21mget\u001b[39m(\u001b[38;5;28mself\u001b[39m, url, user_agent_headers\u001b[38;5;241m=\u001b[39m\u001b[38;5;28;01mNone\u001b[39;00m, params\u001b[38;5;241m=\u001b[39m\u001b[38;5;28;01mNone\u001b[39;00m, proxy\u001b[38;5;241m=\u001b[39m\u001b[38;5;28;01mNone\u001b[39;00m, timeout\u001b[38;5;241m=\u001b[39m\u001b[38;5;241m30\u001b[39m):\n\u001b[1;32m--> 335\u001b[0m     \u001b[38;5;28;01mreturn\u001b[39;00m \u001b[38;5;28;43mself\u001b[39;49m\u001b[38;5;241;43m.\u001b[39;49m\u001b[43m_make_request\u001b[49m\u001b[43m(\u001b[49m\u001b[43murl\u001b[49m\u001b[43m,\u001b[49m\u001b[43m \u001b[49m\u001b[43mrequest_method\u001b[49m\u001b[43m \u001b[49m\u001b[38;5;241;43m=\u001b[39;49m\u001b[43m \u001b[49m\u001b[38;5;28;43mself\u001b[39;49m\u001b[38;5;241;43m.\u001b[39;49m\u001b[43m_session\u001b[49m\u001b[38;5;241;43m.\u001b[39;49m\u001b[43mget\u001b[49m\u001b[43m,\u001b[49m\u001b[43m \u001b[49m\u001b[43muser_agent_headers\u001b[49m\u001b[38;5;241;43m=\u001b[39;49m\u001b[43muser_agent_headers\u001b[49m\u001b[43m,\u001b[49m\u001b[43m \u001b[49m\u001b[43mparams\u001b[49m\u001b[38;5;241;43m=\u001b[39;49m\u001b[43mparams\u001b[49m\u001b[43m,\u001b[49m\u001b[43m \u001b[49m\u001b[43mproxy\u001b[49m\u001b[38;5;241;43m=\u001b[39;49m\u001b[43mproxy\u001b[49m\u001b[43m,\u001b[49m\u001b[43m \u001b[49m\u001b[43mtimeout\u001b[49m\u001b[38;5;241;43m=\u001b[39;49m\u001b[43mtimeout\u001b[49m\u001b[43m)\u001b[49m\n",
      "File \u001b[1;32mc:\\Users\\halte\\VisualStudioCode\\Studium\\3.Semester\\Digitale_Unternehmensführung\\.venv\\Lib\\site-packages\\yfinance\\utils.py:104\u001b[0m, in \u001b[0;36mlog_indent_decorator.<locals>.wrapper\u001b[1;34m(*args, **kwargs)\u001b[0m\n\u001b[0;32m    101\u001b[0m logger\u001b[38;5;241m.\u001b[39mdebug(\u001b[38;5;124mf\u001b[39m\u001b[38;5;124m'\u001b[39m\u001b[38;5;124mEntering \u001b[39m\u001b[38;5;132;01m{\u001b[39;00mfunc\u001b[38;5;241m.\u001b[39m\u001b[38;5;18m__name__\u001b[39m\u001b[38;5;132;01m}\u001b[39;00m\u001b[38;5;124m()\u001b[39m\u001b[38;5;124m'\u001b[39m)\n\u001b[0;32m    103\u001b[0m \u001b[38;5;28;01mwith\u001b[39;00m IndentationContext():\n\u001b[1;32m--> 104\u001b[0m     result \u001b[38;5;241m=\u001b[39m \u001b[43mfunc\u001b[49m\u001b[43m(\u001b[49m\u001b[38;5;241;43m*\u001b[39;49m\u001b[43margs\u001b[49m\u001b[43m,\u001b[49m\u001b[43m \u001b[49m\u001b[38;5;241;43m*\u001b[39;49m\u001b[38;5;241;43m*\u001b[39;49m\u001b[43mkwargs\u001b[49m\u001b[43m)\u001b[49m\n\u001b[0;32m    106\u001b[0m logger\u001b[38;5;241m.\u001b[39mdebug(\u001b[38;5;124mf\u001b[39m\u001b[38;5;124m'\u001b[39m\u001b[38;5;124mExiting \u001b[39m\u001b[38;5;132;01m{\u001b[39;00mfunc\u001b[38;5;241m.\u001b[39m\u001b[38;5;18m__name__\u001b[39m\u001b[38;5;132;01m}\u001b[39;00m\u001b[38;5;124m()\u001b[39m\u001b[38;5;124m'\u001b[39m)\n\u001b[0;32m    107\u001b[0m \u001b[38;5;28;01mreturn\u001b[39;00m result\n",
      "File \u001b[1;32mc:\\Users\\halte\\VisualStudioCode\\Studium\\3.Semester\\Digitale_Unternehmensführung\\.venv\\Lib\\site-packages\\yfinance\\data.py:397\u001b[0m, in \u001b[0;36mYfData._make_request\u001b[1;34m(self, url, request_method, user_agent_headers, body, params, proxy, timeout)\u001b[0m\n\u001b[0;32m    395\u001b[0m     \u001b[38;5;66;03m# Raise exception if rate limited\u001b[39;00m\n\u001b[0;32m    396\u001b[0m     \u001b[38;5;28;01mif\u001b[39;00m response\u001b[38;5;241m.\u001b[39mstatus_code \u001b[38;5;241m==\u001b[39m \u001b[38;5;241m429\u001b[39m:\n\u001b[1;32m--> 397\u001b[0m         \u001b[38;5;28;01mraise\u001b[39;00m YFRateLimitError()\n\u001b[0;32m    399\u001b[0m \u001b[38;5;28;01mreturn\u001b[39;00m response\n",
      "\u001b[1;31mYFRateLimitError\u001b[0m: Too Many Requests. Rate limited. Try after a while."
     ]
    }
   ],
   "source": [
    "# Unternehmen, für die Daten abgerufen werden sollen\n",
    "unternehmen = ['AAPL', 'MSFT', 'GOOGL']\n",
    "\n",
    "# Erstellen und Anzeigen der Tabelle\n",
    "fig = create_company_table(unternehmen)\n",
    "fig.show()"
   ]
  },
  {
   "cell_type": "code",
   "execution_count": null,
   "metadata": {},
   "outputs": [],
   "source": [
    "# Definierte Indices\n",
    "indices = [\n",
    "    'Total Non Current Assets', 'Current Assets', 'Inventory', 'Receivables',\n",
    "    'Cash Cash Equivalents And Short Term Investments', 'Stockholders Equity',\n",
    "    'Total Liabilities Net Minority Interest', 'Current Liabilities',\n",
    "    'Total Non Current Liabilities Net Minority Interest'\n",
    "]\n",
    "\n",
    "def get_filtered_balance_sheet(ticker_symbol):\n",
    "    # Lade die Bilanzdaten für das angegebene Unternehmen\n",
    "    ticker = yf.Ticker(ticker_symbol)\n",
    "    balance_sheet = ticker.balancesheet\n",
    "    \n",
    "    # Abrufen der Unternehmensinformationen\n",
    "    info = ticker.info\n",
    "    company_name = info.get('shortName', 'Unknown Company')\n",
    "    \n",
    "    # Anzeigen des Unternehmensnamens und der Bilanzdaten\n",
    "    print(f\"Bilanzdaten für {company_name} ({ticker_symbol}):\")\n",
    "    \n",
    "    # Filtern der gewünschten Zeilen\n",
    "    filtered_balance_sheet = balance_sheet.loc[indices]\n",
    "\n",
    "    # Spaltennamen kürzen, sodass nur das Jahr angezeigt wird\n",
    "    filtered_balance_sheet.columns = filtered_balance_sheet.columns.astype(str).str[:4]\n",
    "    \n",
    "    return filtered_balance_sheet"
   ]
  },
  {
   "cell_type": "code",
   "execution_count": null,
   "metadata": {},
   "outputs": [],
   "source": [
    "def get_usd_to_eur_exchange_rate():\n",
    "    # Abrufen der Daten für das Währungspaar USD/EUR\n",
    "    ticker = yf.Ticker(\"USDEUR=X\")\n",
    "    exchange_rate = ticker.history(period=\"1d\")['Close'].iloc[-1]\n",
    "    return exchange_rate"
   ]
  },
  {
   "cell_type": "code",
   "execution_count": null,
   "metadata": {},
   "outputs": [],
   "source": [
    "def convert_dataframe_to_euro(df):\n",
    "    # Funktion zur Umrechnung in Euro\n",
    "    def convert_to_euro(value):\n",
    "        return value * get_usd_to_eur_exchange_rate()\n",
    "    \n",
    "    # Anwendung der Umrechnung auf alle Spalten des DataFrames\n",
    "    df_euro = df.applymap(convert_to_euro)\n",
    "    \n",
    "    return df_euro\n"
   ]
  },
  {
   "cell_type": "code",
   "execution_count": null,
   "metadata": {},
   "outputs": [],
   "source": [
    "def calculate_kpis(df):\n",
    "    # Berechnung der Eigenkapitalquote\n",
    "    df.loc['Equity_Ratio'] = (df.loc['Stockholders Equity'] / (df.loc['Stockholders Equity'] + df.loc['Total Liabilities Net Minority Interest'])) * 100\n",
    "    \n",
    "    # Berechnung der Fremdkapitalquote\n",
    "    df.loc['Debt_Ratio'] = (df.loc['Total Liabilities Net Minority Interest'] / (df.loc['Stockholders Equity'] + df.loc['Total Liabilities Net Minority Interest'])) * 100\n",
    "\n",
    "    # Berechnung des statischen Verschuldungsgrads\n",
    "    df.loc['Static_Debt_Ratio'] = (df.loc['Total Liabilities Net Minority Interest'] / df.loc['Stockholders Equity']) * 100\n",
    "    \n",
    "    # Berechnung der Anlageintensität\n",
    "    df.loc['Fixed_Asset_Intensity'] = df.loc['Total Non Current Assets'] / (df.loc['Current Assets'] + df.loc['Total Non Current Assets'])\n",
    "    \n",
    "    # Berechnung der Umlaufquote\n",
    "    df.loc['Current_Asset_Ratio'] = (df.loc['Current Assets'] / (df.loc['Current Assets'] + df.loc['Total Non Current Assets'])) * 100\n",
    "    \n",
    "    # Berechnung der Forderungsquote\n",
    "    df.loc['Receivables_Ratio'] = (df.loc['Receivables'] / (df.loc['Current Assets'] + df.loc['Total Non Current Assets'])) * 100\n",
    "\n",
    "    # Berechnung des 1. Liquiditätsgrad\n",
    "    df.loc['1. Liquidity_Ratio'] = (df.loc['Current Assets'] / df.loc['Current Liabilities']) * 100\n",
    "    \n",
    "    # Berechnung des Net Working Capital\n",
    "    df.loc['Net_Working_Capital'] = df.loc['Current Assets'] - df.loc['Current Liabilities']\n",
    "    \n",
    "    return df"
   ]
  },
  {
   "cell_type": "code",
   "execution_count": null,
   "metadata": {},
   "outputs": [],
   "source": [
    "def translate_indices(df):\n",
    "    # Übersetzung der englischen Indizes ins Deutsche\n",
    "    translations = {\n",
    "        'Total Non Current Assets': 'Gesamtanlagevermögen',\n",
    "        'Current Assets': 'Umlaufvermögen',\n",
    "        'Receivables': 'Forderungen',\n",
    "        'Stockholders Equity': 'Eigenkapital',\n",
    "        'Total Liabilities Net Minority Interest': 'Gesamtverbindlichkeiten ohne Minderheitsanteile',\n",
    "        'Current Liabilities': 'Kurzfristige Verbindlichkeiten',\n",
    "        'Total Non Current Liabilities Net Minority Interest': 'Langfristige Verbindlichkeiten',\n",
    "        'Equity_Ratio': 'Eigenkapitalquote',\n",
    "        'Debt_Ratio': 'Fremdkapitalquote',\n",
    "        'Static_Debt_Ratio': 'Statischer Verschuldungsgrad',\n",
    "        'Fixed_Asset_Intensity': 'Anlageintensität',\n",
    "        'Current_Asset_Ratio': 'Umlaufquote',\n",
    "        'Receivables_Ratio': 'Forderungsquote',\n",
    "        '1. Liquidity_Ratio': '1. Liquiditätsquote',\n",
    "        'Net_Working_Capital': 'Netto-Umlaufvermögen'\n",
    "    }\n",
    "    \n",
    "    # Übersetzung der Indizes\n",
    "    df.rename(index=translations, inplace=True)\n",
    "    \n",
    "    return df"
   ]
  },
  {
   "cell_type": "code",
   "execution_count": null,
   "metadata": {},
   "outputs": [],
   "source": [
    "def get_balance_sheet(ticker_symbol):\n",
    "    \n",
    "    # Lade die gefilterten Bilanzdaten für das gewünschte Unternehmen\n",
    "    balance_sheet = get_filtered_balance_sheet(ticker_symbol)\n",
    "    \n",
    "    # Umrechnung der Werte von Dollar in Euro\n",
    "    balance_sheet_euro = convert_dataframe_to_euro(balance_sheet)\n",
    "\n",
    "    # Berchnene der KPIs für das Unternehmen\n",
    "    balance_sheet_kpi = calculate_kpis(balance_sheet_euro)\n",
    "\n",
    "    # Übersetzen der Indices in Deutsch\n",
    "    balance_sheet_german = translate_indices(balance_sheet_kpi)\n",
    "    \n",
    "    return balance_sheet_german"
   ]
  },
  {
   "cell_type": "code",
   "execution_count": null,
   "metadata": {},
   "outputs": [],
   "source": [
    "def create_dashboard(ticker_symbols):\n",
    "    balance_sheets = {}\n",
    "\n",
    "    # Erstellen eines Dashboards für gegebene Unternehmen\n",
    "    for ticker in ticker_symbols:\n",
    "        balance_sheets[f'{ticker}'] = get_balance_sheet(ticker)\n",
    "\n",
    "    # Erstellen des Dashboards\n",
    "    fig = go.Figure()\n",
    "\n",
    "    # Farben für die Balken festlegen\n",
    "    colors = {\n",
    "        'Eigenkapital': 'blue',\n",
    "        'Langfristige Verbindlichkeiten': 'red',\n",
    "        'Kurzfristige Verbindlichkeiten': 'green'\n",
    "    }\n",
    "\n",
    "    # Hinzufügen von gestapelten Balkendiagramm-Daten zum Dashboard\n",
    "    for ticker, balance_sheet in balance_sheets.items():\n",
    "        total_2023 = balance_sheet.loc['Eigenkapital', '2023'] + balance_sheet.loc['Langfristige Verbindlichkeiten', '2023'] + balance_sheet.loc['Kurzfristige Verbindlichkeiten', '2023']\n",
    "        total_2024 = balance_sheet.loc['Eigenkapital', '2024'] + balance_sheet.loc['Langfristige Verbindlichkeiten', '2024'] + balance_sheet.loc['Kurzfristige Verbindlichkeiten', '2024']\n",
    "\n",
    "        fig.add_trace(go.Bar(\n",
    "            x=[f'{ticker} 2023'],\n",
    "            y=[balance_sheet.loc['Eigenkapital', '2023']],\n",
    "            marker_color=colors['Eigenkapital'],\n",
    "            hovertext=[f\"{balance_sheet.loc['Eigenkapital', '2023'] / total_2023:.1%}\"],\n",
    "            hoverinfo='text',\n",
    "            showlegend=False\n",
    "        ))\n",
    "        fig.add_trace(go.Bar(\n",
    "            x=[f'{ticker} 2023'],\n",
    "            y=[balance_sheet.loc['Langfristige Verbindlichkeiten', '2023']],\n",
    "            marker_color=colors['Langfristige Verbindlichkeiten'],\n",
    "            hovertext=[f\"{balance_sheet.loc['Langfristige Verbindlichkeiten', '2023'] / total_2023:.1%}\"],\n",
    "            hoverinfo='text',\n",
    "            showlegend=False\n",
    "        ))\n",
    "        fig.add_trace(go.Bar(\n",
    "            x=[f'{ticker} 2023'],\n",
    "            y=[balance_sheet.loc['Kurzfristige Verbindlichkeiten', '2023']],\n",
    "            marker_color=colors['Kurzfristige Verbindlichkeiten'],\n",
    "            hovertext=[f\"{balance_sheet.loc['Kurzfristige Verbindlichkeiten', '2023'] / total_2023:.1%}\"],\n",
    "            hoverinfo='text',\n",
    "            showlegend=False\n",
    "        ))\n",
    "\n",
    "        fig.add_trace(go.Bar(\n",
    "            x=[f'{ticker} 2024'],\n",
    "            y=[balance_sheet.loc['Eigenkapital', '2024']],\n",
    "            marker_color=colors['Eigenkapital'],\n",
    "            hovertext=[f\"{balance_sheet.loc['Eigenkapital', '2024'] / total_2024:.1%}\"],\n",
    "            hoverinfo='text',\n",
    "            showlegend=False\n",
    "        ))\n",
    "        fig.add_trace(go.Bar(\n",
    "            x=[f'{ticker} 2024'],\n",
    "            y=[balance_sheet.loc['Langfristige Verbindlichkeiten', '2024']],\n",
    "            marker_color=colors['Langfristige Verbindlichkeiten'],\n",
    "            hovertext=[f\"{balance_sheet.loc['Langfristige Verbindlichkeiten', '2024'] / total_2024:.1%}\"],\n",
    "            hoverinfo='text',\n",
    "            showlegend=False\n",
    "        ))\n",
    "        fig.add_trace(go.Bar(\n",
    "            x=[f'{ticker} 2024'],\n",
    "            y=[balance_sheet.loc['Kurzfristige Verbindlichkeiten', '2024']],\n",
    "            marker_color=colors['Kurzfristige Verbindlichkeiten'],\n",
    "            hovertext=[f\"{balance_sheet.loc['Kurzfristige Verbindlichkeiten', '2024'] / total_2024:.1%}\"],\n",
    "            hoverinfo='text',\n",
    "            showlegend=False\n",
    "        ))\n",
    "\n",
    "    # Legende separat hinzufügen\n",
    "    fig.add_trace(go.Bar(\n",
    "        x=[None],\n",
    "        y=[None],\n",
    "        name='Eigenkapital',\n",
    "        marker_color=colors['Eigenkapital']\n",
    "    ))\n",
    "    fig.add_trace(go.Bar(\n",
    "        x=[None],\n",
    "        y=[None],\n",
    "        name='Langfristige Verbindlichkeiten',\n",
    "        marker_color=colors['Langfristige Verbindlichkeiten']\n",
    "    ))\n",
    "    fig.add_trace(go.Bar(\n",
    "        x=[None],\n",
    "        y=[None],\n",
    "        name='Kurzfristige Verbindlichkeiten',\n",
    "        marker_color=colors['Kurzfristige Verbindlichkeiten']\n",
    "    ))\n",
    "\n",
    "    # Layout anpassen für gestapeltes Balkendiagramm\n",
    "    fig.update_layout(\n",
    "        barmode='stack',\n",
    "        title='Kapital und Verbindlichkeiten der Unternehmen (2023 vs 2024)',\n",
    "        xaxis_title='Unternehmen und Jahr',\n",
    "        yaxis_title='Betrag',\n",
    "        legend_title='Komponenten',\n",
    "        xaxis=dict(\n",
    "            tickmode='array',\n",
    "            tickvals=[f'{ticker} 2023' for ticker in ticker_symbols] + [f'{ticker} 2024' for ticker in ticker_symbols],\n",
    "            ticktext=[f'2023\\n{ticker}' for ticker in ticker_symbols] + [f'2024\\n{ticker}' for ticker in ticker_symbols]\n",
    "        )\n",
    "    )\n",
    "\n",
    "    # Dashboard anzeigen\n",
    "    fig.show()"
   ]
  },
  {
   "cell_type": "code",
   "execution_count": null,
   "metadata": {},
   "outputs": [
    {
     "name": "stdout",
     "output_type": "stream",
     "text": [
      "Bilanzdaten für Apple Inc. (AAPL):\n"
     ]
    },
    {
     "name": "stderr",
     "output_type": "stream",
     "text": [
      "C:\\Users\\halte\\AppData\\Local\\Temp\\ipykernel_16028\\3001435398.py:7: FutureWarning:\n",
      "\n",
      "DataFrame.applymap has been deprecated. Use DataFrame.map instead.\n",
      "\n"
     ]
    },
    {
     "name": "stdout",
     "output_type": "stream",
     "text": [
      "Bilanzdaten für Microsoft Corporation (MSFT):\n"
     ]
    },
    {
     "name": "stderr",
     "output_type": "stream",
     "text": [
      "C:\\Users\\halte\\AppData\\Local\\Temp\\ipykernel_16028\\3001435398.py:7: FutureWarning:\n",
      "\n",
      "DataFrame.applymap has been deprecated. Use DataFrame.map instead.\n",
      "\n"
     ]
    },
    {
     "name": "stdout",
     "output_type": "stream",
     "text": [
      "Bilanzdaten für Alphabet Inc. (GOOGL):\n"
     ]
    },
    {
     "name": "stderr",
     "output_type": "stream",
     "text": [
      "C:\\Users\\halte\\AppData\\Local\\Temp\\ipykernel_16028\\3001435398.py:7: FutureWarning:\n",
      "\n",
      "DataFrame.applymap has been deprecated. Use DataFrame.map instead.\n",
      "\n"
     ]
    },
    {
     "data": {
      "application/vnd.plotly.v1+json": {
       "config": {
        "plotlyServerURL": "https://plot.ly"
       },
       "data": [
        {
         "hoverinfo": "text",
         "hovertext": [
          "17.6%"
         ],
         "marker": {
          "color": "blue"
         },
         "showlegend": false,
         "type": "bar",
         "x": [
          "AAPL 2023"
         ],
         "y": [
          59150562100.64888
         ]
        },
        {
         "hoverinfo": "text",
         "hovertext": [
          "41.2%"
         ],
         "marker": {
          "color": "red"
         },
         "showlegend": false,
         "type": "bar",
         "x": [
          "AAPL 2023"
         ],
         "y": [
          138133780566.81155
         ]
        },
        {
         "hoverinfo": "text",
         "hovertext": [
          "41.2%"
         ],
         "marker": {
          "color": "green"
         },
         "showlegend": false,
         "type": "bar",
         "x": [
          "AAPL 2023"
         ],
         "y": [
          138304152764.7972
         ]
        },
        {
         "hoverinfo": "text",
         "hovertext": [
          "15.6%"
         ],
         "marker": {
          "color": "blue"
         },
         "showlegend": false,
         "type": "bar",
         "x": [
          "AAPL 2024"
         ],
         "y": [
          54205009359.12132
         ]
        },
        {
         "hoverinfo": "text",
         "hovertext": [
          "36.1%"
         ],
         "marker": {
          "color": "red"
         },
         "showlegend": false,
         "type": "bar",
         "x": [
          "AAPL 2024"
         ],
         "y": [
          125293046918.6306
         ]
        },
        {
         "hoverinfo": "text",
         "hovertext": [
          "48.3%"
         ],
         "marker": {
          "color": "green"
         },
         "showlegend": false,
         "type": "bar",
         "x": [
          "AAPL 2024"
         ],
         "y": [
          167889903614.99786
         ]
        },
        {
         "hoverinfo": "text",
         "hovertext": [
          "50.1%"
         ],
         "marker": {
          "color": "blue"
         },
         "showlegend": false,
         "type": "bar",
         "x": [
          "MSFT 2023"
         ],
         "y": [
          196283049079.29898
         ]
        },
        {
         "hoverinfo": "text",
         "hovertext": [
          "24.7%"
         ],
         "marker": {
          "color": "red"
         },
         "showlegend": false,
         "type": "bar",
         "x": [
          "MSFT 2023"
         ],
         "y": [
          96706686056.61392
         ]
        },
        {
         "hoverinfo": "text",
         "hovertext": [
          "25.3%"
         ],
         "marker": {
          "color": "green"
         },
         "showlegend": false,
         "type": "bar",
         "x": [
          "MSFT 2023"
         ],
         "y": [
          99129017027.97412
         ]
        },
        {
         "hoverinfo": "text",
         "hovertext": [
          "52.4%"
         ],
         "marker": {
          "color": "blue"
         },
         "showlegend": false,
         "type": "bar",
         "x": [
          "MSFT 2024"
         ],
         "y": [
          255536405578.73248
         ]
        },
        {
         "hoverinfo": "text",
         "hovertext": [
          "23.1%"
         ],
         "marker": {
          "color": "red"
         },
         "showlegend": false,
         "type": "bar",
         "x": [
          "MSFT 2024"
         ],
         "y": [
          112693118667.60254
         ]
        },
        {
         "hoverinfo": "text",
         "hovertext": [
          "24.5%"
         ],
         "marker": {
          "color": "green"
         },
         "showlegend": false,
         "type": "bar",
         "x": [
          "MSFT 2024"
         ],
         "y": [
          119247213390.11192
         ]
        },
        {
         "hoverinfo": "text",
         "hovertext": [
          "70.4%"
         ],
         "marker": {
          "color": "blue"
         },
         "showlegend": false,
         "type": "bar",
         "x": [
          "GOOGL 2023"
         ],
         "y": [
          269720129011.03497
         ]
        },
        {
         "hoverinfo": "text",
         "hovertext": [
          "9.2%"
         ],
         "marker": {
          "color": "red"
         },
         "showlegend": false,
         "type": "bar",
         "x": [
          "GOOGL 2023"
         ],
         "y": [
          35406007781.386375
         ]
        },
        {
         "hoverinfo": "text",
         "hovertext": [
          "20.3%"
         ],
         "marker": {
          "color": "green"
         },
         "showlegend": false,
         "type": "bar",
         "x": [
          "GOOGL 2023"
         ],
         "y": [
          77870564279.31786
         ]
        },
        {
         "hoverinfo": "text",
         "hovertext": [
          "72.2%"
         ],
         "marker": {
          "color": "blue"
         },
         "showlegend": false,
         "type": "bar",
         "x": [
          "GOOGL 2024"
         ],
         "y": [
          309414947541.71375
         ]
        },
        {
         "hoverinfo": "text",
         "hovertext": [
          "8.0%"
         ],
         "marker": {
          "color": "red"
         },
         "showlegend": false,
         "type": "bar",
         "x": [
          "GOOGL 2024"
         ],
         "y": [
          34312389594.316483
         ]
        },
        {
         "hoverinfo": "text",
         "hovertext": [
          "19.8%"
         ],
         "marker": {
          "color": "green"
         },
         "showlegend": false,
         "type": "bar",
         "x": [
          "GOOGL 2024"
         ],
         "y": [
          84826318597.07832
         ]
        },
        {
         "marker": {
          "color": "blue"
         },
         "name": "Eigenkapital",
         "type": "bar",
         "x": [
          null
         ],
         "y": [
          null
         ]
        },
        {
         "marker": {
          "color": "red"
         },
         "name": "Langfristige Verbindlichkeiten",
         "type": "bar",
         "x": [
          null
         ],
         "y": [
          null
         ]
        },
        {
         "marker": {
          "color": "green"
         },
         "name": "Kurzfristige Verbindlichkeiten",
         "type": "bar",
         "x": [
          null
         ],
         "y": [
          null
         ]
        }
       ],
       "layout": {
        "barmode": "stack",
        "legend": {
         "title": {
          "text": "Komponenten"
         }
        },
        "template": {
         "data": {
          "bar": [
           {
            "error_x": {
             "color": "#2a3f5f"
            },
            "error_y": {
             "color": "#2a3f5f"
            },
            "marker": {
             "line": {
              "color": "#E5ECF6",
              "width": 0.5
             },
             "pattern": {
              "fillmode": "overlay",
              "size": 10,
              "solidity": 0.2
             }
            },
            "type": "bar"
           }
          ],
          "barpolar": [
           {
            "marker": {
             "line": {
              "color": "#E5ECF6",
              "width": 0.5
             },
             "pattern": {
              "fillmode": "overlay",
              "size": 10,
              "solidity": 0.2
             }
            },
            "type": "barpolar"
           }
          ],
          "carpet": [
           {
            "aaxis": {
             "endlinecolor": "#2a3f5f",
             "gridcolor": "white",
             "linecolor": "white",
             "minorgridcolor": "white",
             "startlinecolor": "#2a3f5f"
            },
            "baxis": {
             "endlinecolor": "#2a3f5f",
             "gridcolor": "white",
             "linecolor": "white",
             "minorgridcolor": "white",
             "startlinecolor": "#2a3f5f"
            },
            "type": "carpet"
           }
          ],
          "choropleth": [
           {
            "colorbar": {
             "outlinewidth": 0,
             "ticks": ""
            },
            "type": "choropleth"
           }
          ],
          "contour": [
           {
            "colorbar": {
             "outlinewidth": 0,
             "ticks": ""
            },
            "colorscale": [
             [
              0,
              "#0d0887"
             ],
             [
              0.1111111111111111,
              "#46039f"
             ],
             [
              0.2222222222222222,
              "#7201a8"
             ],
             [
              0.3333333333333333,
              "#9c179e"
             ],
             [
              0.4444444444444444,
              "#bd3786"
             ],
             [
              0.5555555555555556,
              "#d8576b"
             ],
             [
              0.6666666666666666,
              "#ed7953"
             ],
             [
              0.7777777777777778,
              "#fb9f3a"
             ],
             [
              0.8888888888888888,
              "#fdca26"
             ],
             [
              1,
              "#f0f921"
             ]
            ],
            "type": "contour"
           }
          ],
          "contourcarpet": [
           {
            "colorbar": {
             "outlinewidth": 0,
             "ticks": ""
            },
            "type": "contourcarpet"
           }
          ],
          "heatmap": [
           {
            "colorbar": {
             "outlinewidth": 0,
             "ticks": ""
            },
            "colorscale": [
             [
              0,
              "#0d0887"
             ],
             [
              0.1111111111111111,
              "#46039f"
             ],
             [
              0.2222222222222222,
              "#7201a8"
             ],
             [
              0.3333333333333333,
              "#9c179e"
             ],
             [
              0.4444444444444444,
              "#bd3786"
             ],
             [
              0.5555555555555556,
              "#d8576b"
             ],
             [
              0.6666666666666666,
              "#ed7953"
             ],
             [
              0.7777777777777778,
              "#fb9f3a"
             ],
             [
              0.8888888888888888,
              "#fdca26"
             ],
             [
              1,
              "#f0f921"
             ]
            ],
            "type": "heatmap"
           }
          ],
          "histogram": [
           {
            "marker": {
             "pattern": {
              "fillmode": "overlay",
              "size": 10,
              "solidity": 0.2
             }
            },
            "type": "histogram"
           }
          ],
          "histogram2d": [
           {
            "colorbar": {
             "outlinewidth": 0,
             "ticks": ""
            },
            "colorscale": [
             [
              0,
              "#0d0887"
             ],
             [
              0.1111111111111111,
              "#46039f"
             ],
             [
              0.2222222222222222,
              "#7201a8"
             ],
             [
              0.3333333333333333,
              "#9c179e"
             ],
             [
              0.4444444444444444,
              "#bd3786"
             ],
             [
              0.5555555555555556,
              "#d8576b"
             ],
             [
              0.6666666666666666,
              "#ed7953"
             ],
             [
              0.7777777777777778,
              "#fb9f3a"
             ],
             [
              0.8888888888888888,
              "#fdca26"
             ],
             [
              1,
              "#f0f921"
             ]
            ],
            "type": "histogram2d"
           }
          ],
          "histogram2dcontour": [
           {
            "colorbar": {
             "outlinewidth": 0,
             "ticks": ""
            },
            "colorscale": [
             [
              0,
              "#0d0887"
             ],
             [
              0.1111111111111111,
              "#46039f"
             ],
             [
              0.2222222222222222,
              "#7201a8"
             ],
             [
              0.3333333333333333,
              "#9c179e"
             ],
             [
              0.4444444444444444,
              "#bd3786"
             ],
             [
              0.5555555555555556,
              "#d8576b"
             ],
             [
              0.6666666666666666,
              "#ed7953"
             ],
             [
              0.7777777777777778,
              "#fb9f3a"
             ],
             [
              0.8888888888888888,
              "#fdca26"
             ],
             [
              1,
              "#f0f921"
             ]
            ],
            "type": "histogram2dcontour"
           }
          ],
          "mesh3d": [
           {
            "colorbar": {
             "outlinewidth": 0,
             "ticks": ""
            },
            "type": "mesh3d"
           }
          ],
          "parcoords": [
           {
            "line": {
             "colorbar": {
              "outlinewidth": 0,
              "ticks": ""
             }
            },
            "type": "parcoords"
           }
          ],
          "pie": [
           {
            "automargin": true,
            "type": "pie"
           }
          ],
          "scatter": [
           {
            "fillpattern": {
             "fillmode": "overlay",
             "size": 10,
             "solidity": 0.2
            },
            "type": "scatter"
           }
          ],
          "scatter3d": [
           {
            "line": {
             "colorbar": {
              "outlinewidth": 0,
              "ticks": ""
             }
            },
            "marker": {
             "colorbar": {
              "outlinewidth": 0,
              "ticks": ""
             }
            },
            "type": "scatter3d"
           }
          ],
          "scattercarpet": [
           {
            "marker": {
             "colorbar": {
              "outlinewidth": 0,
              "ticks": ""
             }
            },
            "type": "scattercarpet"
           }
          ],
          "scattergeo": [
           {
            "marker": {
             "colorbar": {
              "outlinewidth": 0,
              "ticks": ""
             }
            },
            "type": "scattergeo"
           }
          ],
          "scattergl": [
           {
            "marker": {
             "colorbar": {
              "outlinewidth": 0,
              "ticks": ""
             }
            },
            "type": "scattergl"
           }
          ],
          "scattermap": [
           {
            "marker": {
             "colorbar": {
              "outlinewidth": 0,
              "ticks": ""
             }
            },
            "type": "scattermap"
           }
          ],
          "scattermapbox": [
           {
            "marker": {
             "colorbar": {
              "outlinewidth": 0,
              "ticks": ""
             }
            },
            "type": "scattermapbox"
           }
          ],
          "scatterpolar": [
           {
            "marker": {
             "colorbar": {
              "outlinewidth": 0,
              "ticks": ""
             }
            },
            "type": "scatterpolar"
           }
          ],
          "scatterpolargl": [
           {
            "marker": {
             "colorbar": {
              "outlinewidth": 0,
              "ticks": ""
             }
            },
            "type": "scatterpolargl"
           }
          ],
          "scatterternary": [
           {
            "marker": {
             "colorbar": {
              "outlinewidth": 0,
              "ticks": ""
             }
            },
            "type": "scatterternary"
           }
          ],
          "surface": [
           {
            "colorbar": {
             "outlinewidth": 0,
             "ticks": ""
            },
            "colorscale": [
             [
              0,
              "#0d0887"
             ],
             [
              0.1111111111111111,
              "#46039f"
             ],
             [
              0.2222222222222222,
              "#7201a8"
             ],
             [
              0.3333333333333333,
              "#9c179e"
             ],
             [
              0.4444444444444444,
              "#bd3786"
             ],
             [
              0.5555555555555556,
              "#d8576b"
             ],
             [
              0.6666666666666666,
              "#ed7953"
             ],
             [
              0.7777777777777778,
              "#fb9f3a"
             ],
             [
              0.8888888888888888,
              "#fdca26"
             ],
             [
              1,
              "#f0f921"
             ]
            ],
            "type": "surface"
           }
          ],
          "table": [
           {
            "cells": {
             "fill": {
              "color": "#EBF0F8"
             },
             "line": {
              "color": "white"
             }
            },
            "header": {
             "fill": {
              "color": "#C8D4E3"
             },
             "line": {
              "color": "white"
             }
            },
            "type": "table"
           }
          ]
         },
         "layout": {
          "annotationdefaults": {
           "arrowcolor": "#2a3f5f",
           "arrowhead": 0,
           "arrowwidth": 1
          },
          "autotypenumbers": "strict",
          "coloraxis": {
           "colorbar": {
            "outlinewidth": 0,
            "ticks": ""
           }
          },
          "colorscale": {
           "diverging": [
            [
             0,
             "#8e0152"
            ],
            [
             0.1,
             "#c51b7d"
            ],
            [
             0.2,
             "#de77ae"
            ],
            [
             0.3,
             "#f1b6da"
            ],
            [
             0.4,
             "#fde0ef"
            ],
            [
             0.5,
             "#f7f7f7"
            ],
            [
             0.6,
             "#e6f5d0"
            ],
            [
             0.7,
             "#b8e186"
            ],
            [
             0.8,
             "#7fbc41"
            ],
            [
             0.9,
             "#4d9221"
            ],
            [
             1,
             "#276419"
            ]
           ],
           "sequential": [
            [
             0,
             "#0d0887"
            ],
            [
             0.1111111111111111,
             "#46039f"
            ],
            [
             0.2222222222222222,
             "#7201a8"
            ],
            [
             0.3333333333333333,
             "#9c179e"
            ],
            [
             0.4444444444444444,
             "#bd3786"
            ],
            [
             0.5555555555555556,
             "#d8576b"
            ],
            [
             0.6666666666666666,
             "#ed7953"
            ],
            [
             0.7777777777777778,
             "#fb9f3a"
            ],
            [
             0.8888888888888888,
             "#fdca26"
            ],
            [
             1,
             "#f0f921"
            ]
           ],
           "sequentialminus": [
            [
             0,
             "#0d0887"
            ],
            [
             0.1111111111111111,
             "#46039f"
            ],
            [
             0.2222222222222222,
             "#7201a8"
            ],
            [
             0.3333333333333333,
             "#9c179e"
            ],
            [
             0.4444444444444444,
             "#bd3786"
            ],
            [
             0.5555555555555556,
             "#d8576b"
            ],
            [
             0.6666666666666666,
             "#ed7953"
            ],
            [
             0.7777777777777778,
             "#fb9f3a"
            ],
            [
             0.8888888888888888,
             "#fdca26"
            ],
            [
             1,
             "#f0f921"
            ]
           ]
          },
          "colorway": [
           "#636efa",
           "#EF553B",
           "#00cc96",
           "#ab63fa",
           "#FFA15A",
           "#19d3f3",
           "#FF6692",
           "#B6E880",
           "#FF97FF",
           "#FECB52"
          ],
          "font": {
           "color": "#2a3f5f"
          },
          "geo": {
           "bgcolor": "white",
           "lakecolor": "white",
           "landcolor": "#E5ECF6",
           "showlakes": true,
           "showland": true,
           "subunitcolor": "white"
          },
          "hoverlabel": {
           "align": "left"
          },
          "hovermode": "closest",
          "mapbox": {
           "style": "light"
          },
          "paper_bgcolor": "white",
          "plot_bgcolor": "#E5ECF6",
          "polar": {
           "angularaxis": {
            "gridcolor": "white",
            "linecolor": "white",
            "ticks": ""
           },
           "bgcolor": "#E5ECF6",
           "radialaxis": {
            "gridcolor": "white",
            "linecolor": "white",
            "ticks": ""
           }
          },
          "scene": {
           "xaxis": {
            "backgroundcolor": "#E5ECF6",
            "gridcolor": "white",
            "gridwidth": 2,
            "linecolor": "white",
            "showbackground": true,
            "ticks": "",
            "zerolinecolor": "white"
           },
           "yaxis": {
            "backgroundcolor": "#E5ECF6",
            "gridcolor": "white",
            "gridwidth": 2,
            "linecolor": "white",
            "showbackground": true,
            "ticks": "",
            "zerolinecolor": "white"
           },
           "zaxis": {
            "backgroundcolor": "#E5ECF6",
            "gridcolor": "white",
            "gridwidth": 2,
            "linecolor": "white",
            "showbackground": true,
            "ticks": "",
            "zerolinecolor": "white"
           }
          },
          "shapedefaults": {
           "line": {
            "color": "#2a3f5f"
           }
          },
          "ternary": {
           "aaxis": {
            "gridcolor": "white",
            "linecolor": "white",
            "ticks": ""
           },
           "baxis": {
            "gridcolor": "white",
            "linecolor": "white",
            "ticks": ""
           },
           "bgcolor": "#E5ECF6",
           "caxis": {
            "gridcolor": "white",
            "linecolor": "white",
            "ticks": ""
           }
          },
          "title": {
           "x": 0.05
          },
          "xaxis": {
           "automargin": true,
           "gridcolor": "white",
           "linecolor": "white",
           "ticks": "",
           "title": {
            "standoff": 15
           },
           "zerolinecolor": "white",
           "zerolinewidth": 2
          },
          "yaxis": {
           "automargin": true,
           "gridcolor": "white",
           "linecolor": "white",
           "ticks": "",
           "title": {
            "standoff": 15
           },
           "zerolinecolor": "white",
           "zerolinewidth": 2
          }
         }
        },
        "title": {
         "text": "Kapital und Verbindlichkeiten der Unternehmen (2023 vs 2024)"
        },
        "xaxis": {
         "tickmode": "array",
         "ticktext": [
          "2023\nAAPL",
          "2023\nMSFT",
          "2023\nGOOGL",
          "2024\nAAPL",
          "2024\nMSFT",
          "2024\nGOOGL"
         ],
         "tickvals": [
          "AAPL 2023",
          "MSFT 2023",
          "GOOGL 2023",
          "AAPL 2024",
          "MSFT 2024",
          "GOOGL 2024"
         ],
         "title": {
          "text": "Unternehmen und Jahr"
         }
        },
        "yaxis": {
         "title": {
          "text": "Betrag"
         }
        }
       }
      }
     },
     "metadata": {},
     "output_type": "display_data"
    }
   ],
   "source": [
    "# Beispielaufruf der Funktion\n",
    "create_dashboard(['AAPL', 'MSFT', 'GOOGL'])\n"
   ]
  },
  {
   "cell_type": "code",
   "execution_count": null,
   "metadata": {},
   "outputs": [],
   "source": [
    "def create_line_chart(ticker_symbols):\n",
    "    balance_sheets = {}\n",
    "    fig = go.Figure()\n",
    "\n",
    "    # Farben für die Unternehmen festlegen\n",
    "    company_colors = {ticker: generate_random_color() for ticker in ticker_symbols}\n",
    "\n",
    "    # Erstellen eines Dashboards für gegebene Unternehmen\n",
    "    for ticker in ticker_symbols:\n",
    "        balance_sheets[f'{ticker}'] = get_balance_sheet(ticker)\n",
    "\n",
    "    # Hinzufügen der Liniendiagramm-Daten für die Eigenkapitalquote\n",
    "    for ticker, balance_sheet in balance_sheets.items():\n",
    "        # Spalten umsortieren\n",
    "        balance_sheet = balance_sheet.sort_index(axis=1, ascending=True)\n",
    "        fig.add_trace(go.Scatter(\n",
    "            x=balance_sheet.columns,\n",
    "            y=balance_sheet.loc['Eigenkapitalquote'],\n",
    "            mode='lines+markers',\n",
    "            name=f'{ticker} Eigenkapitalquote',\n",
    "            line=dict(color=company_colors[ticker]),\n",
    "            visible=True\n",
    "        ))\n",
    "\n",
    "    # Hinzufügen der Liniendiagramm-Daten für die Fremdkapitalquote\n",
    "    for ticker, balance_sheet in balance_sheets.items():\n",
    "        # Spalten umsortieren\n",
    "        balance_sheet = balance_sheet.sort_index(axis=1, ascending=True)\n",
    "        fig.add_trace(go.Scatter(\n",
    "            x=balance_sheet.columns,\n",
    "            y=balance_sheet.loc['Fremdkapitalquote'],\n",
    "            mode='lines+markers',\n",
    "            name=f'{ticker} Fremdkapitalquote',\n",
    "            line=dict(color=company_colors[ticker]),\n",
    "            visible=False\n",
    "        ))\n",
    "\n",
    "    # Hinzufügen der Liniendiagramm-Daten für den statischen Verschuldungsgrad\n",
    "    for ticker, balance_sheet in balance_sheets.items():\n",
    "        fig.add_trace(go.Scatter(\n",
    "            x=balance_sheet.columns,\n",
    "            y=balance_sheet.loc['Statischer Verschuldungsgrad'],\n",
    "            mode='lines+markers',\n",
    "            name=f'{ticker} Statischer Verschuldungsgrad',\n",
    "            line=dict(color=company_colors[ticker]),\n",
    "            visible=False\n",
    "        ))\n",
    "\n",
    "    # Layout anpassen für das interaktive Diagramm\n",
    "    fig.update_layout(\n",
    "        title='Eigenkapitalquote, Fremdkapitalquote und Statischer Verschuldungsgrad',\n",
    "        xaxis_title='Jahr',\n",
    "        yaxis_title='Quote',\n",
    "        legend_title='Unternehmen',\n",
    "        updatemenus=[\n",
    "            {\n",
    "                'buttons': [\n",
    "                    {\n",
    "                        'label': 'Eigenkapitalquote',\n",
    "                        'method': 'update',\n",
    "                        'args': [{'visible': [True if i < len(ticker_symbols) else False for i in range(2 * len(ticker_symbols))]},\n",
    "                                 {'title': 'Eigenkapitalquote'}]\n",
    "                    },\n",
    "                    {\n",
    "                        'label': 'Fremdkapitalquote',\n",
    "                        'method': 'update',\n",
    "                        'args': [{'visible': [True if i < len(ticker_symbols) else False for i in range(2 * len(ticker_symbols))]},\n",
    "                                 {'title': 'Fremdkapitalquote'}]\n",
    "                    },\n",
    "                    {\n",
    "                        'label': 'Verschuldungsquote',\n",
    "                        'method': 'update',\n",
    "                        'args': [{'visible': [False if i < len(ticker_symbols) else True for i in range(2 * len(ticker_symbols))]},\n",
    "                                 {'title': 'Verschuldungsquote'}]\n",
    "                    }\n",
    "                ],\n",
    "                'direction': 'down',\n",
    "                'showactive': True\n",
    "            }\n",
    "        ]\n",
    "    )\n",
    "\n",
    "    return fig"
   ]
  },
  {
   "cell_type": "code",
   "execution_count": null,
   "metadata": {},
   "outputs": [],
   "source": [
    "\n",
    "def generate_random_color():\n",
    "    return \"#{:06x}\".format(random.randint(0, 0xFFFFFF))\n",
    "\n",
    "def create_interactive_chart(ticker_symbols):\n",
    "    balance_sheets = {}\n",
    "    fig = go.Figure()\n",
    "\n",
    "    # Farben für die Unternehmen festlegen\n",
    "    company_colors = {ticker: generate_random_color() for ticker in ticker_symbols}\n",
    "\n",
    "    # Erstellen eines Dashboards für gegebene Unternehmen\n",
    "    for ticker in ticker_symbols:\n",
    "        balance_sheets[f'{ticker}'] = get_balance_sheet(ticker)\n",
    "\n",
    "    # Hinzufügen der Liniendiagramm-Daten für die Eigenkapitalquote\n",
    "    for ticker, balance_sheet in balance_sheets.items():\n",
    "        fig.add_trace(go.Scatter(\n",
    "            x=balance_sheet.columns,\n",
    "            y=balance_sheet.loc['Eigenkapitalquote'],\n",
    "            mode='lines+markers',\n",
    "            name=f'{ticker} Eigenkapitalquote',\n",
    "            line=dict(color=company_colors[ticker]),\n",
    "            visible=True\n",
    "        ))\n",
    "\n",
    "    # Hinzufügen der Liniendiagramm-Daten für die Verschuldungsquote\n",
    "    for ticker, balance_sheet in balance_sheets.items():\n",
    "        fig.add_trace(go.Scatter(\n",
    "            x=balance_sheet.columns,\n",
    "            y=balance_sheet.loc['Verschuldungsquote'],\n",
    "            mode='lines+markers',\n",
    "            name=f'{ticker} Verschuldungsquote',\n",
    "            line=dict(color=company_colors[ticker]),\n",
    "            visible=False\n",
    "        ))\n",
    "\n",
    "    # Layout anpassen für das interaktive Diagramm\n",
    "    fig.update_layout(\n",
    "        title='Eigenkapitalquote und Verschuldungsquote',\n",
    "        xaxis_title='Jahr',\n",
    "        yaxis_title='Quote',\n",
    "        legend_title='Unternehmen',\n",
    "        updatemenus=[\n",
    "            {\n",
    "                'buttons': [\n",
    "                    {\n",
    "                        'label': 'Eigenkapitalquote',\n",
    "                        'method': 'update',\n",
    "                        'args': [{'visible': [True if i < len(ticker_symbols) else False for i in range(2 * len(ticker_symbols))]},\n",
    "                                 {'title': 'Eigenkapitalquote'}]\n",
    "                    },\n",
    "                    {\n",
    "                        'label': 'Verschuldungsquote',\n",
    "                        'method': 'update',\n",
    "                        'args': [{'visible': [False if i < len(ticker_symbols) else True for i in range(2 * len(ticker_symbols))]},\n",
    "                                 {'title': 'Verschuldungsquote'}]\n",
    "                    }\n",
    "                ],\n",
    "                'direction': 'down',\n",
    "                'showactive': True\n",
    "            }\n",
    "        ]\n",
    "    )\n",
    "\n",
    "    fig.show()"
   ]
  },
  {
   "cell_type": "code",
   "execution_count": null,
   "metadata": {},
   "outputs": [
    {
     "name": "stdout",
     "output_type": "stream",
     "text": [
      "Bilanzdaten für Apple Inc. (AAPL):\n"
     ]
    },
    {
     "name": "stderr",
     "output_type": "stream",
     "text": [
      "C:\\Users\\halte\\AppData\\Local\\Temp\\ipykernel_16028\\3001435398.py:7: FutureWarning:\n",
      "\n",
      "DataFrame.applymap has been deprecated. Use DataFrame.map instead.\n",
      "\n"
     ]
    },
    {
     "name": "stdout",
     "output_type": "stream",
     "text": [
      "Bilanzdaten für Microsoft Corporation (MSFT):\n"
     ]
    },
    {
     "name": "stderr",
     "output_type": "stream",
     "text": [
      "C:\\Users\\halte\\AppData\\Local\\Temp\\ipykernel_16028\\3001435398.py:7: FutureWarning:\n",
      "\n",
      "DataFrame.applymap has been deprecated. Use DataFrame.map instead.\n",
      "\n"
     ]
    },
    {
     "name": "stdout",
     "output_type": "stream",
     "text": [
      "Bilanzdaten für Alphabet Inc. (GOOGL):\n"
     ]
    },
    {
     "name": "stderr",
     "output_type": "stream",
     "text": [
      "C:\\Users\\halte\\AppData\\Local\\Temp\\ipykernel_16028\\3001435398.py:7: FutureWarning:\n",
      "\n",
      "DataFrame.applymap has been deprecated. Use DataFrame.map instead.\n",
      "\n"
     ]
    },
    {
     "data": {
      "application/vnd.plotly.v1+json": {
       "config": {
        "plotlyServerURL": "https://plot.ly"
       },
       "data": [
        {
         "line": {
          "color": "blue"
         },
         "mode": "lines+markers",
         "name": "AAPL Eigenkapitalquote",
         "type": "scatter",
         "visible": true,
         "x": [
          "2024",
          "2023",
          "2022",
          "2021",
          "2020"
         ],
         "y": {
          "bdata": "jRQPZfz4wz8WGvRkqY/GP5lkWK0BY8I/AfBo7M0Bxz8AAAAAAAD4fw==",
          "dtype": "f8"
         }
        },
        {
         "line": {
          "color": "green"
         },
         "mode": "lines+markers",
         "name": "MSFT Eigenkapitalquote",
         "type": "scatter",
         "visible": true,
         "x": [
          "2024",
          "2023",
          "2022",
          "2021"
         ],
         "y": {
          "bdata": "86M1z0PG4D9NtsBCrATgP4uVgwP2Nt0/HRD1+6w52z8=",
          "dtype": "f8"
         }
        },
        {
         "line": {
          "color": "red"
         },
         "mode": "lines+markers",
         "name": "GOOGL Eigenkapitalquote",
         "type": "scatter",
         "visible": true,
         "x": [
          "2024",
          "2023",
          "2022",
          "2021",
          "2020"
         ],
         "y": {
          "bdata": "Z+hp3psa5z/cKaBJGonmP1JN9eGycOY/rYAW0cJp5j8AAAAAAAD4fw==",
          "dtype": "f8"
         }
        },
        {
         "line": {
          "color": "blue"
         },
         "mode": "lines+markers",
         "name": "AAPL Verschuldungsquote",
         "type": "scatter",
         "visible": false,
         "x": [
          "2024",
          "2023",
          "2022",
          "2021",
          "2020"
         ],
         "y": {
          "bdata": "3Tq85sAB6z97+cKmFVzqP9rmqZQ/Z+s//8PlhIw/6j8AAAAAAAD4fw==",
          "dtype": "f8"
         }
        },
        {
         "line": {
          "color": "green"
         },
         "mode": "lines+markers",
         "name": "MSFT Verschuldungsquote",
         "type": "scatter",
         "visible": false,
         "x": [
          "2024",
          "2023",
          "2022",
          "2021"
         ],
         "y": {
          "bdata": "GriUYXhz3j9kk356p/bfPzo1Pv6EZOE/8ncFgilj4j8=",
          "dtype": "f8"
         }
        },
        {
         "line": {
          "color": "red"
         },
         "mode": "lines+markers",
         "name": "GOOGL Verschuldungsquote",
         "type": "scatter",
         "visible": false,
         "x": [
          "2024",
          "2023",
          "2022",
          "2021",
          "2020"
         ],
         "y": {
          "bdata": "Mi8sQ8jK0T9KrL9sy+3SP11lFTyaHtM/pf7SXXos0z8AAAAAAAD4fw==",
          "dtype": "f8"
         }
        }
       ],
       "layout": {
        "legend": {
         "title": {
          "text": "Unternehmen"
         }
        },
        "template": {
         "data": {
          "bar": [
           {
            "error_x": {
             "color": "#2a3f5f"
            },
            "error_y": {
             "color": "#2a3f5f"
            },
            "marker": {
             "line": {
              "color": "#E5ECF6",
              "width": 0.5
             },
             "pattern": {
              "fillmode": "overlay",
              "size": 10,
              "solidity": 0.2
             }
            },
            "type": "bar"
           }
          ],
          "barpolar": [
           {
            "marker": {
             "line": {
              "color": "#E5ECF6",
              "width": 0.5
             },
             "pattern": {
              "fillmode": "overlay",
              "size": 10,
              "solidity": 0.2
             }
            },
            "type": "barpolar"
           }
          ],
          "carpet": [
           {
            "aaxis": {
             "endlinecolor": "#2a3f5f",
             "gridcolor": "white",
             "linecolor": "white",
             "minorgridcolor": "white",
             "startlinecolor": "#2a3f5f"
            },
            "baxis": {
             "endlinecolor": "#2a3f5f",
             "gridcolor": "white",
             "linecolor": "white",
             "minorgridcolor": "white",
             "startlinecolor": "#2a3f5f"
            },
            "type": "carpet"
           }
          ],
          "choropleth": [
           {
            "colorbar": {
             "outlinewidth": 0,
             "ticks": ""
            },
            "type": "choropleth"
           }
          ],
          "contour": [
           {
            "colorbar": {
             "outlinewidth": 0,
             "ticks": ""
            },
            "colorscale": [
             [
              0,
              "#0d0887"
             ],
             [
              0.1111111111111111,
              "#46039f"
             ],
             [
              0.2222222222222222,
              "#7201a8"
             ],
             [
              0.3333333333333333,
              "#9c179e"
             ],
             [
              0.4444444444444444,
              "#bd3786"
             ],
             [
              0.5555555555555556,
              "#d8576b"
             ],
             [
              0.6666666666666666,
              "#ed7953"
             ],
             [
              0.7777777777777778,
              "#fb9f3a"
             ],
             [
              0.8888888888888888,
              "#fdca26"
             ],
             [
              1,
              "#f0f921"
             ]
            ],
            "type": "contour"
           }
          ],
          "contourcarpet": [
           {
            "colorbar": {
             "outlinewidth": 0,
             "ticks": ""
            },
            "type": "contourcarpet"
           }
          ],
          "heatmap": [
           {
            "colorbar": {
             "outlinewidth": 0,
             "ticks": ""
            },
            "colorscale": [
             [
              0,
              "#0d0887"
             ],
             [
              0.1111111111111111,
              "#46039f"
             ],
             [
              0.2222222222222222,
              "#7201a8"
             ],
             [
              0.3333333333333333,
              "#9c179e"
             ],
             [
              0.4444444444444444,
              "#bd3786"
             ],
             [
              0.5555555555555556,
              "#d8576b"
             ],
             [
              0.6666666666666666,
              "#ed7953"
             ],
             [
              0.7777777777777778,
              "#fb9f3a"
             ],
             [
              0.8888888888888888,
              "#fdca26"
             ],
             [
              1,
              "#f0f921"
             ]
            ],
            "type": "heatmap"
           }
          ],
          "histogram": [
           {
            "marker": {
             "pattern": {
              "fillmode": "overlay",
              "size": 10,
              "solidity": 0.2
             }
            },
            "type": "histogram"
           }
          ],
          "histogram2d": [
           {
            "colorbar": {
             "outlinewidth": 0,
             "ticks": ""
            },
            "colorscale": [
             [
              0,
              "#0d0887"
             ],
             [
              0.1111111111111111,
              "#46039f"
             ],
             [
              0.2222222222222222,
              "#7201a8"
             ],
             [
              0.3333333333333333,
              "#9c179e"
             ],
             [
              0.4444444444444444,
              "#bd3786"
             ],
             [
              0.5555555555555556,
              "#d8576b"
             ],
             [
              0.6666666666666666,
              "#ed7953"
             ],
             [
              0.7777777777777778,
              "#fb9f3a"
             ],
             [
              0.8888888888888888,
              "#fdca26"
             ],
             [
              1,
              "#f0f921"
             ]
            ],
            "type": "histogram2d"
           }
          ],
          "histogram2dcontour": [
           {
            "colorbar": {
             "outlinewidth": 0,
             "ticks": ""
            },
            "colorscale": [
             [
              0,
              "#0d0887"
             ],
             [
              0.1111111111111111,
              "#46039f"
             ],
             [
              0.2222222222222222,
              "#7201a8"
             ],
             [
              0.3333333333333333,
              "#9c179e"
             ],
             [
              0.4444444444444444,
              "#bd3786"
             ],
             [
              0.5555555555555556,
              "#d8576b"
             ],
             [
              0.6666666666666666,
              "#ed7953"
             ],
             [
              0.7777777777777778,
              "#fb9f3a"
             ],
             [
              0.8888888888888888,
              "#fdca26"
             ],
             [
              1,
              "#f0f921"
             ]
            ],
            "type": "histogram2dcontour"
           }
          ],
          "mesh3d": [
           {
            "colorbar": {
             "outlinewidth": 0,
             "ticks": ""
            },
            "type": "mesh3d"
           }
          ],
          "parcoords": [
           {
            "line": {
             "colorbar": {
              "outlinewidth": 0,
              "ticks": ""
             }
            },
            "type": "parcoords"
           }
          ],
          "pie": [
           {
            "automargin": true,
            "type": "pie"
           }
          ],
          "scatter": [
           {
            "fillpattern": {
             "fillmode": "overlay",
             "size": 10,
             "solidity": 0.2
            },
            "type": "scatter"
           }
          ],
          "scatter3d": [
           {
            "line": {
             "colorbar": {
              "outlinewidth": 0,
              "ticks": ""
             }
            },
            "marker": {
             "colorbar": {
              "outlinewidth": 0,
              "ticks": ""
             }
            },
            "type": "scatter3d"
           }
          ],
          "scattercarpet": [
           {
            "marker": {
             "colorbar": {
              "outlinewidth": 0,
              "ticks": ""
             }
            },
            "type": "scattercarpet"
           }
          ],
          "scattergeo": [
           {
            "marker": {
             "colorbar": {
              "outlinewidth": 0,
              "ticks": ""
             }
            },
            "type": "scattergeo"
           }
          ],
          "scattergl": [
           {
            "marker": {
             "colorbar": {
              "outlinewidth": 0,
              "ticks": ""
             }
            },
            "type": "scattergl"
           }
          ],
          "scattermap": [
           {
            "marker": {
             "colorbar": {
              "outlinewidth": 0,
              "ticks": ""
             }
            },
            "type": "scattermap"
           }
          ],
          "scattermapbox": [
           {
            "marker": {
             "colorbar": {
              "outlinewidth": 0,
              "ticks": ""
             }
            },
            "type": "scattermapbox"
           }
          ],
          "scatterpolar": [
           {
            "marker": {
             "colorbar": {
              "outlinewidth": 0,
              "ticks": ""
             }
            },
            "type": "scatterpolar"
           }
          ],
          "scatterpolargl": [
           {
            "marker": {
             "colorbar": {
              "outlinewidth": 0,
              "ticks": ""
             }
            },
            "type": "scatterpolargl"
           }
          ],
          "scatterternary": [
           {
            "marker": {
             "colorbar": {
              "outlinewidth": 0,
              "ticks": ""
             }
            },
            "type": "scatterternary"
           }
          ],
          "surface": [
           {
            "colorbar": {
             "outlinewidth": 0,
             "ticks": ""
            },
            "colorscale": [
             [
              0,
              "#0d0887"
             ],
             [
              0.1111111111111111,
              "#46039f"
             ],
             [
              0.2222222222222222,
              "#7201a8"
             ],
             [
              0.3333333333333333,
              "#9c179e"
             ],
             [
              0.4444444444444444,
              "#bd3786"
             ],
             [
              0.5555555555555556,
              "#d8576b"
             ],
             [
              0.6666666666666666,
              "#ed7953"
             ],
             [
              0.7777777777777778,
              "#fb9f3a"
             ],
             [
              0.8888888888888888,
              "#fdca26"
             ],
             [
              1,
              "#f0f921"
             ]
            ],
            "type": "surface"
           }
          ],
          "table": [
           {
            "cells": {
             "fill": {
              "color": "#EBF0F8"
             },
             "line": {
              "color": "white"
             }
            },
            "header": {
             "fill": {
              "color": "#C8D4E3"
             },
             "line": {
              "color": "white"
             }
            },
            "type": "table"
           }
          ]
         },
         "layout": {
          "annotationdefaults": {
           "arrowcolor": "#2a3f5f",
           "arrowhead": 0,
           "arrowwidth": 1
          },
          "autotypenumbers": "strict",
          "coloraxis": {
           "colorbar": {
            "outlinewidth": 0,
            "ticks": ""
           }
          },
          "colorscale": {
           "diverging": [
            [
             0,
             "#8e0152"
            ],
            [
             0.1,
             "#c51b7d"
            ],
            [
             0.2,
             "#de77ae"
            ],
            [
             0.3,
             "#f1b6da"
            ],
            [
             0.4,
             "#fde0ef"
            ],
            [
             0.5,
             "#f7f7f7"
            ],
            [
             0.6,
             "#e6f5d0"
            ],
            [
             0.7,
             "#b8e186"
            ],
            [
             0.8,
             "#7fbc41"
            ],
            [
             0.9,
             "#4d9221"
            ],
            [
             1,
             "#276419"
            ]
           ],
           "sequential": [
            [
             0,
             "#0d0887"
            ],
            [
             0.1111111111111111,
             "#46039f"
            ],
            [
             0.2222222222222222,
             "#7201a8"
            ],
            [
             0.3333333333333333,
             "#9c179e"
            ],
            [
             0.4444444444444444,
             "#bd3786"
            ],
            [
             0.5555555555555556,
             "#d8576b"
            ],
            [
             0.6666666666666666,
             "#ed7953"
            ],
            [
             0.7777777777777778,
             "#fb9f3a"
            ],
            [
             0.8888888888888888,
             "#fdca26"
            ],
            [
             1,
             "#f0f921"
            ]
           ],
           "sequentialminus": [
            [
             0,
             "#0d0887"
            ],
            [
             0.1111111111111111,
             "#46039f"
            ],
            [
             0.2222222222222222,
             "#7201a8"
            ],
            [
             0.3333333333333333,
             "#9c179e"
            ],
            [
             0.4444444444444444,
             "#bd3786"
            ],
            [
             0.5555555555555556,
             "#d8576b"
            ],
            [
             0.6666666666666666,
             "#ed7953"
            ],
            [
             0.7777777777777778,
             "#fb9f3a"
            ],
            [
             0.8888888888888888,
             "#fdca26"
            ],
            [
             1,
             "#f0f921"
            ]
           ]
          },
          "colorway": [
           "#636efa",
           "#EF553B",
           "#00cc96",
           "#ab63fa",
           "#FFA15A",
           "#19d3f3",
           "#FF6692",
           "#B6E880",
           "#FF97FF",
           "#FECB52"
          ],
          "font": {
           "color": "#2a3f5f"
          },
          "geo": {
           "bgcolor": "white",
           "lakecolor": "white",
           "landcolor": "#E5ECF6",
           "showlakes": true,
           "showland": true,
           "subunitcolor": "white"
          },
          "hoverlabel": {
           "align": "left"
          },
          "hovermode": "closest",
          "mapbox": {
           "style": "light"
          },
          "paper_bgcolor": "white",
          "plot_bgcolor": "#E5ECF6",
          "polar": {
           "angularaxis": {
            "gridcolor": "white",
            "linecolor": "white",
            "ticks": ""
           },
           "bgcolor": "#E5ECF6",
           "radialaxis": {
            "gridcolor": "white",
            "linecolor": "white",
            "ticks": ""
           }
          },
          "scene": {
           "xaxis": {
            "backgroundcolor": "#E5ECF6",
            "gridcolor": "white",
            "gridwidth": 2,
            "linecolor": "white",
            "showbackground": true,
            "ticks": "",
            "zerolinecolor": "white"
           },
           "yaxis": {
            "backgroundcolor": "#E5ECF6",
            "gridcolor": "white",
            "gridwidth": 2,
            "linecolor": "white",
            "showbackground": true,
            "ticks": "",
            "zerolinecolor": "white"
           },
           "zaxis": {
            "backgroundcolor": "#E5ECF6",
            "gridcolor": "white",
            "gridwidth": 2,
            "linecolor": "white",
            "showbackground": true,
            "ticks": "",
            "zerolinecolor": "white"
           }
          },
          "shapedefaults": {
           "line": {
            "color": "#2a3f5f"
           }
          },
          "ternary": {
           "aaxis": {
            "gridcolor": "white",
            "linecolor": "white",
            "ticks": ""
           },
           "baxis": {
            "gridcolor": "white",
            "linecolor": "white",
            "ticks": ""
           },
           "bgcolor": "#E5ECF6",
           "caxis": {
            "gridcolor": "white",
            "linecolor": "white",
            "ticks": ""
           }
          },
          "title": {
           "x": 0.05
          },
          "xaxis": {
           "automargin": true,
           "gridcolor": "white",
           "linecolor": "white",
           "ticks": "",
           "title": {
            "standoff": 15
           },
           "zerolinecolor": "white",
           "zerolinewidth": 2
          },
          "yaxis": {
           "automargin": true,
           "gridcolor": "white",
           "linecolor": "white",
           "ticks": "",
           "title": {
            "standoff": 15
           },
           "zerolinecolor": "white",
           "zerolinewidth": 2
          }
         }
        },
        "title": {
         "text": "Eigenkapitalquote und Verschuldungsquote"
        },
        "updatemenus": [
         {
          "buttons": [
           {
            "args": [
             {
              "visible": [
               true,
               true,
               true,
               false,
               false,
               false
              ]
             },
             {
              "title": "Eigenkapitalquote"
             }
            ],
            "label": "Eigenkapitalquote",
            "method": "update"
           },
           {
            "args": [
             {
              "visible": [
               false,
               false,
               false,
               true,
               true,
               true
              ]
             },
             {
              "title": "Verschuldungsquote"
             }
            ],
            "label": "Verschuldungsquote",
            "method": "update"
           }
          ],
          "direction": "down",
          "showactive": true
         }
        ],
        "xaxis": {
         "title": {
          "text": "Jahr"
         }
        },
        "yaxis": {
         "title": {
          "text": "Quote"
         }
        }
       }
      }
     },
     "metadata": {},
     "output_type": "display_data"
    }
   ],
   "source": [
    "create_interactive_chart(['AAPL', 'MSFT', 'GOOGL'])"
   ]
  },
  {
   "cell_type": "code",
   "execution_count": null,
   "metadata": {},
   "outputs": [],
   "source": []
  },
  {
   "cell_type": "code",
   "execution_count": null,
   "metadata": {},
   "outputs": [],
   "source": [
    "def concat_filtered_balance_sheets(ticker_symbols):\n",
    "    balance_sheets = {}\n",
    "    \n",
    "    # Lade die gefilterten Bilanzdaten für jedes Unternehmen und speichere sie im Dictionary\n",
    "    for ticker in ticker_symbols:\n",
    "        balance_sheets[f'{ticker}'] = get_filtered_balance_sheet(ticker)\n",
    "    \n",
    "    # Umrechnung der Werte von Dollar in Euro\n",
    "    for key, df in balance_sheets.items():\n",
    "        balance_sheets[key] = convert_dataframe_to_euro(df)\n",
    "\n",
    "    # Berchnene der KPIs für jedes Unternehmen\n",
    "    for key, df in balance_sheets.items():\n",
    "        balance_sheets[key] = calculate_kpis(df)\n",
    "\n",
    "    # Übersetzen der Indices in Deutsch\n",
    "    for key, df in balance_sheets.items():\n",
    "        balance_sheets[key] = translate_indices(df)\n",
    "        \n",
    "    # Konkatinieren der DataFrames\n",
    "    df_combined = pd.concat(balance_sheets.values(), keys=balance_sheets.keys(), names=['Company', 'Index'])\n",
    "    \n",
    "    return df_combined"
   ]
  },
  {
   "cell_type": "code",
   "execution_count": null,
   "metadata": {},
   "outputs": [
    {
     "name": "stdout",
     "output_type": "stream",
     "text": [
      "Bilanzdaten für Apple Inc. (AAPL):\n",
      "Bilanzdaten für Microsoft Corporation (MSFT):\n"
     ]
    },
    {
     "name": "stderr",
     "output_type": "stream",
     "text": [
      "C:\\Users\\halte\\AppData\\Local\\Temp\\ipykernel_16028\\3001435398.py:7: FutureWarning:\n",
      "\n",
      "DataFrame.applymap has been deprecated. Use DataFrame.map instead.\n",
      "\n",
      "C:\\Users\\halte\\AppData\\Local\\Temp\\ipykernel_16028\\3001435398.py:7: FutureWarning:\n",
      "\n",
      "DataFrame.applymap has been deprecated. Use DataFrame.map instead.\n",
      "\n"
     ]
    },
    {
     "data": {
      "text/html": [
       "<div>\n",
       "<style scoped>\n",
       "    .dataframe tbody tr th:only-of-type {\n",
       "        vertical-align: middle;\n",
       "    }\n",
       "\n",
       "    .dataframe tbody tr th {\n",
       "        vertical-align: top;\n",
       "    }\n",
       "\n",
       "    .dataframe thead th {\n",
       "        text-align: right;\n",
       "    }\n",
       "</style>\n",
       "<table border=\"1\" class=\"dataframe\">\n",
       "  <thead>\n",
       "    <tr style=\"text-align: right;\">\n",
       "      <th></th>\n",
       "      <th></th>\n",
       "      <th>2024</th>\n",
       "      <th>2023</th>\n",
       "      <th>2022</th>\n",
       "      <th>2021</th>\n",
       "      <th>2020</th>\n",
       "    </tr>\n",
       "    <tr>\n",
       "      <th>Company</th>\n",
       "      <th>Index</th>\n",
       "      <th></th>\n",
       "      <th></th>\n",
       "      <th></th>\n",
       "      <th></th>\n",
       "      <th></th>\n",
       "    </tr>\n",
       "  </thead>\n",
       "  <tbody>\n",
       "    <tr>\n",
       "      <th rowspan=\"17\" valign=\"top\">AAPL</th>\n",
       "      <th>Gesamtanlagevermögen</th>\n",
       "      <td>2.018809e+11</td>\n",
       "      <td>1.990469e+11</td>\n",
       "      <td>2.069824e+11</td>\n",
       "      <td>2.058549e+11</td>\n",
       "      <td>NaN</td>\n",
       "    </tr>\n",
       "    <tr>\n",
       "      <th>Umlaufvermögen</th>\n",
       "      <td>1.456895e+11</td>\n",
       "      <td>1.367179e+11</td>\n",
       "      <td>1.289462e+11</td>\n",
       "      <td>1.284043e+11</td>\n",
       "      <td>NaN</td>\n",
       "    </tr>\n",
       "    <tr>\n",
       "      <th>Inventory</th>\n",
       "      <td>6.938458e+09</td>\n",
       "      <td>6.029011e+09</td>\n",
       "      <td>4.710076e+09</td>\n",
       "      <td>6.266134e+09</td>\n",
       "      <td>NaN</td>\n",
       "    </tr>\n",
       "    <tr>\n",
       "      <th>Forderungen</th>\n",
       "      <td>6.308321e+10</td>\n",
       "      <td>5.807602e+10</td>\n",
       "      <td>5.802554e+10</td>\n",
       "      <td>4.904916e+10</td>\n",
       "      <td>NaN</td>\n",
       "    </tr>\n",
       "    <tr>\n",
       "      <th>Cash Cash Equivalents And Short Term Investments</th>\n",
       "      <td>6.206234e+10</td>\n",
       "      <td>5.861883e+10</td>\n",
       "      <td>4.599990e+10</td>\n",
       "      <td>5.965112e+10</td>\n",
       "      <td>NaN</td>\n",
       "    </tr>\n",
       "    <tr>\n",
       "      <th>Eigenkapital</th>\n",
       "      <td>5.423349e+10</td>\n",
       "      <td>5.918164e+10</td>\n",
       "      <td>4.825495e+10</td>\n",
       "      <td>6.008061e+10</td>\n",
       "      <td>NaN</td>\n",
       "    </tr>\n",
       "    <tr>\n",
       "      <th>Gesamtverbindlichkeiten ohne Minderheitsanteile</th>\n",
       "      <td>2.933370e+11</td>\n",
       "      <td>2.765832e+11</td>\n",
       "      <td>2.876736e+11</td>\n",
       "      <td>2.741786e+11</td>\n",
       "      <td>NaN</td>\n",
       "    </tr>\n",
       "    <tr>\n",
       "      <th>Kurzfristige Verbindlichkeiten</th>\n",
       "      <td>1.679781e+11</td>\n",
       "      <td>1.383768e+11</td>\n",
       "      <td>1.466371e+11</td>\n",
       "      <td>1.194956e+11</td>\n",
       "      <td>NaN</td>\n",
       "    </tr>\n",
       "    <tr>\n",
       "      <th>Langfristige Verbindlichkeiten</th>\n",
       "      <td>1.253589e+11</td>\n",
       "      <td>1.382063e+11</td>\n",
       "      <td>1.410366e+11</td>\n",
       "      <td>1.546830e+11</td>\n",
       "      <td>NaN</td>\n",
       "    </tr>\n",
       "    <tr>\n",
       "      <th>Eigenkapitalquote</th>\n",
       "      <td>1.560359e-01</td>\n",
       "      <td>1.762592e-01</td>\n",
       "      <td>1.436464e-01</td>\n",
       "      <td>1.797426e-01</td>\n",
       "      <td>NaN</td>\n",
       "    </tr>\n",
       "    <tr>\n",
       "      <th>Verschuldungsquote</th>\n",
       "      <td>8.439641e-01</td>\n",
       "      <td>8.237408e-01</td>\n",
       "      <td>8.563536e-01</td>\n",
       "      <td>8.202574e-01</td>\n",
       "      <td>NaN</td>\n",
       "    </tr>\n",
       "    <tr>\n",
       "      <th>Statischer Verschuldungsgrad</th>\n",
       "      <td>5.408780e+00</td>\n",
       "      <td>4.673462e+00</td>\n",
       "      <td>5.961537e+00</td>\n",
       "      <td>4.563512e+00</td>\n",
       "      <td>NaN</td>\n",
       "    </tr>\n",
       "    <tr>\n",
       "      <th>Anlageintensität</th>\n",
       "      <td>5.808346e-01</td>\n",
       "      <td>5.928164e-01</td>\n",
       "      <td>6.161500e-01</td>\n",
       "      <td>6.158540e-01</td>\n",
       "      <td>NaN</td>\n",
       "    </tr>\n",
       "    <tr>\n",
       "      <th>Umlaufquote</th>\n",
       "      <td>4.191654e-01</td>\n",
       "      <td>4.071836e-01</td>\n",
       "      <td>3.838500e-01</td>\n",
       "      <td>3.841460e-01</td>\n",
       "      <td>NaN</td>\n",
       "    </tr>\n",
       "    <tr>\n",
       "      <th>Forderungsquote</th>\n",
       "      <td>1.814976e-01</td>\n",
       "      <td>1.729664e-01</td>\n",
       "      <td>1.727318e-01</td>\n",
       "      <td>1.467399e-01</td>\n",
       "      <td>NaN</td>\n",
       "    </tr>\n",
       "    <tr>\n",
       "      <th>1. Liquiditätsquote</th>\n",
       "      <td>8.673126e-01</td>\n",
       "      <td>9.880117e-01</td>\n",
       "      <td>8.793560e-01</td>\n",
       "      <td>1.074553e+00</td>\n",
       "      <td>NaN</td>\n",
       "    </tr>\n",
       "    <tr>\n",
       "      <th>Netto-Umlaufvermögen</th>\n",
       "      <td>-2.228858e+10</td>\n",
       "      <td>-1.658907e+09</td>\n",
       "      <td>-1.769088e+10</td>\n",
       "      <td>8.908767e+09</td>\n",
       "      <td>NaN</td>\n",
       "    </tr>\n",
       "    <tr>\n",
       "      <th rowspan=\"13\" valign=\"top\">MSFT</th>\n",
       "      <th>Gesamtanlagevermögen</th>\n",
       "      <td>3.356181e+11</td>\n",
       "      <td>2.168568e+11</td>\n",
       "      <td>1.858471e+11</td>\n",
       "      <td>1.422479e+11</td>\n",
       "      <td>NaN</td>\n",
       "    </tr>\n",
       "    <tr>\n",
       "      <th>Umlaufvermögen</th>\n",
       "      <td>1.521147e+11</td>\n",
       "      <td>1.754679e+11</td>\n",
       "      <td>1.615901e+11</td>\n",
       "      <td>1.756098e+11</td>\n",
       "      <td>NaN</td>\n",
       "    </tr>\n",
       "    <tr>\n",
       "      <th>Inventory</th>\n",
       "      <td>1.186566e+09</td>\n",
       "      <td>2.380750e+09</td>\n",
       "      <td>3.563507e+09</td>\n",
       "      <td>2.510263e+09</td>\n",
       "      <td>NaN</td>\n",
       "    </tr>\n",
       "    <tr>\n",
       "      <th>Forderungen</th>\n",
       "      <td>5.420873e+10</td>\n",
       "      <td>4.636558e+10</td>\n",
       "      <td>4.214975e+10</td>\n",
       "      <td>3.622835e+10</td>\n",
       "      <td>NaN</td>\n",
       "    </tr>\n",
       "    <tr>\n",
       "      <th>Cash Cash Equivalents And Short Term Investments</th>\n",
       "      <td>7.192817e+10</td>\n",
       "      <td>1.059491e+11</td>\n",
       "      <td>9.975247e+10</td>\n",
       "      <td>1.240428e+11</td>\n",
       "      <td>NaN</td>\n",
       "    </tr>\n",
       "    <tr>\n",
       "      <th>Eigenkapital</th>\n",
       "      <td>2.556707e+11</td>\n",
       "      <td>1.963862e+11</td>\n",
       "      <td>1.585979e+11</td>\n",
       "      <td>1.352152e+11</td>\n",
       "      <td>NaN</td>\n",
       "    </tr>\n",
       "    <tr>\n",
       "      <th>Gesamtverbindlichkeiten ohne Minderheitsanteile</th>\n",
       "      <td>2.320622e+11</td>\n",
       "      <td>1.959386e+11</td>\n",
       "      <td>1.888392e+11</td>\n",
       "      <td>1.826426e+11</td>\n",
       "      <td>NaN</td>\n",
       "    </tr>\n",
       "    <tr>\n",
       "      <th>Kurzfristige Verbindlichkeiten</th>\n",
       "      <td>1.193099e+11</td>\n",
       "      <td>9.918109e+10</td>\n",
       "      <td>9.054659e+10</td>\n",
       "      <td>8.442806e+10</td>\n",
       "      <td>NaN</td>\n",
       "    </tr>\n",
       "    <tr>\n",
       "      <th>Langfristige Verbindlichkeiten</th>\n",
       "      <td>1.127523e+11</td>\n",
       "      <td>9.675749e+10</td>\n",
       "      <td>9.829260e+10</td>\n",
       "      <td>9.821451e+10</td>\n",
       "      <td>NaN</td>\n",
       "    </tr>\n",
       "    <tr>\n",
       "      <th>Eigenkapitalquote</th>\n",
       "      <td>5.242023e-01</td>\n",
       "      <td>5.005704e-01</td>\n",
       "      <td>4.564796e-01</td>\n",
       "      <td>4.253952e-01</td>\n",
       "      <td>NaN</td>\n",
       "    </tr>\n",
       "    <tr>\n",
       "      <th>Verschuldungsquote</th>\n",
       "      <td>4.757977e-01</td>\n",
       "      <td>4.994296e-01</td>\n",
       "      <td>5.435204e-01</td>\n",
       "      <td>5.746048e-01</td>\n",
       "      <td>NaN</td>\n",
       "    </tr>\n",
       "    <tr>\n",
       "      <th>Statischer Verschuldungsgrad</th>\n",
       "      <td>9.076606e-01</td>\n",
       "      <td>9.977209e-01</td>\n",
       "      <td>1.190679e+00</td>\n",
       "      <td>1.350755e+00</td>\n",
       "      <td>NaN</td>\n",
       "    </tr>\n",
       "    <tr>\n",
       "      <th>Anlageintensität</th>\n",
       "      <td>6.881188e-01</td>\n",
       "      <td>5.527482e-01</td>\n",
       "      <td>5.349085e-01</td>\n",
       "      <td>4.475207e-01</td>\n",
       "      <td>NaN</td>\n",
       "    </tr>\n",
       "  </tbody>\n",
       "</table>\n",
       "</div>"
      ],
      "text/plain": [
       "                                                                  2024  \\\n",
       "Company Index                                                            \n",
       "AAPL    Gesamtanlagevermögen                              2.018809e+11   \n",
       "        Umlaufvermögen                                    1.456895e+11   \n",
       "        Inventory                                         6.938458e+09   \n",
       "        Forderungen                                       6.308321e+10   \n",
       "        Cash Cash Equivalents And Short Term Investments  6.206234e+10   \n",
       "        Eigenkapital                                      5.423349e+10   \n",
       "        Gesamtverbindlichkeiten ohne Minderheitsanteile   2.933370e+11   \n",
       "        Kurzfristige Verbindlichkeiten                    1.679781e+11   \n",
       "        Langfristige Verbindlichkeiten                    1.253589e+11   \n",
       "        Eigenkapitalquote                                 1.560359e-01   \n",
       "        Verschuldungsquote                                8.439641e-01   \n",
       "        Statischer Verschuldungsgrad                      5.408780e+00   \n",
       "        Anlageintensität                                  5.808346e-01   \n",
       "        Umlaufquote                                       4.191654e-01   \n",
       "        Forderungsquote                                   1.814976e-01   \n",
       "        1. Liquiditätsquote                               8.673126e-01   \n",
       "        Netto-Umlaufvermögen                             -2.228858e+10   \n",
       "MSFT    Gesamtanlagevermögen                              3.356181e+11   \n",
       "        Umlaufvermögen                                    1.521147e+11   \n",
       "        Inventory                                         1.186566e+09   \n",
       "        Forderungen                                       5.420873e+10   \n",
       "        Cash Cash Equivalents And Short Term Investments  7.192817e+10   \n",
       "        Eigenkapital                                      2.556707e+11   \n",
       "        Gesamtverbindlichkeiten ohne Minderheitsanteile   2.320622e+11   \n",
       "        Kurzfristige Verbindlichkeiten                    1.193099e+11   \n",
       "        Langfristige Verbindlichkeiten                    1.127523e+11   \n",
       "        Eigenkapitalquote                                 5.242023e-01   \n",
       "        Verschuldungsquote                                4.757977e-01   \n",
       "        Statischer Verschuldungsgrad                      9.076606e-01   \n",
       "        Anlageintensität                                  6.881188e-01   \n",
       "\n",
       "                                                                  2023  \\\n",
       "Company Index                                                            \n",
       "AAPL    Gesamtanlagevermögen                              1.990469e+11   \n",
       "        Umlaufvermögen                                    1.367179e+11   \n",
       "        Inventory                                         6.029011e+09   \n",
       "        Forderungen                                       5.807602e+10   \n",
       "        Cash Cash Equivalents And Short Term Investments  5.861883e+10   \n",
       "        Eigenkapital                                      5.918164e+10   \n",
       "        Gesamtverbindlichkeiten ohne Minderheitsanteile   2.765832e+11   \n",
       "        Kurzfristige Verbindlichkeiten                    1.383768e+11   \n",
       "        Langfristige Verbindlichkeiten                    1.382063e+11   \n",
       "        Eigenkapitalquote                                 1.762592e-01   \n",
       "        Verschuldungsquote                                8.237408e-01   \n",
       "        Statischer Verschuldungsgrad                      4.673462e+00   \n",
       "        Anlageintensität                                  5.928164e-01   \n",
       "        Umlaufquote                                       4.071836e-01   \n",
       "        Forderungsquote                                   1.729664e-01   \n",
       "        1. Liquiditätsquote                               9.880117e-01   \n",
       "        Netto-Umlaufvermögen                             -1.658907e+09   \n",
       "MSFT    Gesamtanlagevermögen                              2.168568e+11   \n",
       "        Umlaufvermögen                                    1.754679e+11   \n",
       "        Inventory                                         2.380750e+09   \n",
       "        Forderungen                                       4.636558e+10   \n",
       "        Cash Cash Equivalents And Short Term Investments  1.059491e+11   \n",
       "        Eigenkapital                                      1.963862e+11   \n",
       "        Gesamtverbindlichkeiten ohne Minderheitsanteile   1.959386e+11   \n",
       "        Kurzfristige Verbindlichkeiten                    9.918109e+10   \n",
       "        Langfristige Verbindlichkeiten                    9.675749e+10   \n",
       "        Eigenkapitalquote                                 5.005704e-01   \n",
       "        Verschuldungsquote                                4.994296e-01   \n",
       "        Statischer Verschuldungsgrad                      9.977209e-01   \n",
       "        Anlageintensität                                  5.527482e-01   \n",
       "\n",
       "                                                                  2022  \\\n",
       "Company Index                                                            \n",
       "AAPL    Gesamtanlagevermögen                              2.069824e+11   \n",
       "        Umlaufvermögen                                    1.289462e+11   \n",
       "        Inventory                                         4.710076e+09   \n",
       "        Forderungen                                       5.802554e+10   \n",
       "        Cash Cash Equivalents And Short Term Investments  4.599990e+10   \n",
       "        Eigenkapital                                      4.825495e+10   \n",
       "        Gesamtverbindlichkeiten ohne Minderheitsanteile   2.876736e+11   \n",
       "        Kurzfristige Verbindlichkeiten                    1.466371e+11   \n",
       "        Langfristige Verbindlichkeiten                    1.410366e+11   \n",
       "        Eigenkapitalquote                                 1.436464e-01   \n",
       "        Verschuldungsquote                                8.563536e-01   \n",
       "        Statischer Verschuldungsgrad                      5.961537e+00   \n",
       "        Anlageintensität                                  6.161500e-01   \n",
       "        Umlaufquote                                       3.838500e-01   \n",
       "        Forderungsquote                                   1.727318e-01   \n",
       "        1. Liquiditätsquote                               8.793560e-01   \n",
       "        Netto-Umlaufvermögen                             -1.769088e+10   \n",
       "MSFT    Gesamtanlagevermögen                              1.858471e+11   \n",
       "        Umlaufvermögen                                    1.615901e+11   \n",
       "        Inventory                                         3.563507e+09   \n",
       "        Forderungen                                       4.214975e+10   \n",
       "        Cash Cash Equivalents And Short Term Investments  9.975247e+10   \n",
       "        Eigenkapital                                      1.585979e+11   \n",
       "        Gesamtverbindlichkeiten ohne Minderheitsanteile   1.888392e+11   \n",
       "        Kurzfristige Verbindlichkeiten                    9.054659e+10   \n",
       "        Langfristige Verbindlichkeiten                    9.829260e+10   \n",
       "        Eigenkapitalquote                                 4.564796e-01   \n",
       "        Verschuldungsquote                                5.435204e-01   \n",
       "        Statischer Verschuldungsgrad                      1.190679e+00   \n",
       "        Anlageintensität                                  5.349085e-01   \n",
       "\n",
       "                                                                  2021  2020  \n",
       "Company Index                                                                 \n",
       "AAPL    Gesamtanlagevermögen                              2.058549e+11   NaN  \n",
       "        Umlaufvermögen                                    1.284043e+11   NaN  \n",
       "        Inventory                                         6.266134e+09   NaN  \n",
       "        Forderungen                                       4.904916e+10   NaN  \n",
       "        Cash Cash Equivalents And Short Term Investments  5.965112e+10   NaN  \n",
       "        Eigenkapital                                      6.008061e+10   NaN  \n",
       "        Gesamtverbindlichkeiten ohne Minderheitsanteile   2.741786e+11   NaN  \n",
       "        Kurzfristige Verbindlichkeiten                    1.194956e+11   NaN  \n",
       "        Langfristige Verbindlichkeiten                    1.546830e+11   NaN  \n",
       "        Eigenkapitalquote                                 1.797426e-01   NaN  \n",
       "        Verschuldungsquote                                8.202574e-01   NaN  \n",
       "        Statischer Verschuldungsgrad                      4.563512e+00   NaN  \n",
       "        Anlageintensität                                  6.158540e-01   NaN  \n",
       "        Umlaufquote                                       3.841460e-01   NaN  \n",
       "        Forderungsquote                                   1.467399e-01   NaN  \n",
       "        1. Liquiditätsquote                               1.074553e+00   NaN  \n",
       "        Netto-Umlaufvermögen                              8.908767e+09   NaN  \n",
       "MSFT    Gesamtanlagevermögen                              1.422479e+11   NaN  \n",
       "        Umlaufvermögen                                    1.756098e+11   NaN  \n",
       "        Inventory                                         2.510263e+09   NaN  \n",
       "        Forderungen                                       3.622835e+10   NaN  \n",
       "        Cash Cash Equivalents And Short Term Investments  1.240428e+11   NaN  \n",
       "        Eigenkapital                                      1.352152e+11   NaN  \n",
       "        Gesamtverbindlichkeiten ohne Minderheitsanteile   1.826426e+11   NaN  \n",
       "        Kurzfristige Verbindlichkeiten                    8.442806e+10   NaN  \n",
       "        Langfristige Verbindlichkeiten                    9.821451e+10   NaN  \n",
       "        Eigenkapitalquote                                 4.253952e-01   NaN  \n",
       "        Verschuldungsquote                                5.746048e-01   NaN  \n",
       "        Statischer Verschuldungsgrad                      1.350755e+00   NaN  \n",
       "        Anlageintensität                                  4.475207e-01   NaN  "
      ]
     },
     "execution_count": 96,
     "metadata": {},
     "output_type": "execute_result"
    }
   ],
   "source": [
    "# Beispielaufruf\n",
    "ticker_symbols = ['AAPL', 'MSFT']\n",
    "df_combined = concat_filtered_balance_sheets(ticker_symbols)\n",
    "\n",
    "df_combined.head(30)"
   ]
  },
  {
   "cell_type": "code",
   "execution_count": null,
   "metadata": {},
   "outputs": [],
   "source": [
    "from flask import Flask, render_template, request, jsonify\n",
    "from flask_cors import CORS\n",
    "import yfinance as yf\n",
    "import plotly.graph_objects as go\n",
    "\n",
    "app = Flask(__name__)\n",
    "CORS(app)  # CORS für alle Routen aktivieren\n",
    "\n",
    "def get_company_info(symbols):\n",
    "    return {symbol: yf.Ticker(symbol).info for symbol in symbols}\n",
    "\n",
    "def create_company_table(symbols):\n",
    "    data = get_company_info(symbols)\n",
    "    namen = [data[symbol].get('shortName', 'N/A') for symbol in data]\n",
    "    branchen = [data[symbol].get('sector', 'N/A') for symbol in data]\n",
    "    länder = [data[symbol].get('country', 'N/A') for symbol in data]\n",
    "    mitarbeiter = [data[symbol].get('fullTimeEmployees', 'N/A') for symbol in data]\n",
    "\n",
    "    fig = go.Figure(data=[go.Table(\n",
    "        header=dict(values=['Unternehmen', 'Branche', 'Land', 'Mitarbeiter'],\n",
    "                    fill_color='paleturquoise',\n",
    "                    align='left'),\n",
    "        cells=dict(values=[namen, branchen, länder, mitarbeiter],\n",
    "                   fill_color='lavender',\n",
    "                   align='left'))\n",
    "    ])\n",
    "    return fig\n",
    "\n",
    "def get_filtered_balance_sheet(ticker_symbol):\n",
    "    indices = [\n",
    "        'Total Non Current Assets', 'Current Assets', 'Inventory', 'Receivables',\n",
    "        'Cash Cash Equivalents And Short Term Investments', 'Stockholders Equity',\n",
    "        'Total Liabilities Net Minority Interest', 'Current Liabilities',\n",
    "        'Total Non Current Liabilities Net Minority Interest'\n",
    "    ]\n",
    "    ticker = yf.Ticker(ticker_symbol)\n",
    "    balance_sheet = ticker.balancesheet\n",
    "    filtered_balance_sheet = balance_sheet.loc[indices]\n",
    "    filtered_balance_sheet.columns = filtered_balance_sheet.columns.astype(str).str[:4]\n",
    "    return filtered_balance_sheet\n",
    "\n",
    "def get_usd_to_eur_exchange_rate():\n",
    "    ticker = yf.Ticker(\"USDEUR=X\")\n",
    "    exchange_rate = ticker.history(period=\"1d\")['Close'].iloc[-1]\n",
    "    return exchange_rate\n",
    "\n",
    "def convert_dataframe_to_euro(df):\n",
    "    exchange_rate = get_usd_to_eur_exchange_rate()\n",
    "    df_euro = df.applymap(lambda value: value * exchange_rate)\n",
    "    return df_euro\n",
    "\n",
    "def calculate_kpis(df):\n",
    "    df.loc['Equity_Ratio'] = df.loc['Stockholders Equity'] / (df.loc['Stockholders Equity'] + df.loc['Total Liabilities Net Minority Interest'])\n",
    "    df.loc['Debt_Ratio'] = df.loc['Total Liabilities Net Minority Interest'] / (df.loc['Stockholders Equity'] + df.loc['Total Liabilities Net Minority Interest'])\n",
    "    df.loc['Static_Debt_Ratio'] = df.loc['Total Liabilities Net Minority Interest'] / df.loc['Stockholders Equity']\n",
    "    df.loc['Fixed_Asset_Intensity'] = df.loc['Total Non Current Assets'] / (df.loc['Current Assets'] + df.loc['Total Non Current Assets'])\n",
    "    df.loc['Current_Asset_Ratio'] = df.loc['Current Assets'] / (df.loc['Current Assets'] + df.loc['Total Non Current Assets'])\n",
    "    df.loc['Receivables_Ratio'] = df.loc['Receivables'] / (df.loc['Current Assets'] + df.loc['Total Non Current Assets'])\n",
    "    df.loc['1. Liquidity_Ratio'] = df.loc['Current Assets'] / df.loc['Current Liabilities']\n",
    "    df.loc['Net_Working_Capital'] = df.loc['Current Assets'] - df.loc['Current Liabilities']\n",
    "    return df\n",
    "\n",
    "def translate_indices(df):\n",
    "    translations = {\n",
    "        'Total Non Current Assets': 'Gesamtanlagevermögen',\n",
    "        'Current Assets': 'Umlaufvermögen',\n",
    "        'Receivables': 'Forderungen',\n",
    "        'Stockholders Equity': 'Eigenkapital',\n",
    "        'Total Liabilities Net Minority Interest': 'Gesamtverbindlichkeiten ohne Minderheitsanteile',\n",
    "        'Current Liabilities': 'Kurzfristige Verbindlichkeiten',\n",
    "        'Total Non Current Liabilities Net Minority Interest': 'Langfristige Verbindlichkeiten',\n",
    "        'Equity_Ratio': 'Eigenkapitalquote',\n",
    "        'Debt_Ratio': 'Verschuldungsquote',\n",
    "        'Static_Debt_Ratio': 'Statischer Verschuldungsgrad',\n",
    "        'Fixed_Asset_Intensity': 'Anlageintensität',\n",
    "        'Current_Asset_Ratio': 'Umlaufquote',\n",
    "        'Receivables_Ratio': 'Forderungsquote',\n",
    "        '1. Liquidity_Ratio': '1. Liquiditätsquote',\n",
    "        'Net_Working_Capital': 'Netto-Umlaufvermögen'\n",
    "    }\n",
    "    df.rename(index=translations, inplace=True)\n",
    "    return df\n",
    "\n",
    "def get_balance_sheet(ticker_symbol):\n",
    "    balance_sheet = get_filtered_balance_sheet(ticker_symbol)\n",
    "    balance_sheet_euro = convert_dataframe_to_euro(balance_sheet)\n",
    "    balance_sheet_kpi = calculate_kpis(balance_sheet_euro)\n",
    "    balance_sheet_german = translate_indices(balance_sheet_kpi)\n",
    "    return balance_sheet_german\n",
    "\n",
    "def is_valid_ticker(ticker_symbol):\n",
    "    ticker = yf.Ticker(ticker_symbol)\n",
    "    balance_sheet = ticker.balancesheet\n",
    "    return not balance_sheet.empty\n",
    "\n",
    "def create_dashboard(symbols):\n",
    "    balance_sheets = {ticker: get_balance_sheet(ticker) for ticker in symbols}\n",
    "    fig = go.Figure()\n",
    "    colors = {\n",
    "        'Eigenkapital': 'blue',\n",
    "        'Langfristige Verbindlichkeiten': 'red',\n",
    "        'Kurzfristige Verbindlichkeiten': 'green'\n",
    "    }\n",
    "    for ticker, balance_sheet in balance_sheets.items():\n",
    "        total_2023 = balance_sheet.loc['Eigenkapital', '2023'] + balance_sheet.loc['Langfristige Verbindlichkeiten', '2023'] + balance_sheet.loc['Kurzfristige Verbindlichkeiten', '2023']\n",
    "        total_2024 = balance_sheet.loc['Eigenkapital', '2024'] + balance_sheet.loc['Langfristige Verbindlichkeiten', '2024'] + balance_sheet.loc['Kurzfristige Verbindlichkeiten', '2024']\n",
    "        fig.add_trace(go.Bar(\n",
    "            x=[f'{ticker} 2023'],\n",
    "            y=[balance_sheet.loc['Eigenkapital', '2023']],\n",
    "            marker_color=colors['Eigenkapital'],\n",
    "            hovertext=[f\"{balance_sheet.loc['Eigenkapital', '2023'] / total_2023:.1%}\"],\n",
    "            hoverinfo='text',\n",
    "            showlegend=False\n",
    "        ))\n",
    "        fig.add_trace(go.Bar(\n",
    "            x=[f'{ticker} 2023'],\n",
    "            y=[balance_sheet.loc['Langfristige Verbindlichkeiten', '2023']],\n",
    "            marker_color=colors['Langfristige Verbindlichkeiten'],\n",
    "            hovertext=[f\"{balance_sheet.loc['Langfristige Verbindlichkeiten', '2023'] / total_2023:.1%}\"],\n",
    "            hoverinfo='text',\n",
    "            showlegend=False\n",
    "        ))\n",
    "        fig.add_trace(go.Bar(\n",
    "            x=[f'{ticker} 2023'],\n",
    "            y=[balance_sheet.loc['Kurzfristige Verbindlichkeiten', '2023']],\n",
    "            marker_color=colors['Kurzfristige Verbindlichkeiten'],\n",
    "            hovertext=[f\"{balance_sheet.loc['Kurzfristige Verbindlichkeiten', '2023'] / total_2023:.1%}\"],\n",
    "            hoverinfo='text',\n",
    "            showlegend=False\n",
    "        ))\n",
    "        fig.add_trace(go.Bar(\n",
    "            x=[f'{ticker} 2024'],\n",
    "            y=[balance_sheet.loc['Eigenkapital', '2024']],\n",
    "            marker_color=colors['Eigenkapital'],\n",
    "            hovertext=[f\"{balance_sheet.loc['Eigenkapital', '2024'] / total_2024:.1%}\"],\n",
    "            hoverinfo='text',\n",
    "            showlegend=False\n",
    "        ))\n",
    "        fig.add_trace(go.Bar(\n",
    "            x=[f'{ticker} 2024'],\n",
    "            y=[balance_sheet.loc['Langfristige Verbindlichkeiten', '2024']],\n",
    "            marker_color=colors['Langfristige Verbindlichkeiten'],\n",
    "            hovertext=[f\"{balance_sheet.loc['Langfristige Verbindlichkeiten', '2024'] / total_2024:.1%}\"],\n",
    "            hoverinfo='text',\n",
    "            showlegend=False\n",
    "        ))\n",
    "        fig.add_trace(go.Bar(\n",
    "            x=[f'{ticker} 2024'],\n",
    "            y=[balance_sheet.loc['Kurzfristige Verbindlichkeiten', '2024']],\n",
    "            marker_color=colors['Kurzfristige Verbindlichkeiten'],\n",
    "            hovertext=[f\"{balance_sheet.loc['Kurzfristige Verbindlichkeiten', '2024'] / total_2024:.1%}\"],\n",
    "            hoverinfo='text',\n",
    "            showlegend=False\n",
    "        ))\n",
    "    fig.add_trace(go.Bar(\n",
    "        x=[None],\n",
    "        y=[None],\n",
    "        name='Eigenkapital',\n",
    "        marker_color=colors['Eigenkapital']\n",
    "    ))\n",
    "    fig.add_trace(go.Bar(\n",
    "        x=[None],\n",
    "        y=[None],\n",
    "        name='Langfristige Verbindlichkeiten',\n",
    "        marker_color=colors['Langfristige Verbindlichkeiten']\n",
    "    ))\n",
    "    fig.add_trace(go.Bar(\n",
    "        x=[None],\n",
    "        y=[None],\n",
    "        name='Kurzfristige Verbindlichkeiten',\n",
    "        marker_color=colors['Kurzfristige Verbindlichkeiten']\n",
    "    ))\n",
    "    fig.update_layout(\n",
    "        barmode='stack',\n",
    "        title='Kapital und Verbindlichkeiten der Unternehmen (2023 vs 2024)',\n",
    "        xaxis_title='Unternehmen und Jahr',\n",
    "        yaxis_title='Betrag',\n",
    "        legend_title='Komponenten',\n",
    "        xaxis=dict(\n",
    "            tickmode='array',\n",
    "            tickvals=[f'{ticker} 2023' for ticker in symbols] + [f'{ticker} 2024' for ticker in symbols],\n",
    "            ticktext=[f'2023\\n{ticker}' for ticker in symbols] + [f'2024\\n{ticker}' for ticker in symbols]\n",
    "        )\n",
    "    )\n",
    "\n",
    "    return fig\n",
    "\n",
    "def create_line_chart(symbols):\n",
    "    balance_sheets = {ticker: get_balance_sheet(ticker) for ticker in symbols}\n",
    "    fig = go.Figure()\n",
    "\n",
    "    for ticker, balance_sheet in balance_sheets.items():\n",
    "        fig.add_trace(go.Scatter(\n",
    "            x=balance_sheet.columns,\n",
    "            y=balance_sheet.loc['Verschuldungsquote'],\n",
    "            mode='lines+markers',\n",
    "            name=f'{ticker} Verschuldungsquote'\n",
    "        ))\n",
    "        fig.add_trace(go.Scatter(\n",
    "            x=balance_sheet.columns,\n",
    "            y=balance_sheet.loc['Eigenkapitalquote'],\n",
    "            mode='lines+markers',\n",
    "            name=f'{ticker} Eigenkapitalquote'\n",
    "        ))\n",
    "\n",
    "    fig.update_layout(\n",
    "        title='Verlauf der Verschuldungsquote und Eigenkapitalquote',\n",
    "        xaxis_title='Jahr',\n",
    "        yaxis_title='Quote',\n",
    "        legend_title='Komponenten'\n",
    "    )\n",
    "\n",
    "    return fig\n",
    "\n",
    "@app.route('/')\n",
    "def index():\n",
    "    return render_template('index.html')\n",
    "\n",
    "@app.route('/update_table', methods=['POST'])\n",
    "def update_table():\n",
    "    symbols = request.json.get('symbols', [])\n",
    "    fig = create_company_table(symbols)\n",
    "    return jsonify(fig.to_json())\n",
    "\n",
    "@app.route('/update_dashboard', methods=['POST'])\n",
    "def update_dashboard():\n",
    "    symbols = request.json.get('symbols', [])\n",
    "    fig = create_dashboard(symbols)\n",
    "    return jsonify(fig.to_json())\n",
    "\n",
    "@app.route('/update_line_chart', methods=['POST'])\n",
    "def update_line_chart():\n",
    "    symbols = request.json.get('symbols', [])\n",
    "    fig = create_line_chart(symbols)\n",
    "    return jsonify(fig.to_json())\n",
    "\n",
    "@app.route('/check_ticker', methods=['POST'])\n",
    "def check_ticker():\n",
    "    ticker = request.json.get('ticker', '')\n",
    "    is_valid = is_valid_ticker(ticker)\n",
    "    return jsonify({'is_valid': is_valid})\n",
    "\n",
    "if __name__ == '__main__':\n",
    "    app.run(debug=True)\n",
    "    "
   ]
  }
 ],
 "metadata": {
  "kernelspec": {
   "display_name": ".venv",
   "language": "python",
   "name": "python3"
  },
  "language_info": {
   "codemirror_mode": {
    "name": "ipython",
    "version": 3
   },
   "file_extension": ".py",
   "mimetype": "text/x-python",
   "name": "python",
   "nbconvert_exporter": "python",
   "pygments_lexer": "ipython3",
   "version": "3.12.0"
  },
  "orig_nbformat": 4
 },
 "nbformat": 4,
 "nbformat_minor": 2
}
